{
 "cells": [
  {
   "cell_type": "code",
   "execution_count": null,
   "id": "9bc1c904",
   "metadata": {},
   "outputs": [],
   "source": [
    "#11. Write a python program to find the factorial of a number\n",
    "n= int(input(\"Enter a number: \"))\n",
    "fact=1\n",
    "if n<0:\n",
    "    print(\"Sorry, factorial does not exist for negative numbers\")\n",
    "elif n==0:\n",
    "    print(\"The factorial of 0 is 1\")\n",
    "else:\n",
    "    for i in range (1,n+1):\n",
    "        fact = fact*i\n",
    "    print(\"The factorial of\", n,\"is\",fact)"
   ]
  },
  {
   "cell_type": "code",
   "execution_count": null,
   "id": "05904475",
   "metadata": {},
   "outputs": [],
   "source": [
    "#12. Write a python program to find whether a number is prime or composite.\n",
    "n= int(input(\"Enter a number: \"))\n",
    "#Prime numbers are greater than 1.\n",
    "if n >1:\n",
    "    for i in range(2,n):\n",
    "        if (n % i) ==0:\n",
    "            print(n,\"is composite number.\")\n",
    "            print(i,\"times\",n//i,\"is\",n)\n",
    "            break\n",
    "    else:\n",
    "        print(n,\"is a prime number\")\n",
    "#if input number is less than or equal to 1, then it is not prime.\n",
    "else:\n",
    "    print(n,\"is a composite number\")"
   ]
  },
  {
   "cell_type": "code",
   "execution_count": null,
   "id": "dc04d5bd",
   "metadata": {},
   "outputs": [],
   "source": [
    "#13. Write a python program to check whether a given string is palindrome or not.\n",
    "s = str(input(\"Enter a word: \"))\n",
    "# To make it suitable for caseless comparison.\n",
    "s=s.casefold()\n",
    "# reverse the string.\n",
    "rev=reversed(s)\n",
    "\n",
    "if list(s) == list(rev):\n",
    "    print(\" The String is a palindrome.\")\n",
    "else:\n",
    "    print(\"The string is not a palindrome.\")"
   ]
  },
  {
   "cell_type": "code",
   "execution_count": null,
   "id": "d59921a6",
   "metadata": {},
   "outputs": [],
   "source": [
    "#14. Write a Python program to get the third side of right-angled triangle from two given sides.\n",
    "\n",
    "from math import sqrt\n",
    "print(\"Assume the sides are a,b,c and c is hypotenuse.\")\n",
    "choice = input('Which side (a,b,c) do you want to calculate? side:')\n",
    "if choice == 'c':\n",
    "    a = float(input('Input the length of side a:'))\n",
    "    b = float(input('Input the length of side b:'))\n",
    "    c = sqrt((a*a)+(b*b))\n",
    "    print('The length of side c is %g:' %(c))\n",
    "elif choice == 'a':\n",
    "    b = float(input('Input the length of side b:'))\n",
    "    c = float(input('Input the length of side c:'))\n",
    "    a = sqrt((c*c)-(b*b))\n",
    "    print('The length of side a is %g:' %(a))\n",
    "elif choice == 'b':\n",
    "    a = float(input('Input the length of side a:'))\n",
    "    c = float(input('Input the length of side c:'))\n",
    "    b = sqrt((c*c)-(a*a))\n",
    "    print('The length of side b is %g:' %(b))\n",
    "else:\n",
    "    print('Invalid Input')"
   ]
  },
  {
   "cell_type": "code",
   "execution_count": null,
   "id": "09d8f7fb",
   "metadata": {},
   "outputs": [],
   "source": [
    "#15 Write a python program to print the frequency of each of the characters present in a given string.\n",
    "\n",
    "s = str(input(\"Enter a word: \"))\n",
    "freq = {}\n",
    "\n",
    "for i in s:\n",
    "    if i in freq:\n",
    "        freq[i] +=1\n",
    "    else:\n",
    "        freq[i] = 1\n",
    "print (\" Count of all characters in String is : \\n\" + str(freq))\n"
   ]
  },
  {
   "cell_type": "code",
   "execution_count": null,
   "id": "8139df59",
   "metadata": {},
   "outputs": [],
   "source": []
  },
  {
   "cell_type": "code",
   "execution_count": null,
   "id": "80ef828c",
   "metadata": {},
   "outputs": [],
   "source": []
  },
  {
   "cell_type": "code",
   "execution_count": null,
   "id": "600ce96c",
   "metadata": {},
   "outputs": [],
   "source": []
  },
  {
   "cell_type": "code",
   "execution_count": null,
   "id": "f373659c",
   "metadata": {},
   "outputs": [],
   "source": []
  },
  {
   "cell_type": "code",
   "execution_count": null,
   "id": "99f9d9c2",
   "metadata": {},
   "outputs": [],
   "source": []
  }
 ],
 "metadata": {
  "kernelspec": {
   "display_name": "Python 3",
   "language": "python",
   "name": "python3"
  },
  "language_info": {
   "codemirror_mode": {
    "name": "ipython",
    "version": 3
   },
   "file_extension": ".py",
   "mimetype": "text/x-python",
   "name": "python",
   "nbconvert_exporter": "python",
   "pygments_lexer": "ipython3",
   "version": "3.8.8"
  }
 },
 "nbformat": 4,
 "nbformat_minor": 5
}
