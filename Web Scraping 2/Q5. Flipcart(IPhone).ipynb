{
 "cells": [
  {
   "cell_type": "code",
   "execution_count": null,
   "id": "e73111e2",
   "metadata": {},
   "outputs": [],
   "source": [
    "!pip install selenium"
   ]
  },
  {
   "cell_type": "code",
   "execution_count": null,
   "id": "148c6f76",
   "metadata": {},
   "outputs": [],
   "source": [
    "import selenium\n",
    "from selenium import webdriver\n",
    "import pandas as pd\n",
    "import warnings\n",
    "warnings.filterwarnings(\"ignore\")"
   ]
  },
  {
   "cell_type": "code",
   "execution_count": null,
   "id": "573dd9a4",
   "metadata": {},
   "outputs": [],
   "source": [
    "driver = webdriver.Chrome(r'C:\\Users\\Teja\\Desktop\\DATA TRAINED\\FLIP ROBO\\chromedriver.exe')"
   ]
  },
  {
   "cell_type": "code",
   "execution_count": null,
   "id": "14301893",
   "metadata": {},
   "outputs": [],
   "source": [
    "url = \"https://www.flipkart.com/apple-iphone-11-black-64-gb-includes-earpods-power-adapter/p/itm0f37c2240b217?pid=MOBFKCTSVZAXUHGR&lid=LSTMOBFKC\"\n",
    "driver.get(url)"
   ]
  },
  {
   "cell_type": "code",
   "execution_count": null,
   "id": "2ef42dc3",
   "metadata": {},
   "outputs": [],
   "source": [
    "search_btn = driver.find_element_by_xpath(\"/html/body/div[1]/div/div[3]/div[1]/div[2]/div[8]/div/div/div[5]/div/a/div/span\")\n",
    "search_btn"
   ]
  },
  {
   "cell_type": "code",
   "execution_count": null,
   "id": "8e0c9d97",
   "metadata": {},
   "outputs": [],
   "source": [
    "search_btn.click()"
   ]
  },
  {
   "cell_type": "code",
   "execution_count": null,
   "id": "ad097916",
   "metadata": {},
   "outputs": [],
   "source": [
    "scraped_ratings1 = driver.find_elements_by_xpath('//div[@class=\"_3LWZlK _1BLPMq\"]')\n",
    "len(scraped_ratings1)"
   ]
  },
  {
   "cell_type": "code",
   "execution_count": null,
   "id": "36baa1c7",
   "metadata": {},
   "outputs": [],
   "source": [
    "ratings1 = []\n",
    "\n",
    "for rating1 in scraped_ratings1:\n",
    "    ratings1.append(rating1.text)\n",
    "len(ratings1)"
   ]
  },
  {
   "cell_type": "code",
   "execution_count": null,
   "id": "027629ce",
   "metadata": {},
   "outputs": [],
   "source": [
    "ratings1"
   ]
  },
  {
   "cell_type": "code",
   "execution_count": null,
   "id": "18f5078f",
   "metadata": {},
   "outputs": [],
   "source": [
    "scraped_reviews1 = driver.find_elements_by_xpath('//p[@class=\"_2-N8zT\"]')\n",
    "len(scraped_reviews1)"
   ]
  },
  {
   "cell_type": "code",
   "execution_count": null,
   "id": "7b3de5d4",
   "metadata": {},
   "outputs": [],
   "source": [
    "reviews1 = []\n",
    "\n",
    "for review1 in scraped_reviews1:\n",
    "    reviews1.append(review1.text)\n",
    "len(reviews1)"
   ]
  },
  {
   "cell_type": "code",
   "execution_count": null,
   "id": "af7c2dd7",
   "metadata": {},
   "outputs": [],
   "source": [
    "reviews1"
   ]
  },
  {
   "cell_type": "code",
   "execution_count": null,
   "id": "c811a82b",
   "metadata": {},
   "outputs": [],
   "source": [
    "scraped_full1 = driver.find_elements_by_xpath('//div[@class=\"t-ZTKy\"]')\n",
    "len(scraped_full1)"
   ]
  },
  {
   "cell_type": "code",
   "execution_count": null,
   "id": "e5308644",
   "metadata": {},
   "outputs": [],
   "source": [
    "full_reviews1 = []\n",
    "\n",
    "for full_review1 in scraped_full1:\n",
    "    full_reviews1.append(full_review1.text)\n",
    "len(full_reviews1)"
   ]
  },
  {
   "cell_type": "code",
   "execution_count": null,
   "id": "d2cc495c",
   "metadata": {},
   "outputs": [],
   "source": [
    "full_reviews1"
   ]
  },
  {
   "cell_type": "code",
   "execution_count": null,
   "id": "8b260156",
   "metadata": {},
   "outputs": [],
   "source": [
    "search_btn2 = driver.find_element_by_xpath('/html/body/div[1]/div/div[3]/div/div/div[2]/div[13]/div/div/nav/a[2]')\n",
    "search_btn2"
   ]
  },
  {
   "cell_type": "code",
   "execution_count": null,
   "id": "ccdfd7c0",
   "metadata": {},
   "outputs": [],
   "source": [
    "search_btn2.click()"
   ]
  },
  {
   "cell_type": "code",
   "execution_count": null,
   "id": "aebb102f",
   "metadata": {},
   "outputs": [],
   "source": [
    "scraped_ratings2 = driver.find_elements_by_xpath('//div[@class=\"_3LWZlK _1BLPMq\"]')\n",
    "\n",
    "ratings2 = []\n",
    "\n",
    "for rating2 in scraped_ratings2:\n",
    "    ratings2.append(rating2.text)\n",
    "ratings2"
   ]
  },
  {
   "cell_type": "code",
   "execution_count": null,
   "id": "44ce1f71",
   "metadata": {},
   "outputs": [],
   "source": [
    "scraped_reviews2 = driver.find_elements_by_xpath('//p[@class=\"_2-N8zT\"]')\n",
    "reviews2 = []\n",
    "\n",
    "for review2 in scraped_reviews2:\n",
    "    reviews2.append(review2.text)\n",
    "reviews2"
   ]
  },
  {
   "cell_type": "code",
   "execution_count": null,
   "id": "b3e35b51",
   "metadata": {},
   "outputs": [],
   "source": [
    "scraped_full2 = driver.find_elements_by_xpath('//div[@class=\"t-ZTKy\"]')\n",
    "full_reviews2 = []\n",
    "\n",
    "for full_review2 in scraped_full2:\n",
    "    full_reviews2.append(full_review2.text)\n",
    "full_reviews2"
   ]
  },
  {
   "cell_type": "code",
   "execution_count": null,
   "id": "a226e7ac",
   "metadata": {},
   "outputs": [],
   "source": [
    "search_btn3 = driver.find_element_by_xpath('/html/body/div[1]/div/div[3]/div/div/div[2]/div[13]/div/div/nav/a[3]')\n",
    "search_btn3"
   ]
  },
  {
   "cell_type": "code",
   "execution_count": null,
   "id": "83e419ad",
   "metadata": {},
   "outputs": [],
   "source": [
    "search_btn3.click()"
   ]
  },
  {
   "cell_type": "code",
   "execution_count": null,
   "id": "d8c88413",
   "metadata": {},
   "outputs": [],
   "source": [
    "scraped_ratings3 = driver.find_elements_by_xpath('//div[@class=\"_3LWZlK _1BLPMq\"]')\n",
    "\n",
    "ratings3 = []\n",
    "\n",
    "for rating3 in scraped_ratings3:\n",
    "    ratings3.append(rating3.text)\n",
    "ratings3"
   ]
  },
  {
   "cell_type": "code",
   "execution_count": null,
   "id": "29cedb2b",
   "metadata": {},
   "outputs": [],
   "source": [
    "scraped_reviews3 = driver.find_elements_by_xpath('//p[@class=\"_2-N8zT\"]')\n",
    "reviews3 = []\n",
    "\n",
    "for review3 in scraped_reviews3:\n",
    "    reviews3.append(review3.text)\n",
    "reviews3"
   ]
  },
  {
   "cell_type": "code",
   "execution_count": null,
   "id": "608e5c7f",
   "metadata": {},
   "outputs": [],
   "source": [
    "scraped_full3 = driver.find_elements_by_xpath('//div[@class=\"t-ZTKy\"]')\n",
    "full_reviews3 = []\n",
    "\n",
    "for full_review3 in scraped_full3:\n",
    "    full_reviews3.append(full_review3.text)\n",
    "full_reviews3"
   ]
  },
  {
   "cell_type": "code",
   "execution_count": null,
   "id": "bd52b8ed",
   "metadata": {},
   "outputs": [],
   "source": [
    "search_btn4 = driver.find_element_by_xpath('/html/body/div[1]/div/div[3]/div/div/div[2]/div[13]/div/div/nav/a[4]')\n",
    "search_btn4"
   ]
  },
  {
   "cell_type": "code",
   "execution_count": null,
   "id": "953afdac",
   "metadata": {},
   "outputs": [],
   "source": [
    "search_btn4.click()"
   ]
  },
  {
   "cell_type": "code",
   "execution_count": null,
   "id": "3b280080",
   "metadata": {},
   "outputs": [],
   "source": [
    "scraped_ratings4 = driver.find_elements_by_xpath('//div[@class=\"_3LWZlK _1BLPMq\"]')\n",
    "\n",
    "ratings4 = []\n",
    "\n",
    "for rating4 in scraped_ratings4:\n",
    "    ratings4.append(rating4.text)\n",
    "ratings4"
   ]
  },
  {
   "cell_type": "code",
   "execution_count": null,
   "id": "5bcbf1c7",
   "metadata": {},
   "outputs": [],
   "source": [
    "scraped_reviews4 = driver.find_elements_by_xpath('//p[@class=\"_2-N8zT\"]')\n",
    "reviews4 = []\n",
    "\n",
    "for review4 in scraped_reviews4:\n",
    "    reviews4.append(review4.text)\n",
    "reviews4"
   ]
  },
  {
   "cell_type": "code",
   "execution_count": null,
   "id": "87a22340",
   "metadata": {},
   "outputs": [],
   "source": [
    "scraped_full4 = driver.find_elements_by_xpath('//div[@class=\"t-ZTKy\"]')\n",
    "full_reviews4 = []\n",
    "\n",
    "for full_review4 in scraped_full4:\n",
    "    full_reviews4.append(full_review4.text)\n",
    "full_reviews4"
   ]
  },
  {
   "cell_type": "code",
   "execution_count": null,
   "id": "af4d8f88",
   "metadata": {},
   "outputs": [],
   "source": [
    "search_btn5 = driver.find_element_by_xpath('/html/body/div[1]/div/div[3]/div/div/div[2]/div[13]/div/div/nav/a[5]')\n",
    "search_btn5"
   ]
  },
  {
   "cell_type": "code",
   "execution_count": null,
   "id": "276abd39",
   "metadata": {},
   "outputs": [],
   "source": [
    "search_btn5.click()"
   ]
  },
  {
   "cell_type": "code",
   "execution_count": null,
   "id": "a6921be8",
   "metadata": {},
   "outputs": [],
   "source": [
    "scraped_ratings5 = driver.find_elements_by_xpath('//div[@class=\"_3LWZlK _1BLPMq\"]')\n",
    "\n",
    "ratings5 = []\n",
    "\n",
    "for rating5 in scraped_ratings5:\n",
    "    ratings5.append(rating5.text)\n",
    "ratings5"
   ]
  },
  {
   "cell_type": "code",
   "execution_count": null,
   "id": "aff061f0",
   "metadata": {},
   "outputs": [],
   "source": [
    "scraped_reviews5 = driver.find_elements_by_xpath('//p[@class=\"_2-N8zT\"]')\n",
    "reviews5 = []\n",
    "\n",
    "for review5 in scraped_reviews5:\n",
    "    reviews5.append(review5.text)\n",
    "reviews5"
   ]
  },
  {
   "cell_type": "code",
   "execution_count": null,
   "id": "683652b9",
   "metadata": {},
   "outputs": [],
   "source": [
    "scraped_full5 = driver.find_elements_by_xpath('//div[@class=\"t-ZTKy\"]')\n",
    "full_reviews5 = []\n",
    "\n",
    "for full_review5 in scraped_full5:\n",
    "    full_reviews5.append(full_review5.text)\n",
    "full_reviews5"
   ]
  },
  {
   "cell_type": "code",
   "execution_count": null,
   "id": "f6b6e31a",
   "metadata": {},
   "outputs": [],
   "source": [
    "search_btn6 = driver.find_element_by_xpath('/html/body/div[1]/div/div[3]/div/div/div[2]/div[13]/div/div/nav/a[6]')\n",
    "search_btn6"
   ]
  },
  {
   "cell_type": "code",
   "execution_count": null,
   "id": "f5eabb34",
   "metadata": {},
   "outputs": [],
   "source": [
    "search_btn6.click()"
   ]
  },
  {
   "cell_type": "code",
   "execution_count": null,
   "id": "fe36b48d",
   "metadata": {},
   "outputs": [],
   "source": [
    "scraped_ratings6 = driver.find_elements_by_xpath('//div[@class=\"_3LWZlK _1BLPMq\"]')\n",
    "ratings6 = []\n",
    "\n",
    "for rating6 in scraped_ratings6:\n",
    "    ratings6.append(rating6.text)\n",
    "ratings6"
   ]
  },
  {
   "cell_type": "code",
   "execution_count": null,
   "id": "cec05ea8",
   "metadata": {},
   "outputs": [],
   "source": [
    "scraped_reviews6 = driver.find_elements_by_xpath('//p[@class=\"_2-N8zT\"]')\n",
    "reviews6 = []\n",
    "\n",
    "for review6 in scraped_reviews6:\n",
    "    reviews6.append(review6.text)\n",
    "reviews6"
   ]
  },
  {
   "cell_type": "code",
   "execution_count": null,
   "id": "8f9b98f8",
   "metadata": {},
   "outputs": [],
   "source": [
    "scraped_full6 = driver.find_elements_by_xpath('//div[@class=\"t-ZTKy\"]')\n",
    "full_reviews6 = []\n",
    "\n",
    "for full_review6 in scraped_full6:\n",
    "    full_reviews6.append(full_review6.text)\n",
    "full_reviews6"
   ]
  },
  {
   "cell_type": "code",
   "execution_count": null,
   "id": "e0070993",
   "metadata": {},
   "outputs": [],
   "source": [
    "search_btn7 = driver.find_element_by_xpath('/html/body/div[1]/div/div[3]/div/div/div[2]/div[13]/div/div/nav/a[7]')\n",
    "search_btn7"
   ]
  },
  {
   "cell_type": "code",
   "execution_count": null,
   "id": "acebb92b",
   "metadata": {},
   "outputs": [],
   "source": [
    "search_btn7.click()"
   ]
  },
  {
   "cell_type": "code",
   "execution_count": null,
   "id": "7ad57a81",
   "metadata": {},
   "outputs": [],
   "source": [
    "scraped_ratings7 = driver.find_elements_by_xpath('//div[@class=\"_3LWZlK _1BLPMq\"]')\n",
    "ratings7 = []\n",
    "\n",
    "for rating7 in scraped_ratings7:\n",
    "    ratings7.append(rating7.text)\n",
    "ratings7"
   ]
  },
  {
   "cell_type": "code",
   "execution_count": null,
   "id": "db5b3a0f",
   "metadata": {},
   "outputs": [],
   "source": [
    "scraped_reviews7 = driver.find_elements_by_xpath('//p[@class=\"_2-N8zT\"]')\n",
    "reviews7 = []\n",
    "\n",
    "for review7 in scraped_reviews7:\n",
    "    review7.append(review7.text)\n",
    "reviews7"
   ]
  },
  {
   "cell_type": "code",
   "execution_count": null,
   "id": "8dca91cc",
   "metadata": {},
   "outputs": [],
   "source": [
    "scraped_full7 = driver.find_elements_by_xpath('//div[@class=\"t-ZTKy\"]')\n",
    "full_reviews7 = []\n",
    "\n",
    "for full_review7 in scraped_full7:\n",
    "    full_reviews7.append(full_review7.text)\n",
    "full_reviews7"
   ]
  },
  {
   "cell_type": "code",
   "execution_count": null,
   "id": "50050651",
   "metadata": {},
   "outputs": [],
   "source": [
    "search_btn8 = driver.find_element_by_xpath('/html/body/div[1]/div/div[3]/div/div/div[2]/div[13]/div/div/nav/a[8]')\n",
    "search_btn8"
   ]
  },
  {
   "cell_type": "code",
   "execution_count": null,
   "id": "94d1062e",
   "metadata": {},
   "outputs": [],
   "source": [
    "search_btn8.click()"
   ]
  },
  {
   "cell_type": "code",
   "execution_count": null,
   "id": "ba043f0b",
   "metadata": {},
   "outputs": [],
   "source": [
    "scraped_ratings8 = driver.find_elements_by_xpath('//div[@class=\"_3LWZlK _1BLPMq\"]')\n",
    "ratings8 = []\n",
    "\n",
    "for rating8 in scraped_ratings8:\n",
    "    ratings8.append(rating8.text)\n",
    "ratings8"
   ]
  },
  {
   "cell_type": "code",
   "execution_count": null,
   "id": "e1c2053a",
   "metadata": {},
   "outputs": [],
   "source": [
    "scraped_reviews8 = driver.find_elements_by_xpath('//p[@class=\"_2-N8zT\"]')\n",
    "reviews8 = []\n",
    "\n",
    "for review8 in scraped_reviews8:\n",
    "    review8.append(review8.text)\n",
    "reviews8"
   ]
  },
  {
   "cell_type": "code",
   "execution_count": null,
   "id": "30898d83",
   "metadata": {},
   "outputs": [],
   "source": [
    "scraped_full8 = driver.find_elements_by_xpath('//div[@class=\"t-ZTKy\"]')\n",
    "full_reviews8 = []\n",
    "\n",
    "for full_review8 in scraped_full8:\n",
    "    full_reviews8.append(full_review8.text)\n",
    "full_reviews8"
   ]
  },
  {
   "cell_type": "code",
   "execution_count": null,
   "id": "f7449a54",
   "metadata": {},
   "outputs": [],
   "source": [
    "search_btn9 = driver.find_element_by_xpath('/html/body/div[1]/div/div[3]/div/div/div[2]/div[13]/div/div/nav/a[9]')\n",
    "search_btn9"
   ]
  },
  {
   "cell_type": "code",
   "execution_count": null,
   "id": "223ad8f1",
   "metadata": {},
   "outputs": [],
   "source": [
    "search_btn9.click()"
   ]
  },
  {
   "cell_type": "code",
   "execution_count": null,
   "id": "49976318",
   "metadata": {},
   "outputs": [],
   "source": [
    "scraped_ratings9 = driver.find_elements_by_xpath('//div[@class=\"_3LWZlK _1BLPMq\"]')\n",
    "ratings9 = []\n",
    "\n",
    "for rating9 in scraped_ratings9:\n",
    "    ratings9.append(rating9.text)\n",
    "ratings9"
   ]
  },
  {
   "cell_type": "code",
   "execution_count": null,
   "id": "d1c6476c",
   "metadata": {},
   "outputs": [],
   "source": [
    "scraped_reviews9 = driver.find_elements_by_xpath('//p[@class=\"_2-N8zT\"]')\n",
    "reviews9 = []\n",
    "\n",
    "for review9 in scraped_reviews9:\n",
    "    review9.append(review9.text)\n",
    "reviews9"
   ]
  },
  {
   "cell_type": "code",
   "execution_count": null,
   "id": "62afbb47",
   "metadata": {},
   "outputs": [],
   "source": [
    "scraped_full9 = driver.find_elements_by_xpath('//div[@class=\"t-ZTKy\"]')\n",
    "full_reviews9 = []\n",
    "\n",
    "for full_review9 in scraped_full9:\n",
    "    full_reviews9.append(full_review9.text)\n",
    "full_reviews9"
   ]
  },
  {
   "cell_type": "code",
   "execution_count": null,
   "id": "c5d72de9",
   "metadata": {},
   "outputs": [],
   "source": [
    "search_btn10 = driver.find_element_by_xpath('/html/body/div[1]/div/div[3]/div/div/div[2]/div[13]/div/div/nav/a[10]')\n",
    "search_btn10"
   ]
  },
  {
   "cell_type": "code",
   "execution_count": null,
   "id": "35a8a4e0",
   "metadata": {},
   "outputs": [],
   "source": [
    "search_btn10.click()"
   ]
  },
  {
   "cell_type": "code",
   "execution_count": null,
   "id": "62766448",
   "metadata": {},
   "outputs": [],
   "source": [
    "scraped_ratings10 = driver.find_elements_by_xpath('//div[@class=\"_3LWZlK _1BLPMq\"]')\n",
    "ratings10 = []\n",
    "\n",
    "for rating10 in scraped_ratings10:\n",
    "    ratings10.append(rating10.text)\n",
    "ratings9"
   ]
  },
  {
   "cell_type": "code",
   "execution_count": null,
   "id": "1c3873c7",
   "metadata": {},
   "outputs": [],
   "source": [
    "scraped_reviews10 = driver.find_elements_by_xpath('//p[@class=\"_2-N8zT\"]')\n",
    "reviews10 = []\n",
    "\n",
    "for review10 in scraped_reviews9:\n",
    "    review10.append(review9.text)\n",
    "reviews10"
   ]
  },
  {
   "cell_type": "code",
   "execution_count": null,
   "id": "e7a3691a",
   "metadata": {},
   "outputs": [],
   "source": [
    "scraped_full10 = driver.find_elements_by_xpath('//div[@class=\"t-ZTKy\"]')\n",
    "full_reviews10 = []\n",
    "\n",
    "for full_review10 in scraped_full10:\n",
    "    full_reviews10.append(full_review10.text)\n",
    "full_reviews10"
   ]
  }
 ],
 "metadata": {
  "kernelspec": {
   "display_name": "Python 3",
   "language": "python",
   "name": "python3"
  },
  "language_info": {
   "codemirror_mode": {
    "name": "ipython",
    "version": 3
   },
   "file_extension": ".py",
   "mimetype": "text/x-python",
   "name": "python",
   "nbconvert_exporter": "python",
   "pygments_lexer": "ipython3",
   "version": "3.8.8"
  }
 },
 "nbformat": 4,
 "nbformat_minor": 5
}
