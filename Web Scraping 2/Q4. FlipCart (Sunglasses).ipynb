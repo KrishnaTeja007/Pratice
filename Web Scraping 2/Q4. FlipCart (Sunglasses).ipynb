{
 "cells": [
  {
   "cell_type": "code",
   "execution_count": 1,
   "id": "064f2337",
   "metadata": {},
   "outputs": [
    {
     "name": "stdout",
     "output_type": "stream",
     "text": [
      "Requirement already satisfied: selenium in c:\\programdata\\anaconda3\\lib\\site-packages (4.1.0)\n",
      "Requirement already satisfied: trio~=0.17 in c:\\programdata\\anaconda3\\lib\\site-packages (from selenium) (0.19.0)\n",
      "Requirement already satisfied: trio-websocket~=0.9 in c:\\programdata\\anaconda3\\lib\\site-packages (from selenium) (0.9.2)\n",
      "Requirement already satisfied: urllib3[secure]~=1.26 in c:\\programdata\\anaconda3\\lib\\site-packages (from selenium) (1.26.4)\n",
      "Requirement already satisfied: async-generator>=1.9 in c:\\programdata\\anaconda3\\lib\\site-packages (from trio~=0.17->selenium) (1.10)\n",
      "Requirement already satisfied: sortedcontainers in c:\\programdata\\anaconda3\\lib\\site-packages (from trio~=0.17->selenium) (2.3.0)\n",
      "Requirement already satisfied: attrs>=19.2.0 in c:\\programdata\\anaconda3\\lib\\site-packages (from trio~=0.17->selenium) (20.3.0)\n",
      "Requirement already satisfied: cffi>=1.14 in c:\\programdata\\anaconda3\\lib\\site-packages (from trio~=0.17->selenium) (1.14.5)\n",
      "Requirement already satisfied: idna in c:\\programdata\\anaconda3\\lib\\site-packages (from trio~=0.17->selenium) (2.10)\n",
      "Requirement already satisfied: sniffio in c:\\programdata\\anaconda3\\lib\\site-packages (from trio~=0.17->selenium) (1.2.0)\n",
      "Requirement already satisfied: outcome in c:\\programdata\\anaconda3\\lib\\site-packages (from trio~=0.17->selenium) (1.1.0)\n",
      "Requirement already satisfied: pycparser in c:\\programdata\\anaconda3\\lib\\site-packages (from cffi>=1.14->trio~=0.17->selenium) (2.20)\n",
      "Requirement already satisfied: wsproto>=0.14 in c:\\programdata\\anaconda3\\lib\\site-packages (from trio-websocket~=0.9->selenium) (1.0.0)\n",
      "Requirement already satisfied: cryptography>=1.3.4 in c:\\programdata\\anaconda3\\lib\\site-packages (from urllib3[secure]~=1.26->selenium) (3.4.7)\n",
      "Requirement already satisfied: certifi in c:\\programdata\\anaconda3\\lib\\site-packages (from urllib3[secure]~=1.26->selenium) (2020.12.5)\n",
      "Requirement already satisfied: pyOpenSSL>=0.14 in c:\\programdata\\anaconda3\\lib\\site-packages (from urllib3[secure]~=1.26->selenium) (20.0.1)\n",
      "Requirement already satisfied: six>=1.5.2 in c:\\programdata\\anaconda3\\lib\\site-packages (from pyOpenSSL>=0.14->urllib3[secure]~=1.26->selenium) (1.15.0)\n",
      "Requirement already satisfied: h11<1,>=0.9.0 in c:\\programdata\\anaconda3\\lib\\site-packages (from wsproto>=0.14->trio-websocket~=0.9->selenium) (0.13.0)\n"
     ]
    }
   ],
   "source": [
    "!pip install selenium"
   ]
  },
  {
   "cell_type": "code",
   "execution_count": 2,
   "id": "417319e2",
   "metadata": {},
   "outputs": [],
   "source": [
    "import selenium\n",
    "from selenium import webdriver\n",
    "import pandas as pd\n",
    "import warnings\n",
    "warnings.filterwarnings(\"ignore\")"
   ]
  },
  {
   "cell_type": "code",
   "execution_count": 3,
   "id": "c09172b2",
   "metadata": {},
   "outputs": [],
   "source": [
    "driver = webdriver.Chrome(r'C:\\Users\\Teja\\Desktop\\DATA TRAINED\\FLIP ROBO\\chromedriver.exe')"
   ]
  },
  {
   "cell_type": "code",
   "execution_count": 4,
   "id": "9186125e",
   "metadata": {},
   "outputs": [],
   "source": [
    "url = \"https://www.flipkart.com/\"\n",
    "driver.get(url)"
   ]
  },
  {
   "cell_type": "code",
   "execution_count": 5,
   "id": "f82a58ff",
   "metadata": {},
   "outputs": [
    {
     "data": {
      "text/plain": [
       "<selenium.webdriver.remote.webelement.WebElement (session=\"9636621677067f7b5736f8e84c980e16\", element=\"a5ad77cf-2c30-4a52-b3c0-80562b52330d\")>"
      ]
     },
     "execution_count": 5,
     "metadata": {},
     "output_type": "execute_result"
    }
   ],
   "source": [
    "search_glasses = driver.find_element_by_class_name(\"_3704LK\")\n",
    "search_glasses"
   ]
  },
  {
   "cell_type": "code",
   "execution_count": 6,
   "id": "741f0ed8",
   "metadata": {},
   "outputs": [],
   "source": [
    "search_glasses.send_keys(\"sunglasses\")"
   ]
  },
  {
   "cell_type": "code",
   "execution_count": 7,
   "id": "a61fa68d",
   "metadata": {},
   "outputs": [
    {
     "data": {
      "text/plain": [
       "<selenium.webdriver.remote.webelement.WebElement (session=\"9636621677067f7b5736f8e84c980e16\", element=\"b7fb9386-2051-45fc-9a29-7d10293ce6b5\")>"
      ]
     },
     "execution_count": 7,
     "metadata": {},
     "output_type": "execute_result"
    }
   ],
   "source": [
    "search_btn = driver.find_element_by_class_name(\"_34RNph\")\n",
    "search_btn"
   ]
  },
  {
   "cell_type": "code",
   "execution_count": 8,
   "id": "2c239423",
   "metadata": {},
   "outputs": [],
   "source": [
    "search_btn.click()"
   ]
  },
  {
   "cell_type": "code",
   "execution_count": 9,
   "id": "6fb2c140",
   "metadata": {},
   "outputs": [
    {
     "data": {
      "text/plain": [
       "[<selenium.webdriver.remote.webelement.WebElement (session=\"9636621677067f7b5736f8e84c980e16\", element=\"f66b169b-019c-4416-a21c-f9ea4a644409\")>,\n",
       " <selenium.webdriver.remote.webelement.WebElement (session=\"9636621677067f7b5736f8e84c980e16\", element=\"727b96ef-9202-4eaf-a6a0-67c120be0136\")>,\n",
       " <selenium.webdriver.remote.webelement.WebElement (session=\"9636621677067f7b5736f8e84c980e16\", element=\"0dacc582-6fe1-479b-a72c-71054bafe751\")>,\n",
       " <selenium.webdriver.remote.webelement.WebElement (session=\"9636621677067f7b5736f8e84c980e16\", element=\"b6444997-3187-4322-a13a-17cc491bf403\")>,\n",
       " <selenium.webdriver.remote.webelement.WebElement (session=\"9636621677067f7b5736f8e84c980e16\", element=\"d2507827-fc08-4a61-bdfd-b0c1df5029ac\")>,\n",
       " <selenium.webdriver.remote.webelement.WebElement (session=\"9636621677067f7b5736f8e84c980e16\", element=\"9daef65f-4a01-4e76-acf1-d4140b93d7a2\")>,\n",
       " <selenium.webdriver.remote.webelement.WebElement (session=\"9636621677067f7b5736f8e84c980e16\", element=\"05d5cc24-0089-4b62-a56c-a8976e5fe46a\")>,\n",
       " <selenium.webdriver.remote.webelement.WebElement (session=\"9636621677067f7b5736f8e84c980e16\", element=\"726c1ec0-5f37-4ede-9df2-0221fa34a3b7\")>,\n",
       " <selenium.webdriver.remote.webelement.WebElement (session=\"9636621677067f7b5736f8e84c980e16\", element=\"910abe1f-b725-435e-ac37-aab6511f90f7\")>,\n",
       " <selenium.webdriver.remote.webelement.WebElement (session=\"9636621677067f7b5736f8e84c980e16\", element=\"edc0257e-644b-4574-9389-72e25f20dc5c\")>,\n",
       " <selenium.webdriver.remote.webelement.WebElement (session=\"9636621677067f7b5736f8e84c980e16\", element=\"bdbec392-d813-4e58-943d-00c2c6cb4468\")>,\n",
       " <selenium.webdriver.remote.webelement.WebElement (session=\"9636621677067f7b5736f8e84c980e16\", element=\"705928ca-a649-4695-ab1d-66814a8d328c\")>,\n",
       " <selenium.webdriver.remote.webelement.WebElement (session=\"9636621677067f7b5736f8e84c980e16\", element=\"eecc0f39-cc59-4243-bf91-4e0c9d59dfd6\")>,\n",
       " <selenium.webdriver.remote.webelement.WebElement (session=\"9636621677067f7b5736f8e84c980e16\", element=\"3d64c842-1735-437b-b7ab-8d1b147018af\")>,\n",
       " <selenium.webdriver.remote.webelement.WebElement (session=\"9636621677067f7b5736f8e84c980e16\", element=\"7e6ee761-86f8-4688-b430-fb891df8db49\")>,\n",
       " <selenium.webdriver.remote.webelement.WebElement (session=\"9636621677067f7b5736f8e84c980e16\", element=\"d92084a3-4738-496e-9790-372077f8cefe\")>,\n",
       " <selenium.webdriver.remote.webelement.WebElement (session=\"9636621677067f7b5736f8e84c980e16\", element=\"d3968619-bb08-4917-ad0f-eae7d9d0a553\")>,\n",
       " <selenium.webdriver.remote.webelement.WebElement (session=\"9636621677067f7b5736f8e84c980e16\", element=\"ccdd65c0-18cf-40cb-b430-f0b1c218eec5\")>,\n",
       " <selenium.webdriver.remote.webelement.WebElement (session=\"9636621677067f7b5736f8e84c980e16\", element=\"9383e119-c66e-4c1c-9483-aa4a41dafb3c\")>,\n",
       " <selenium.webdriver.remote.webelement.WebElement (session=\"9636621677067f7b5736f8e84c980e16\", element=\"70428271-d75a-4f10-b2bd-0442ed81dbea\")>,\n",
       " <selenium.webdriver.remote.webelement.WebElement (session=\"9636621677067f7b5736f8e84c980e16\", element=\"3c92b9f3-de4a-4bdf-9b4f-3c1c21a4e9f3\")>,\n",
       " <selenium.webdriver.remote.webelement.WebElement (session=\"9636621677067f7b5736f8e84c980e16\", element=\"d8d6b93e-d631-4c81-ab20-f38695fda467\")>,\n",
       " <selenium.webdriver.remote.webelement.WebElement (session=\"9636621677067f7b5736f8e84c980e16\", element=\"95645b08-0cae-4728-b47b-0e75aec82b99\")>,\n",
       " <selenium.webdriver.remote.webelement.WebElement (session=\"9636621677067f7b5736f8e84c980e16\", element=\"5778114e-7709-4ebc-937d-b0ee8492ae6c\")>,\n",
       " <selenium.webdriver.remote.webelement.WebElement (session=\"9636621677067f7b5736f8e84c980e16\", element=\"d2323ea3-b4a2-496e-9b91-038889f6469a\")>,\n",
       " <selenium.webdriver.remote.webelement.WebElement (session=\"9636621677067f7b5736f8e84c980e16\", element=\"57a6b136-b55b-462a-a220-32ec1b1239b4\")>,\n",
       " <selenium.webdriver.remote.webelement.WebElement (session=\"9636621677067f7b5736f8e84c980e16\", element=\"7527628d-ceb1-4373-bf01-6fe856ef50a1\")>,\n",
       " <selenium.webdriver.remote.webelement.WebElement (session=\"9636621677067f7b5736f8e84c980e16\", element=\"0ba31ad4-9af2-46a6-ace0-662dd976510b\")>,\n",
       " <selenium.webdriver.remote.webelement.WebElement (session=\"9636621677067f7b5736f8e84c980e16\", element=\"596ea3e2-b5ec-4506-ba9f-f123f1b5d22c\")>,\n",
       " <selenium.webdriver.remote.webelement.WebElement (session=\"9636621677067f7b5736f8e84c980e16\", element=\"dea46ebc-c9a2-441a-93d0-a711ea510d22\")>,\n",
       " <selenium.webdriver.remote.webelement.WebElement (session=\"9636621677067f7b5736f8e84c980e16\", element=\"db8f50a5-00f7-4797-91ce-06d83ed68caf\")>,\n",
       " <selenium.webdriver.remote.webelement.WebElement (session=\"9636621677067f7b5736f8e84c980e16\", element=\"d1b9c07d-b9f5-4aea-ae39-84b8f6d91bf6\")>,\n",
       " <selenium.webdriver.remote.webelement.WebElement (session=\"9636621677067f7b5736f8e84c980e16\", element=\"fc2a6f7e-0d77-4e35-8568-7b604697164e\")>,\n",
       " <selenium.webdriver.remote.webelement.WebElement (session=\"9636621677067f7b5736f8e84c980e16\", element=\"6958eb05-31fe-42ca-905c-6d213a498c27\")>,\n",
       " <selenium.webdriver.remote.webelement.WebElement (session=\"9636621677067f7b5736f8e84c980e16\", element=\"3a8319cb-7a21-4211-8ea6-6ead9e2de481\")>,\n",
       " <selenium.webdriver.remote.webelement.WebElement (session=\"9636621677067f7b5736f8e84c980e16\", element=\"3c3e2f6a-c1b0-4e65-ae45-da91fac35589\")>,\n",
       " <selenium.webdriver.remote.webelement.WebElement (session=\"9636621677067f7b5736f8e84c980e16\", element=\"54ce985f-e0a0-495c-922b-3fe586933585\")>,\n",
       " <selenium.webdriver.remote.webelement.WebElement (session=\"9636621677067f7b5736f8e84c980e16\", element=\"434770b1-d84b-419e-b598-023f15ac0982\")>,\n",
       " <selenium.webdriver.remote.webelement.WebElement (session=\"9636621677067f7b5736f8e84c980e16\", element=\"f8deb680-40d0-4b5c-a770-2b3465363e4d\")>,\n",
       " <selenium.webdriver.remote.webelement.WebElement (session=\"9636621677067f7b5736f8e84c980e16\", element=\"ab7ce635-9bee-4a3b-aa61-4188a5fdfc52\")>]"
      ]
     },
     "execution_count": 9,
     "metadata": {},
     "output_type": "execute_result"
    }
   ],
   "source": [
    "page1_brand = driver.find_elements_by_class_name(\"_2WkVRV\")\n",
    "page1_brand"
   ]
  },
  {
   "cell_type": "code",
   "execution_count": 10,
   "id": "574629d9",
   "metadata": {},
   "outputs": [
    {
     "data": {
      "text/plain": [
       "40"
      ]
     },
     "execution_count": 10,
     "metadata": {},
     "output_type": "execute_result"
    }
   ],
   "source": [
    "brands1 = []\n",
    "\n",
    "for i in page1_brand:\n",
    "    brands1.append(i.text)\n",
    "len(brands1)"
   ]
  },
  {
   "cell_type": "code",
   "execution_count": 11,
   "id": "ee5f9573",
   "metadata": {},
   "outputs": [
    {
     "data": {
      "text/plain": [
       "['PIRASO',\n",
       " 'elegante',\n",
       " 'Elligator',\n",
       " 'Fastrack',\n",
       " 'SHAAH COLLECTIONS',\n",
       " 'SUNBEE',\n",
       " 'SUNBEE',\n",
       " 'PIRASO',\n",
       " 'New Specs',\n",
       " 'SRPM',\n",
       " 'kingsunglasses',\n",
       " 'PIRASO',\n",
       " 'PHENOMENAL',\n",
       " 'Fastrack',\n",
       " 'PIRASO',\n",
       " 'PIRASO',\n",
       " 'Johaena',\n",
       " 'PIRASO',\n",
       " 'Elligator',\n",
       " 'ROZZETTA CRAFT',\n",
       " 'PHENOMENAL',\n",
       " 'SHAAH COLLECTIONS',\n",
       " 'Elligator',\n",
       " 'Elligator',\n",
       " 'PIRASO',\n",
       " 'ROZZETTA CRAFT',\n",
       " 'kingsunglasses',\n",
       " 'VINCENT CHASE',\n",
       " 'PHENOMENAL',\n",
       " 'PHENOMENAL',\n",
       " 'DEIXELS',\n",
       " 'VINCENT CHASE',\n",
       " 'New Specs',\n",
       " 'ROZZETTA CRAFT',\n",
       " 'GANSTA',\n",
       " 'VINCENT CHASE',\n",
       " 'SUNBEE',\n",
       " 'Lee Topper',\n",
       " 'PIRASO',\n",
       " 'VINCENT CHASE']"
      ]
     },
     "execution_count": 11,
     "metadata": {},
     "output_type": "execute_result"
    }
   ],
   "source": [
    "brands1"
   ]
  },
  {
   "cell_type": "code",
   "execution_count": 12,
   "id": "085eaead",
   "metadata": {},
   "outputs": [
    {
     "data": {
      "text/plain": [
       "[<selenium.webdriver.remote.webelement.WebElement (session=\"9636621677067f7b5736f8e84c980e16\", element=\"1928d392-d8d0-4aa4-97fd-095bd9439cab\")>,\n",
       " <selenium.webdriver.remote.webelement.WebElement (session=\"9636621677067f7b5736f8e84c980e16\", element=\"9a4545f5-66e6-449d-a57f-4b304e9b180f\")>,\n",
       " <selenium.webdriver.remote.webelement.WebElement (session=\"9636621677067f7b5736f8e84c980e16\", element=\"91c099cc-7121-4876-961c-ac522a262250\")>,\n",
       " <selenium.webdriver.remote.webelement.WebElement (session=\"9636621677067f7b5736f8e84c980e16\", element=\"c6d40432-4a14-4b4e-9326-6e137e833818\")>,\n",
       " <selenium.webdriver.remote.webelement.WebElement (session=\"9636621677067f7b5736f8e84c980e16\", element=\"3487a935-6f0d-43d1-a9cc-518c3db2a61e\")>,\n",
       " <selenium.webdriver.remote.webelement.WebElement (session=\"9636621677067f7b5736f8e84c980e16\", element=\"c1e209b2-5bf0-4358-ad34-6a7e2789a8ea\")>,\n",
       " <selenium.webdriver.remote.webelement.WebElement (session=\"9636621677067f7b5736f8e84c980e16\", element=\"1a9c5ac0-fb6d-4037-838a-f457a0de692f\")>,\n",
       " <selenium.webdriver.remote.webelement.WebElement (session=\"9636621677067f7b5736f8e84c980e16\", element=\"9e3f8d4d-fd87-482b-82c9-daf13112aa02\")>,\n",
       " <selenium.webdriver.remote.webelement.WebElement (session=\"9636621677067f7b5736f8e84c980e16\", element=\"69a4a4f4-d18c-4053-ba6d-932cd9fdd5cb\")>,\n",
       " <selenium.webdriver.remote.webelement.WebElement (session=\"9636621677067f7b5736f8e84c980e16\", element=\"7f1b4533-de24-4d8c-a5c9-56a0851a1e8d\")>,\n",
       " <selenium.webdriver.remote.webelement.WebElement (session=\"9636621677067f7b5736f8e84c980e16\", element=\"0c8e5ce3-149f-45dd-ab58-ce6717867761\")>,\n",
       " <selenium.webdriver.remote.webelement.WebElement (session=\"9636621677067f7b5736f8e84c980e16\", element=\"364c975a-fc71-40d7-b3d1-eed51a2df1fd\")>,\n",
       " <selenium.webdriver.remote.webelement.WebElement (session=\"9636621677067f7b5736f8e84c980e16\", element=\"de45fda0-9061-42bb-a17e-4426926681fd\")>,\n",
       " <selenium.webdriver.remote.webelement.WebElement (session=\"9636621677067f7b5736f8e84c980e16\", element=\"f1930838-7233-4866-9f55-a4bb01e4b5e5\")>,\n",
       " <selenium.webdriver.remote.webelement.WebElement (session=\"9636621677067f7b5736f8e84c980e16\", element=\"21dd8687-c8d4-4c10-bef9-08764c8cbede\")>,\n",
       " <selenium.webdriver.remote.webelement.WebElement (session=\"9636621677067f7b5736f8e84c980e16\", element=\"0e517f18-5ddc-430f-8eb2-8300b5e05d23\")>,\n",
       " <selenium.webdriver.remote.webelement.WebElement (session=\"9636621677067f7b5736f8e84c980e16\", element=\"86b89a3b-916f-4eaf-adfe-12fdfeced5d7\")>,\n",
       " <selenium.webdriver.remote.webelement.WebElement (session=\"9636621677067f7b5736f8e84c980e16\", element=\"8d46eccf-9dea-46d6-b73b-2bf6e7e94443\")>,\n",
       " <selenium.webdriver.remote.webelement.WebElement (session=\"9636621677067f7b5736f8e84c980e16\", element=\"0e4bfe85-22ea-4310-b126-96a0c114da2f\")>,\n",
       " <selenium.webdriver.remote.webelement.WebElement (session=\"9636621677067f7b5736f8e84c980e16\", element=\"cb95fa98-d788-443d-ba4d-88865631d262\")>,\n",
       " <selenium.webdriver.remote.webelement.WebElement (session=\"9636621677067f7b5736f8e84c980e16\", element=\"47b18d08-fd1f-4742-abdb-b096d345f8d4\")>,\n",
       " <selenium.webdriver.remote.webelement.WebElement (session=\"9636621677067f7b5736f8e84c980e16\", element=\"5689d356-f013-48df-8146-aecf2a72a88e\")>,\n",
       " <selenium.webdriver.remote.webelement.WebElement (session=\"9636621677067f7b5736f8e84c980e16\", element=\"7fb8ec17-9ca8-42f4-b396-6d961060ae56\")>,\n",
       " <selenium.webdriver.remote.webelement.WebElement (session=\"9636621677067f7b5736f8e84c980e16\", element=\"b58d3ece-3508-4935-8763-2c4bdb67b9ae\")>,\n",
       " <selenium.webdriver.remote.webelement.WebElement (session=\"9636621677067f7b5736f8e84c980e16\", element=\"1ba88dfa-e053-4952-9817-a4800d5542ed\")>,\n",
       " <selenium.webdriver.remote.webelement.WebElement (session=\"9636621677067f7b5736f8e84c980e16\", element=\"bbebe0df-6e82-4e0a-a7c7-e96c0205b892\")>,\n",
       " <selenium.webdriver.remote.webelement.WebElement (session=\"9636621677067f7b5736f8e84c980e16\", element=\"a431e824-ebb1-4538-947b-ddfd35717940\")>,\n",
       " <selenium.webdriver.remote.webelement.WebElement (session=\"9636621677067f7b5736f8e84c980e16\", element=\"02dc585c-fc28-453c-b0e3-d7af246bb53b\")>,\n",
       " <selenium.webdriver.remote.webelement.WebElement (session=\"9636621677067f7b5736f8e84c980e16\", element=\"98f35b7d-6e0f-4bea-ac60-3f257332812a\")>,\n",
       " <selenium.webdriver.remote.webelement.WebElement (session=\"9636621677067f7b5736f8e84c980e16\", element=\"da3634a0-7084-4cb9-a71e-d006ecb56b32\")>,\n",
       " <selenium.webdriver.remote.webelement.WebElement (session=\"9636621677067f7b5736f8e84c980e16\", element=\"0377a17a-30aa-4d06-b4eb-92813a97990c\")>,\n",
       " <selenium.webdriver.remote.webelement.WebElement (session=\"9636621677067f7b5736f8e84c980e16\", element=\"941b8c4a-22ef-42e1-ad30-3f54daf7899e\")>,\n",
       " <selenium.webdriver.remote.webelement.WebElement (session=\"9636621677067f7b5736f8e84c980e16\", element=\"33d84c35-8b18-4c9b-a944-9e584e192b80\")>,\n",
       " <selenium.webdriver.remote.webelement.WebElement (session=\"9636621677067f7b5736f8e84c980e16\", element=\"a781db42-43aa-41d3-9d9e-51afd6389f6f\")>,\n",
       " <selenium.webdriver.remote.webelement.WebElement (session=\"9636621677067f7b5736f8e84c980e16\", element=\"628539d4-d022-409d-8e47-fecdeb38009a\")>,\n",
       " <selenium.webdriver.remote.webelement.WebElement (session=\"9636621677067f7b5736f8e84c980e16\", element=\"a91df7ed-a5c9-48f7-9a56-f5962d3a8b91\")>,\n",
       " <selenium.webdriver.remote.webelement.WebElement (session=\"9636621677067f7b5736f8e84c980e16\", element=\"67e8fc80-facc-4d66-8c41-aae4b9a23e94\")>,\n",
       " <selenium.webdriver.remote.webelement.WebElement (session=\"9636621677067f7b5736f8e84c980e16\", element=\"1157c679-a0c8-4b69-84ae-01951b7eebaa\")>,\n",
       " <selenium.webdriver.remote.webelement.WebElement (session=\"9636621677067f7b5736f8e84c980e16\", element=\"33168648-a3b2-4d32-a461-1273a9778889\")>,\n",
       " <selenium.webdriver.remote.webelement.WebElement (session=\"9636621677067f7b5736f8e84c980e16\", element=\"22c1a333-2e8f-4809-aa0f-7bc59f206fe4\")>]"
      ]
     },
     "execution_count": 12,
     "metadata": {},
     "output_type": "execute_result"
    }
   ],
   "source": [
    "page1_dis = driver.find_elements_by_class_name(\"IRpwTa\")\n",
    "page1_dis"
   ]
  },
  {
   "cell_type": "code",
   "execution_count": 13,
   "id": "9775eb0f",
   "metadata": {},
   "outputs": [
    {
     "data": {
      "text/plain": [
       "40"
      ]
     },
     "execution_count": 13,
     "metadata": {},
     "output_type": "execute_result"
    }
   ],
   "source": [
    "dis1 = []\n",
    "\n",
    "for a in page1_dis:\n",
    "    dis1.append(a.text)\n",
    "len(dis1)"
   ]
  },
  {
   "cell_type": "code",
   "execution_count": 14,
   "id": "fe6d523b",
   "metadata": {},
   "outputs": [
    {
     "data": {
      "text/plain": [
       "['UV Protection Aviator Sunglasses (55)',\n",
       " 'UV Protection Oval Sunglasses (Free Size)',\n",
       " 'UV Protection Round Sunglasses (54)',\n",
       " 'UV Protection Rectangular Sunglasses (Free Size)',\n",
       " 'UV Protection, Polarized, Mirrored Rectangular Sunglass...',\n",
       " 'UV Protection, Polarized Wayfarer Sunglasses (Free Size...',\n",
       " 'UV Protection, Polarized, Mirrored Round Sunglasses (Fr...',\n",
       " 'UV Protection Rectangular, Over-sized Sunglasses (Free ...',\n",
       " 'UV Protection Rectangular Sunglasses (Free Size)',\n",
       " 'UV Protection Wayfarer Sunglasses (50)',\n",
       " 'UV Protection Round Sunglasses (54)',\n",
       " 'UV Protection Aviator Sunglasses (58)',\n",
       " 'UV Protection Retro Square Sunglasses (53)',\n",
       " 'Gradient, UV Protection Wayfarer Sunglasses (Free Size)',\n",
       " 'UV Protection Aviator Sunglasses (54)',\n",
       " 'UV Protection Butterfly Sunglasses (60)',\n",
       " 'Riding Glasses, UV Protection Oval Sunglasses (48)',\n",
       " 'UV Protection Aviator Sunglasses (54)',\n",
       " 'UV Protection Round Sunglasses (53)',\n",
       " 'UV Protection, Gradient Retro Square Sunglasses (62)',\n",
       " 'UV Protection, Mirrored Retro Square Sunglasses (53)',\n",
       " 'UV Protection, Polarized, Mirrored Rectangular Sunglass...',\n",
       " 'UV Protection Round Sunglasses (54)',\n",
       " 'UV Protection Wayfarer Sunglasses (53)',\n",
       " 'UV Protection Aviator Sunglasses (54)',\n",
       " 'UV Protection, Gradient Rectangular Sunglasses (Free Si...',\n",
       " 'UV Protection Rectangular Sunglasses (Free Size)',\n",
       " 'by Lenskart Polarized, UV Protection Wayfarer Sunglasse...',\n",
       " 'UV Protection Retro Square Sunglasses (Free Size)',\n",
       " 'UV Protection, Mirrored Retro Square Sunglasses (53)',\n",
       " 'UV Protection Aviator, Wayfarer Sunglasses (Free Size)',\n",
       " 'by Lenskart Polarized, UV Protection Round Sunglasses (...',\n",
       " 'Mirrored, UV Protection, Riding Glasses, Others Round S...',\n",
       " 'Polarized, Night Vision, Riding Glasses Sports, Wrap-ar...',\n",
       " 'UV Protection Aviator Sunglasses (57)',\n",
       " 'by Lenskart Polarized, UV Protection Wayfarer Sunglasse...',\n",
       " 'UV Protection, Polarized, Mirrored Retro Square Sunglas...',\n",
       " 'UV Protection Rectangular Sunglasses (Free Size)',\n",
       " 'UV Protection Aviator Sunglasses (Free Size)',\n",
       " 'by Lenskart Polarized, UV Protection Wayfarer Sunglasse...']"
      ]
     },
     "execution_count": 14,
     "metadata": {},
     "output_type": "execute_result"
    }
   ],
   "source": [
    "dis1"
   ]
  },
  {
   "cell_type": "code",
   "execution_count": 15,
   "id": "205fbab5",
   "metadata": {},
   "outputs": [
    {
     "data": {
      "text/plain": [
       "40"
      ]
     },
     "execution_count": 15,
     "metadata": {},
     "output_type": "execute_result"
    }
   ],
   "source": [
    "page1_prices = driver.find_elements_by_xpath('//div[@class=\"_30jeq3\"]')\n",
    "len(page1_prices)"
   ]
  },
  {
   "cell_type": "code",
   "execution_count": 16,
   "id": "50e87c5c",
   "metadata": {},
   "outputs": [
    {
     "data": {
      "text/plain": [
       "[<selenium.webdriver.remote.webelement.WebElement (session=\"9636621677067f7b5736f8e84c980e16\", element=\"680176f2-4c02-4240-8d22-2beaafa1ab94\")>,\n",
       " <selenium.webdriver.remote.webelement.WebElement (session=\"9636621677067f7b5736f8e84c980e16\", element=\"117809d2-01ab-467e-bb5a-64ffdb65de5c\")>,\n",
       " <selenium.webdriver.remote.webelement.WebElement (session=\"9636621677067f7b5736f8e84c980e16\", element=\"d526a419-d02a-446c-ac39-de6339eefc9a\")>,\n",
       " <selenium.webdriver.remote.webelement.WebElement (session=\"9636621677067f7b5736f8e84c980e16\", element=\"e21ef2f5-b556-42f7-8840-59eb3bc075a8\")>,\n",
       " <selenium.webdriver.remote.webelement.WebElement (session=\"9636621677067f7b5736f8e84c980e16\", element=\"d3bc4a10-d3f6-4bea-a013-bbb0a1f3bba3\")>,\n",
       " <selenium.webdriver.remote.webelement.WebElement (session=\"9636621677067f7b5736f8e84c980e16\", element=\"c4b19a3e-a01d-47bc-bfcf-f4f999cd4397\")>,\n",
       " <selenium.webdriver.remote.webelement.WebElement (session=\"9636621677067f7b5736f8e84c980e16\", element=\"618b08b8-1056-4fae-b77c-696ee8ddd3df\")>,\n",
       " <selenium.webdriver.remote.webelement.WebElement (session=\"9636621677067f7b5736f8e84c980e16\", element=\"e15857d3-a4f0-42d2-8e41-412201a67c09\")>,\n",
       " <selenium.webdriver.remote.webelement.WebElement (session=\"9636621677067f7b5736f8e84c980e16\", element=\"f438d7ba-a7e6-4780-be34-6a48df018e94\")>,\n",
       " <selenium.webdriver.remote.webelement.WebElement (session=\"9636621677067f7b5736f8e84c980e16\", element=\"9a6365ec-9c76-41b1-9120-5389d1f802ea\")>,\n",
       " <selenium.webdriver.remote.webelement.WebElement (session=\"9636621677067f7b5736f8e84c980e16\", element=\"049b0064-55d0-4dbc-822c-6de52857d671\")>,\n",
       " <selenium.webdriver.remote.webelement.WebElement (session=\"9636621677067f7b5736f8e84c980e16\", element=\"02f4b707-d4c5-427f-a23e-303761c87205\")>,\n",
       " <selenium.webdriver.remote.webelement.WebElement (session=\"9636621677067f7b5736f8e84c980e16\", element=\"cf70fdcb-5ff0-477e-91c9-0a31358ed317\")>,\n",
       " <selenium.webdriver.remote.webelement.WebElement (session=\"9636621677067f7b5736f8e84c980e16\", element=\"d4477e7c-870e-42f2-bca8-b6f5f469d4b5\")>,\n",
       " <selenium.webdriver.remote.webelement.WebElement (session=\"9636621677067f7b5736f8e84c980e16\", element=\"8e057246-c1a7-48f2-9641-772d28c87242\")>,\n",
       " <selenium.webdriver.remote.webelement.WebElement (session=\"9636621677067f7b5736f8e84c980e16\", element=\"5cda7e36-8f68-411e-8400-7d350ccfe961\")>,\n",
       " <selenium.webdriver.remote.webelement.WebElement (session=\"9636621677067f7b5736f8e84c980e16\", element=\"aaf987b7-aad1-41d9-850c-b525dad2ed2a\")>,\n",
       " <selenium.webdriver.remote.webelement.WebElement (session=\"9636621677067f7b5736f8e84c980e16\", element=\"1445ab89-17da-4c15-bac9-e8dcb94f30a0\")>,\n",
       " <selenium.webdriver.remote.webelement.WebElement (session=\"9636621677067f7b5736f8e84c980e16\", element=\"9d8521da-1e5d-4f7a-87c7-5e753a6a3384\")>,\n",
       " <selenium.webdriver.remote.webelement.WebElement (session=\"9636621677067f7b5736f8e84c980e16\", element=\"958cb2b9-7970-4fe4-86d3-9f75262fe9e1\")>,\n",
       " <selenium.webdriver.remote.webelement.WebElement (session=\"9636621677067f7b5736f8e84c980e16\", element=\"adc08ce7-a87e-4cce-bbf9-4053e2815bdd\")>,\n",
       " <selenium.webdriver.remote.webelement.WebElement (session=\"9636621677067f7b5736f8e84c980e16\", element=\"0ae3809f-7048-4780-b288-424002c9ece3\")>,\n",
       " <selenium.webdriver.remote.webelement.WebElement (session=\"9636621677067f7b5736f8e84c980e16\", element=\"7f294ed4-6a50-49c6-8efb-cc48916c3b44\")>,\n",
       " <selenium.webdriver.remote.webelement.WebElement (session=\"9636621677067f7b5736f8e84c980e16\", element=\"8b226c76-f2e9-4318-af0a-0001aea6c3b6\")>,\n",
       " <selenium.webdriver.remote.webelement.WebElement (session=\"9636621677067f7b5736f8e84c980e16\", element=\"e07df143-1216-4e2f-983e-3949aed3cef5\")>,\n",
       " <selenium.webdriver.remote.webelement.WebElement (session=\"9636621677067f7b5736f8e84c980e16\", element=\"9b976900-6c09-447c-8024-c17f118418ae\")>,\n",
       " <selenium.webdriver.remote.webelement.WebElement (session=\"9636621677067f7b5736f8e84c980e16\", element=\"7a5b353b-a8e8-4d75-92b3-e7032551af80\")>,\n",
       " <selenium.webdriver.remote.webelement.WebElement (session=\"9636621677067f7b5736f8e84c980e16\", element=\"00ff7ae3-88a8-46fa-b3b9-85dfa5ef3ac2\")>,\n",
       " <selenium.webdriver.remote.webelement.WebElement (session=\"9636621677067f7b5736f8e84c980e16\", element=\"e45cf223-c8a4-407e-91cf-db33608ae034\")>,\n",
       " <selenium.webdriver.remote.webelement.WebElement (session=\"9636621677067f7b5736f8e84c980e16\", element=\"729c9453-5d96-4c8c-80da-186c330c5a18\")>,\n",
       " <selenium.webdriver.remote.webelement.WebElement (session=\"9636621677067f7b5736f8e84c980e16\", element=\"2944f349-cacd-4761-960e-3d64aa7d885d\")>,\n",
       " <selenium.webdriver.remote.webelement.WebElement (session=\"9636621677067f7b5736f8e84c980e16\", element=\"7327f947-5be9-47a5-9396-6bb284042c55\")>,\n",
       " <selenium.webdriver.remote.webelement.WebElement (session=\"9636621677067f7b5736f8e84c980e16\", element=\"c3fe9af5-d42c-421e-9e49-8d17bc651e80\")>,\n",
       " <selenium.webdriver.remote.webelement.WebElement (session=\"9636621677067f7b5736f8e84c980e16\", element=\"74ff9dbf-7e8f-4054-981b-82d4bd5ca2d0\")>,\n",
       " <selenium.webdriver.remote.webelement.WebElement (session=\"9636621677067f7b5736f8e84c980e16\", element=\"e6bde654-a510-41bd-8a91-ef483878a605\")>,\n",
       " <selenium.webdriver.remote.webelement.WebElement (session=\"9636621677067f7b5736f8e84c980e16\", element=\"1389e652-e02d-40de-b3c1-0275ca959922\")>,\n",
       " <selenium.webdriver.remote.webelement.WebElement (session=\"9636621677067f7b5736f8e84c980e16\", element=\"8ff46ce2-5c9a-4f09-ae58-3fba5639e5eb\")>,\n",
       " <selenium.webdriver.remote.webelement.WebElement (session=\"9636621677067f7b5736f8e84c980e16\", element=\"ed2a24c0-e58b-4186-9143-63410ec4c1fa\")>,\n",
       " <selenium.webdriver.remote.webelement.WebElement (session=\"9636621677067f7b5736f8e84c980e16\", element=\"6b1e9cc1-ddc0-4583-b570-a494d1d4731c\")>,\n",
       " <selenium.webdriver.remote.webelement.WebElement (session=\"9636621677067f7b5736f8e84c980e16\", element=\"6d620ef6-1167-4f1a-991a-85f0f0bc4d39\")>]"
      ]
     },
     "execution_count": 16,
     "metadata": {},
     "output_type": "execute_result"
    }
   ],
   "source": [
    "page1_prices"
   ]
  },
  {
   "cell_type": "code",
   "execution_count": 20,
   "id": "5d29000c",
   "metadata": {},
   "outputs": [
    {
     "data": {
      "text/plain": [
       "['₹250',\n",
       " '₹389',\n",
       " '₹248',\n",
       " '₹639',\n",
       " '₹165',\n",
       " '₹243',\n",
       " '₹271',\n",
       " '₹325',\n",
       " '₹239',\n",
       " '₹188',\n",
       " '₹178',\n",
       " '₹299',\n",
       " '₹265',\n",
       " '₹549',\n",
       " '₹229',\n",
       " '₹349',\n",
       " '₹146',\n",
       " '₹225',\n",
       " '₹189',\n",
       " '₹499',\n",
       " '₹299',\n",
       " '₹181',\n",
       " '₹265',\n",
       " '₹247',\n",
       " '₹225',\n",
       " '₹383',\n",
       " '₹172',\n",
       " '₹1,533',\n",
       " '₹309',\n",
       " '₹299',\n",
       " '₹202',\n",
       " '₹1,415',\n",
       " '₹259',\n",
       " '₹474',\n",
       " '₹269',\n",
       " '₹1,533',\n",
       " '₹235',\n",
       " '₹199',\n",
       " '₹299',\n",
       " '₹1,179']"
      ]
     },
     "execution_count": 20,
     "metadata": {},
     "output_type": "execute_result"
    }
   ],
   "source": [
    "prices = []\n",
    "for price in page1_prices:\n",
    "    prices.append(price.text)\n",
    "prices"
   ]
  },
  {
   "cell_type": "code",
   "execution_count": 21,
   "id": "ba4eb6a5",
   "metadata": {},
   "outputs": [
    {
     "data": {
      "text/plain": [
       "40"
      ]
     },
     "execution_count": 21,
     "metadata": {},
     "output_type": "execute_result"
    }
   ],
   "source": [
    "len(prices)"
   ]
  },
  {
   "cell_type": "code",
   "execution_count": 27,
   "id": "e3351d1e",
   "metadata": {},
   "outputs": [
    {
     "data": {
      "text/plain": [
       "<selenium.webdriver.remote.webelement.WebElement (session=\"9636621677067f7b5736f8e84c980e16\", element=\"ed58d76d-9a27-4e5a-a80a-12155e351a25\")>"
      ]
     },
     "execution_count": 27,
     "metadata": {},
     "output_type": "execute_result"
    }
   ],
   "source": [
    "search_btn1 = driver.find_element_by_xpath(\"/html/body/div[1]/div/div[3]/div[1]/div[2]/div[12]/div/div/nav/a[2]\")\n",
    "search_btn1"
   ]
  },
  {
   "cell_type": "code",
   "execution_count": 28,
   "id": "669417ac",
   "metadata": {},
   "outputs": [],
   "source": [
    "search_btn1.click()"
   ]
  },
  {
   "cell_type": "code",
   "execution_count": 29,
   "id": "b1338d4c",
   "metadata": {},
   "outputs": [
    {
     "data": {
      "text/plain": [
       "[<selenium.webdriver.remote.webelement.WebElement (session=\"9636621677067f7b5736f8e84c980e16\", element=\"62960e6c-aeac-4c5d-9e19-f87956b1afd1\")>,\n",
       " <selenium.webdriver.remote.webelement.WebElement (session=\"9636621677067f7b5736f8e84c980e16\", element=\"270a58ed-26a3-4d47-ba05-1d6861630c85\")>,\n",
       " <selenium.webdriver.remote.webelement.WebElement (session=\"9636621677067f7b5736f8e84c980e16\", element=\"0c33ccb7-99df-45c0-a576-f754495cf773\")>,\n",
       " <selenium.webdriver.remote.webelement.WebElement (session=\"9636621677067f7b5736f8e84c980e16\", element=\"c51a1e70-090c-4bf0-8a7c-103b591128f7\")>,\n",
       " <selenium.webdriver.remote.webelement.WebElement (session=\"9636621677067f7b5736f8e84c980e16\", element=\"7f4e11e9-db97-4ffd-94a6-5add3f2c0927\")>,\n",
       " <selenium.webdriver.remote.webelement.WebElement (session=\"9636621677067f7b5736f8e84c980e16\", element=\"387dcfa8-b5c0-4c37-8593-865a386c5bd0\")>,\n",
       " <selenium.webdriver.remote.webelement.WebElement (session=\"9636621677067f7b5736f8e84c980e16\", element=\"d34f3fda-15da-4f0c-9ec7-ad4000412cf4\")>,\n",
       " <selenium.webdriver.remote.webelement.WebElement (session=\"9636621677067f7b5736f8e84c980e16\", element=\"55b48275-e716-4c74-a6a7-ebd9a3bef2f7\")>,\n",
       " <selenium.webdriver.remote.webelement.WebElement (session=\"9636621677067f7b5736f8e84c980e16\", element=\"645ab6ad-a2d4-4ab9-b0e8-6488fc4fcb92\")>,\n",
       " <selenium.webdriver.remote.webelement.WebElement (session=\"9636621677067f7b5736f8e84c980e16\", element=\"02b4f392-b8eb-4eea-8c26-81753bf29b6d\")>,\n",
       " <selenium.webdriver.remote.webelement.WebElement (session=\"9636621677067f7b5736f8e84c980e16\", element=\"01f6a30b-ca68-4ece-a2b9-45e26256d01d\")>,\n",
       " <selenium.webdriver.remote.webelement.WebElement (session=\"9636621677067f7b5736f8e84c980e16\", element=\"b9233579-ab6e-4d4f-a8d1-640c706e69c7\")>,\n",
       " <selenium.webdriver.remote.webelement.WebElement (session=\"9636621677067f7b5736f8e84c980e16\", element=\"2f5c07bc-c490-4542-a99d-0d2f779f679f\")>,\n",
       " <selenium.webdriver.remote.webelement.WebElement (session=\"9636621677067f7b5736f8e84c980e16\", element=\"2e6faa77-5940-431d-be01-c8d101b9423a\")>,\n",
       " <selenium.webdriver.remote.webelement.WebElement (session=\"9636621677067f7b5736f8e84c980e16\", element=\"b1065809-68b5-4637-aa32-801abc78ee68\")>,\n",
       " <selenium.webdriver.remote.webelement.WebElement (session=\"9636621677067f7b5736f8e84c980e16\", element=\"6315ae8e-faa4-461f-9672-51e52e211133\")>,\n",
       " <selenium.webdriver.remote.webelement.WebElement (session=\"9636621677067f7b5736f8e84c980e16\", element=\"c27fb94b-550d-46ec-8c33-f55a50525a4b\")>,\n",
       " <selenium.webdriver.remote.webelement.WebElement (session=\"9636621677067f7b5736f8e84c980e16\", element=\"9bb0f5f5-258c-4e30-bd5f-7a07bbf5df80\")>,\n",
       " <selenium.webdriver.remote.webelement.WebElement (session=\"9636621677067f7b5736f8e84c980e16\", element=\"db5684b2-2d1f-4e92-ba87-6b630f60fb47\")>,\n",
       " <selenium.webdriver.remote.webelement.WebElement (session=\"9636621677067f7b5736f8e84c980e16\", element=\"a80fd174-ef6d-4477-a071-c069b502d8b8\")>,\n",
       " <selenium.webdriver.remote.webelement.WebElement (session=\"9636621677067f7b5736f8e84c980e16\", element=\"ad7ca023-8999-4904-b019-ea5be41d5842\")>,\n",
       " <selenium.webdriver.remote.webelement.WebElement (session=\"9636621677067f7b5736f8e84c980e16\", element=\"fe50e890-36f1-4ec3-a2ba-910b5831525e\")>,\n",
       " <selenium.webdriver.remote.webelement.WebElement (session=\"9636621677067f7b5736f8e84c980e16\", element=\"e52cad7b-e799-4cd6-b517-3ba7e02831be\")>,\n",
       " <selenium.webdriver.remote.webelement.WebElement (session=\"9636621677067f7b5736f8e84c980e16\", element=\"0e7a8b42-8a6f-46bf-94b5-4115845638f0\")>,\n",
       " <selenium.webdriver.remote.webelement.WebElement (session=\"9636621677067f7b5736f8e84c980e16\", element=\"3b777862-8c36-4013-8196-876a4d25b927\")>,\n",
       " <selenium.webdriver.remote.webelement.WebElement (session=\"9636621677067f7b5736f8e84c980e16\", element=\"32dcf14b-1b0b-426d-ae13-90fafb35d2a6\")>,\n",
       " <selenium.webdriver.remote.webelement.WebElement (session=\"9636621677067f7b5736f8e84c980e16\", element=\"5083d60c-64c2-4636-a0c2-fa3d445ea543\")>,\n",
       " <selenium.webdriver.remote.webelement.WebElement (session=\"9636621677067f7b5736f8e84c980e16\", element=\"62a11cbe-77ed-4ae0-86d3-1e971f6786da\")>,\n",
       " <selenium.webdriver.remote.webelement.WebElement (session=\"9636621677067f7b5736f8e84c980e16\", element=\"f71803f4-6f30-4a49-a4a2-b84c40f8594e\")>,\n",
       " <selenium.webdriver.remote.webelement.WebElement (session=\"9636621677067f7b5736f8e84c980e16\", element=\"7815f68f-0712-4716-a9fa-0f6832258c55\")>,\n",
       " <selenium.webdriver.remote.webelement.WebElement (session=\"9636621677067f7b5736f8e84c980e16\", element=\"10868642-25c4-4790-811b-78483d6fa7fb\")>,\n",
       " <selenium.webdriver.remote.webelement.WebElement (session=\"9636621677067f7b5736f8e84c980e16\", element=\"d205320f-ad7f-469c-9a05-f37f2ad1f90d\")>,\n",
       " <selenium.webdriver.remote.webelement.WebElement (session=\"9636621677067f7b5736f8e84c980e16\", element=\"5968343d-7b70-45db-a694-4f3006fbded7\")>,\n",
       " <selenium.webdriver.remote.webelement.WebElement (session=\"9636621677067f7b5736f8e84c980e16\", element=\"b5cfab38-a0bb-46b5-b039-eb425b623c59\")>,\n",
       " <selenium.webdriver.remote.webelement.WebElement (session=\"9636621677067f7b5736f8e84c980e16\", element=\"38681f2e-cee8-4a3e-bd46-2a21d3914db3\")>,\n",
       " <selenium.webdriver.remote.webelement.WebElement (session=\"9636621677067f7b5736f8e84c980e16\", element=\"ce48c5f8-ec2c-4184-abc2-03328205dfee\")>,\n",
       " <selenium.webdriver.remote.webelement.WebElement (session=\"9636621677067f7b5736f8e84c980e16\", element=\"2064e9ec-03fb-4ced-bfde-3cdf6c010d14\")>,\n",
       " <selenium.webdriver.remote.webelement.WebElement (session=\"9636621677067f7b5736f8e84c980e16\", element=\"1a0c3162-159f-4ff2-a7f8-b5d9c30d8db2\")>,\n",
       " <selenium.webdriver.remote.webelement.WebElement (session=\"9636621677067f7b5736f8e84c980e16\", element=\"665f476c-051e-4d1f-adf0-aa82d7446a50\")>,\n",
       " <selenium.webdriver.remote.webelement.WebElement (session=\"9636621677067f7b5736f8e84c980e16\", element=\"c517694c-5403-4b0c-9326-76dc6c517eb4\")>]"
      ]
     },
     "execution_count": 29,
     "metadata": {},
     "output_type": "execute_result"
    }
   ],
   "source": [
    "page2_brand = driver.find_elements_by_class_name(\"_2WkVRV\")\n",
    "page2_brand"
   ]
  },
  {
   "cell_type": "code",
   "execution_count": 32,
   "id": "d4b8fa34",
   "metadata": {},
   "outputs": [
    {
     "data": {
      "text/plain": [
       "40"
      ]
     },
     "execution_count": 32,
     "metadata": {},
     "output_type": "execute_result"
    }
   ],
   "source": [
    "len(page2_brand)"
   ]
  },
  {
   "cell_type": "code",
   "execution_count": 33,
   "id": "676c46c4",
   "metadata": {},
   "outputs": [
    {
     "data": {
      "text/plain": [
       "['PIRASO',\n",
       " 'Lee Topper',\n",
       " 'agera',\n",
       " 'PIRASO',\n",
       " 'Rich Club',\n",
       " 'kingsunglasses',\n",
       " 'PIRASO',\n",
       " 'VINCENT CHASE',\n",
       " 'Singco India',\n",
       " 'kingsunglasses',\n",
       " 'Elligator',\n",
       " 'GANSTA',\n",
       " 'Elligator',\n",
       " 'Fastrack',\n",
       " 'Lee Topper',\n",
       " 'PIRASO',\n",
       " 'Fastrack',\n",
       " 'SRPM',\n",
       " 'DEIXELS',\n",
       " 'GANSTA',\n",
       " 'Johaena',\n",
       " 'maxa',\n",
       " 'ROYAL SON',\n",
       " 'agera',\n",
       " 'kingsunglasses',\n",
       " 'kingsunglasses',\n",
       " 'Fastrack',\n",
       " 'SRPM',\n",
       " 'New Specs',\n",
       " 'Lee Topper',\n",
       " 'Silver Kartz',\n",
       " 'GANSTA',\n",
       " 'ROYAL SON',\n",
       " 'Singco India',\n",
       " 'Singco India',\n",
       " 'PIRASO',\n",
       " 'Rich Club',\n",
       " 'hipe',\n",
       " 'kingsunglasses',\n",
       " 'VINCENT CHASE']"
      ]
     },
     "execution_count": 33,
     "metadata": {},
     "output_type": "execute_result"
    }
   ],
   "source": [
    "brandspage2 = []\n",
    "\n",
    "for c in page2_brand:\n",
    "    brandspage2.append(c.text)\n",
    "brandspage2"
   ]
  },
  {
   "cell_type": "code",
   "execution_count": 34,
   "id": "5e3462ca",
   "metadata": {},
   "outputs": [
    {
     "data": {
      "text/plain": [
       "[<selenium.webdriver.remote.webelement.WebElement (session=\"9636621677067f7b5736f8e84c980e16\", element=\"43800f30-b990-486a-b712-b5ad86e5562d\")>,\n",
       " <selenium.webdriver.remote.webelement.WebElement (session=\"9636621677067f7b5736f8e84c980e16\", element=\"e1f9c8d3-61d0-4061-9b04-872c07952395\")>,\n",
       " <selenium.webdriver.remote.webelement.WebElement (session=\"9636621677067f7b5736f8e84c980e16\", element=\"dd2ffb95-4f92-425e-ba35-78522bd1e2e2\")>,\n",
       " <selenium.webdriver.remote.webelement.WebElement (session=\"9636621677067f7b5736f8e84c980e16\", element=\"ddf5012d-088b-4f1b-91bb-504a41cb3208\")>,\n",
       " <selenium.webdriver.remote.webelement.WebElement (session=\"9636621677067f7b5736f8e84c980e16\", element=\"98b7f32b-e36a-4b21-bef3-5fa4d0840a8e\")>,\n",
       " <selenium.webdriver.remote.webelement.WebElement (session=\"9636621677067f7b5736f8e84c980e16\", element=\"7f738c08-9db3-4d5a-b772-8d397ae55a28\")>,\n",
       " <selenium.webdriver.remote.webelement.WebElement (session=\"9636621677067f7b5736f8e84c980e16\", element=\"e93d4626-8835-475f-8c21-56a22a7eb12d\")>,\n",
       " <selenium.webdriver.remote.webelement.WebElement (session=\"9636621677067f7b5736f8e84c980e16\", element=\"8bc186c5-f50b-4b94-872b-029b5b4c8f59\")>,\n",
       " <selenium.webdriver.remote.webelement.WebElement (session=\"9636621677067f7b5736f8e84c980e16\", element=\"1d85e7c4-87d8-4257-8f80-09230090bada\")>,\n",
       " <selenium.webdriver.remote.webelement.WebElement (session=\"9636621677067f7b5736f8e84c980e16\", element=\"516b2659-53c4-4fc5-9010-320d7b777959\")>,\n",
       " <selenium.webdriver.remote.webelement.WebElement (session=\"9636621677067f7b5736f8e84c980e16\", element=\"f9e339b6-cc1e-4a7d-8306-f87e14f4c537\")>,\n",
       " <selenium.webdriver.remote.webelement.WebElement (session=\"9636621677067f7b5736f8e84c980e16\", element=\"1674828b-d4ec-4a81-81bf-bc58b251e9e4\")>,\n",
       " <selenium.webdriver.remote.webelement.WebElement (session=\"9636621677067f7b5736f8e84c980e16\", element=\"cfb52d79-d6a1-4070-892c-2c752f8c0d57\")>,\n",
       " <selenium.webdriver.remote.webelement.WebElement (session=\"9636621677067f7b5736f8e84c980e16\", element=\"aaf295cd-ec24-4726-b395-a96e409462dd\")>,\n",
       " <selenium.webdriver.remote.webelement.WebElement (session=\"9636621677067f7b5736f8e84c980e16\", element=\"216b77fc-18ce-4c2b-820d-07ef085bf8e9\")>,\n",
       " <selenium.webdriver.remote.webelement.WebElement (session=\"9636621677067f7b5736f8e84c980e16\", element=\"a72ad006-6e44-463b-bade-fb9948ff667a\")>,\n",
       " <selenium.webdriver.remote.webelement.WebElement (session=\"9636621677067f7b5736f8e84c980e16\", element=\"31c19107-763b-4b86-8c36-6e8ddf6a7ea2\")>,\n",
       " <selenium.webdriver.remote.webelement.WebElement (session=\"9636621677067f7b5736f8e84c980e16\", element=\"80c21e20-086d-49e5-b311-dfc6c33151b4\")>,\n",
       " <selenium.webdriver.remote.webelement.WebElement (session=\"9636621677067f7b5736f8e84c980e16\", element=\"c23a73db-b7ed-40c9-b19e-4cae6a3bb211\")>,\n",
       " <selenium.webdriver.remote.webelement.WebElement (session=\"9636621677067f7b5736f8e84c980e16\", element=\"1253efdd-3ae0-47e8-b382-3124ecc6f10d\")>,\n",
       " <selenium.webdriver.remote.webelement.WebElement (session=\"9636621677067f7b5736f8e84c980e16\", element=\"191d2ffa-6b49-402d-8ca9-54c49de9fdaf\")>,\n",
       " <selenium.webdriver.remote.webelement.WebElement (session=\"9636621677067f7b5736f8e84c980e16\", element=\"3bd8c4e8-d5a7-4767-8386-43f850d4bea3\")>,\n",
       " <selenium.webdriver.remote.webelement.WebElement (session=\"9636621677067f7b5736f8e84c980e16\", element=\"48f435c9-8343-4241-a6d3-8469ebf659b9\")>,\n",
       " <selenium.webdriver.remote.webelement.WebElement (session=\"9636621677067f7b5736f8e84c980e16\", element=\"156ca0c5-9d98-49e7-9838-df099b290819\")>,\n",
       " <selenium.webdriver.remote.webelement.WebElement (session=\"9636621677067f7b5736f8e84c980e16\", element=\"5fe91a54-b477-4365-8292-6e3f1b8c4f4b\")>,\n",
       " <selenium.webdriver.remote.webelement.WebElement (session=\"9636621677067f7b5736f8e84c980e16\", element=\"29952d23-8de7-4874-a380-f111a39762d5\")>,\n",
       " <selenium.webdriver.remote.webelement.WebElement (session=\"9636621677067f7b5736f8e84c980e16\", element=\"1519bc36-8ff3-45dd-b88e-f371a83b2f35\")>,\n",
       " <selenium.webdriver.remote.webelement.WebElement (session=\"9636621677067f7b5736f8e84c980e16\", element=\"aaa8e9c5-213c-4a59-a286-d2fe7dedd100\")>,\n",
       " <selenium.webdriver.remote.webelement.WebElement (session=\"9636621677067f7b5736f8e84c980e16\", element=\"8c6ba163-2b0b-4075-accb-acc30a58ba13\")>,\n",
       " <selenium.webdriver.remote.webelement.WebElement (session=\"9636621677067f7b5736f8e84c980e16\", element=\"0da70e75-09ab-45d9-aae8-81516b9714b5\")>,\n",
       " <selenium.webdriver.remote.webelement.WebElement (session=\"9636621677067f7b5736f8e84c980e16\", element=\"5b3e3974-b135-4c05-9499-d76794ab78af\")>,\n",
       " <selenium.webdriver.remote.webelement.WebElement (session=\"9636621677067f7b5736f8e84c980e16\", element=\"7342bbd6-d76b-4854-a0ae-12c430085a1a\")>,\n",
       " <selenium.webdriver.remote.webelement.WebElement (session=\"9636621677067f7b5736f8e84c980e16\", element=\"04535370-b566-46b9-b174-0bdb5fa26a81\")>,\n",
       " <selenium.webdriver.remote.webelement.WebElement (session=\"9636621677067f7b5736f8e84c980e16\", element=\"c16cf32f-cbd7-49a5-b717-12969dcab83b\")>,\n",
       " <selenium.webdriver.remote.webelement.WebElement (session=\"9636621677067f7b5736f8e84c980e16\", element=\"a43e6a5e-c089-4598-b848-d3ecdb266f8b\")>,\n",
       " <selenium.webdriver.remote.webelement.WebElement (session=\"9636621677067f7b5736f8e84c980e16\", element=\"060e4b19-c997-4ca4-9b28-6ca088a878fc\")>,\n",
       " <selenium.webdriver.remote.webelement.WebElement (session=\"9636621677067f7b5736f8e84c980e16\", element=\"9a861b3d-88e9-4a28-b9f3-ce5285f0a693\")>,\n",
       " <selenium.webdriver.remote.webelement.WebElement (session=\"9636621677067f7b5736f8e84c980e16\", element=\"de1eec64-532c-4855-9366-d88de2d35f1b\")>,\n",
       " <selenium.webdriver.remote.webelement.WebElement (session=\"9636621677067f7b5736f8e84c980e16\", element=\"d8d1e8c8-135a-4c8f-a090-c76c08e29174\")>,\n",
       " <selenium.webdriver.remote.webelement.WebElement (session=\"9636621677067f7b5736f8e84c980e16\", element=\"a9e6af9a-a900-484b-a994-132565a05337\")>]"
      ]
     },
     "execution_count": 34,
     "metadata": {},
     "output_type": "execute_result"
    }
   ],
   "source": [
    "page2_dis = driver.find_elements_by_class_name(\"IRpwTa\")\n",
    "page2_dis"
   ]
  },
  {
   "cell_type": "code",
   "execution_count": 35,
   "id": "f29324f1",
   "metadata": {},
   "outputs": [
    {
     "data": {
      "text/plain": [
       "['UV Protection Wayfarer Sunglasses (32)',\n",
       " 'UV Protection Rectangular Sunglasses (Free Size)',\n",
       " 'Gradient Aviator Sunglasses (55)',\n",
       " 'UV Protection Butterfly Sunglasses (60)',\n",
       " 'Polarized Round Sunglasses (48)',\n",
       " 'Mirrored, UV Protection Wayfarer Sunglasses (Free Size)',\n",
       " 'UV Protection Aviator Sunglasses (Free Size)',\n",
       " 'by Lenskart Polarized, UV Protection Round Sunglasses (...',\n",
       " 'UV Protection, Riding Glasses, Others Aviator, Wayfarer...',\n",
       " 'UV Protection Round Sunglasses (Free Size)',\n",
       " 'UV Protection Round Sunglasses (50)',\n",
       " 'UV Protection, Mirrored Wayfarer Sunglasses (53)',\n",
       " 'UV Protection, Gradient Aviator Sunglasses (50)',\n",
       " 'UV Protection Wayfarer Sunglasses (Free Size)',\n",
       " 'Riding Glasses, Night Vision Wrap-around Sunglasses (Fr...',\n",
       " 'UV Protection Aviator Sunglasses (50)',\n",
       " 'UV Protection Shield Sunglasses (Free Size)',\n",
       " 'UV Protection Wayfarer Sunglasses (53)',\n",
       " 'UV Protection Wayfarer Sunglasses (Free Size)',\n",
       " 'UV Protection, Gradient Aviator Sunglasses (57)',\n",
       " 'Riding Glasses, UV Protection Oval Sunglasses (52)',\n",
       " 'UV Protection, Riding Glasses Rectangular, Wayfarer, Ov...',\n",
       " 'Mirrored Aviator Sunglasses (55)',\n",
       " 'UV Protection Aviator Sunglasses (55)',\n",
       " 'UV Protection, Riding Glasses, Mirrored Wayfarer Sungla...',\n",
       " 'UV Protection Round Sunglasses (Free Size)',\n",
       " 'UV Protection Aviator Sunglasses (58)',\n",
       " 'Night Vision, UV Protection Round Sunglasses (54)',\n",
       " 'UV Protection Round Sunglasses (Free Size)',\n",
       " 'Riding Glasses Wrap-around Sunglasses (Free Size)',\n",
       " 'UV Protection Aviator Sunglasses (88)',\n",
       " 'UV Protection Aviator Sunglasses (57)',\n",
       " 'UV Protection Rectangular Sunglasses (58)',\n",
       " 'Riding Glasses, UV Protection, Others Aviator Sunglasse...',\n",
       " 'Gradient, Toughened Glass Lens, UV Protection Retro Squ...',\n",
       " 'Mirrored Aviator Sunglasses (32)',\n",
       " 'UV Protection Round Sunglasses (48)',\n",
       " 'Mirrored, UV Protection, Gradient Round Sunglasses (55)',\n",
       " 'UV Protection, Others Round, Aviator Sunglasses (54)',\n",
       " 'by Lenskart Polarized, UV Protection Wayfarer Sunglasse...']"
      ]
     },
     "execution_count": 35,
     "metadata": {},
     "output_type": "execute_result"
    }
   ],
   "source": [
    "dispage2 = []\n",
    "\n",
    "for d in page2_dis:\n",
    "    dispage2.append(d.text)\n",
    "dispage2"
   ]
  },
  {
   "cell_type": "code",
   "execution_count": 36,
   "id": "9b0257ad",
   "metadata": {},
   "outputs": [
    {
     "data": {
      "text/plain": [
       "40"
      ]
     },
     "execution_count": 36,
     "metadata": {},
     "output_type": "execute_result"
    }
   ],
   "source": [
    "len(dispage2)"
   ]
  },
  {
   "cell_type": "code",
   "execution_count": 37,
   "id": "e5c427cb",
   "metadata": {},
   "outputs": [
    {
     "data": {
      "text/plain": [
       "40"
      ]
     },
     "execution_count": 37,
     "metadata": {},
     "output_type": "execute_result"
    }
   ],
   "source": [
    "page2_prices = driver.find_elements_by_xpath('//div[@class=\"_30jeq3\"]')\n",
    "len(page2_prices)"
   ]
  },
  {
   "cell_type": "code",
   "execution_count": 38,
   "id": "d4af13c2",
   "metadata": {},
   "outputs": [
    {
     "data": {
      "text/plain": [
       "[<selenium.webdriver.remote.webelement.WebElement (session=\"9636621677067f7b5736f8e84c980e16\", element=\"5e514e6f-b220-48e9-908f-fdfb91378814\")>,\n",
       " <selenium.webdriver.remote.webelement.WebElement (session=\"9636621677067f7b5736f8e84c980e16\", element=\"1261c1fd-ce7a-48b5-b616-f8893c843a73\")>,\n",
       " <selenium.webdriver.remote.webelement.WebElement (session=\"9636621677067f7b5736f8e84c980e16\", element=\"249fff64-c780-4eca-8bac-19ff70e9d24d\")>,\n",
       " <selenium.webdriver.remote.webelement.WebElement (session=\"9636621677067f7b5736f8e84c980e16\", element=\"882c9c8e-729a-4238-a355-f7620aa70a93\")>,\n",
       " <selenium.webdriver.remote.webelement.WebElement (session=\"9636621677067f7b5736f8e84c980e16\", element=\"42d62ef0-c0cf-438b-aa66-6fae1f58cf10\")>,\n",
       " <selenium.webdriver.remote.webelement.WebElement (session=\"9636621677067f7b5736f8e84c980e16\", element=\"81320f5a-a01b-4925-8a03-ea7608fcface\")>,\n",
       " <selenium.webdriver.remote.webelement.WebElement (session=\"9636621677067f7b5736f8e84c980e16\", element=\"43152e8f-5975-41cb-bf30-58e3a822202e\")>,\n",
       " <selenium.webdriver.remote.webelement.WebElement (session=\"9636621677067f7b5736f8e84c980e16\", element=\"d168d616-3202-415d-97e9-e2fbcd94aa6d\")>,\n",
       " <selenium.webdriver.remote.webelement.WebElement (session=\"9636621677067f7b5736f8e84c980e16\", element=\"9c2369f2-10ee-41ba-ac27-c28abdce99e7\")>,\n",
       " <selenium.webdriver.remote.webelement.WebElement (session=\"9636621677067f7b5736f8e84c980e16\", element=\"cdad44f0-7276-4e8f-bc1d-21fa4b2179ab\")>,\n",
       " <selenium.webdriver.remote.webelement.WebElement (session=\"9636621677067f7b5736f8e84c980e16\", element=\"93a9e6b4-d89a-4a26-8908-37a893119888\")>,\n",
       " <selenium.webdriver.remote.webelement.WebElement (session=\"9636621677067f7b5736f8e84c980e16\", element=\"d611b56a-7762-4080-8697-e67a6b52194e\")>,\n",
       " <selenium.webdriver.remote.webelement.WebElement (session=\"9636621677067f7b5736f8e84c980e16\", element=\"a6bdc6a0-609c-4a9d-99fb-2a598d490d2e\")>,\n",
       " <selenium.webdriver.remote.webelement.WebElement (session=\"9636621677067f7b5736f8e84c980e16\", element=\"1ea5240b-727b-4877-8e60-e9bef2e9000f\")>,\n",
       " <selenium.webdriver.remote.webelement.WebElement (session=\"9636621677067f7b5736f8e84c980e16\", element=\"3aef6723-d5c1-4bb9-8d70-ae478d783708\")>,\n",
       " <selenium.webdriver.remote.webelement.WebElement (session=\"9636621677067f7b5736f8e84c980e16\", element=\"53e76b80-a4b8-46af-b78d-984f3fdef9b2\")>,\n",
       " <selenium.webdriver.remote.webelement.WebElement (session=\"9636621677067f7b5736f8e84c980e16\", element=\"195687ee-b37f-4c9a-ae0b-bce8c6a2ec81\")>,\n",
       " <selenium.webdriver.remote.webelement.WebElement (session=\"9636621677067f7b5736f8e84c980e16\", element=\"4f739db2-aac1-408b-8baf-f321854c7dd9\")>,\n",
       " <selenium.webdriver.remote.webelement.WebElement (session=\"9636621677067f7b5736f8e84c980e16\", element=\"77b96524-7b3b-4f95-92da-23e5d432e82a\")>,\n",
       " <selenium.webdriver.remote.webelement.WebElement (session=\"9636621677067f7b5736f8e84c980e16\", element=\"98266e25-efa8-463c-9b09-e444d0586f26\")>,\n",
       " <selenium.webdriver.remote.webelement.WebElement (session=\"9636621677067f7b5736f8e84c980e16\", element=\"fa7610c8-e51c-4dd7-bd2a-da9bc0b6c8b5\")>,\n",
       " <selenium.webdriver.remote.webelement.WebElement (session=\"9636621677067f7b5736f8e84c980e16\", element=\"8d529b82-f5c2-4ccd-b5e9-41f3f2de908e\")>,\n",
       " <selenium.webdriver.remote.webelement.WebElement (session=\"9636621677067f7b5736f8e84c980e16\", element=\"9d5c9e5e-6b65-4628-8b64-a9acc848da76\")>,\n",
       " <selenium.webdriver.remote.webelement.WebElement (session=\"9636621677067f7b5736f8e84c980e16\", element=\"ed4f3a44-7789-4903-aaa4-51f68c087c98\")>,\n",
       " <selenium.webdriver.remote.webelement.WebElement (session=\"9636621677067f7b5736f8e84c980e16\", element=\"66ac2e4f-5dd4-41be-b707-f6e9579f133b\")>,\n",
       " <selenium.webdriver.remote.webelement.WebElement (session=\"9636621677067f7b5736f8e84c980e16\", element=\"80e76ba4-a26d-41e8-bcde-3b44730f5b03\")>,\n",
       " <selenium.webdriver.remote.webelement.WebElement (session=\"9636621677067f7b5736f8e84c980e16\", element=\"e908491c-1b5b-4b7a-9d84-e2d71007033e\")>,\n",
       " <selenium.webdriver.remote.webelement.WebElement (session=\"9636621677067f7b5736f8e84c980e16\", element=\"ff228c21-facb-4922-a740-dc2539e75e7f\")>,\n",
       " <selenium.webdriver.remote.webelement.WebElement (session=\"9636621677067f7b5736f8e84c980e16\", element=\"2a9086f5-3352-4ee1-b959-95c27da3b8ca\")>,\n",
       " <selenium.webdriver.remote.webelement.WebElement (session=\"9636621677067f7b5736f8e84c980e16\", element=\"f6e4da6d-912a-4a30-a6e5-fe81710fce96\")>,\n",
       " <selenium.webdriver.remote.webelement.WebElement (session=\"9636621677067f7b5736f8e84c980e16\", element=\"434281f0-1f59-478c-8f8f-e365f3fcac8b\")>,\n",
       " <selenium.webdriver.remote.webelement.WebElement (session=\"9636621677067f7b5736f8e84c980e16\", element=\"4ca90b0f-b95d-4089-8091-3ced3d76745d\")>,\n",
       " <selenium.webdriver.remote.webelement.WebElement (session=\"9636621677067f7b5736f8e84c980e16\", element=\"ded06a55-87d0-47b2-9749-730b8d653b74\")>,\n",
       " <selenium.webdriver.remote.webelement.WebElement (session=\"9636621677067f7b5736f8e84c980e16\", element=\"30f1aabd-d2f7-4181-ac58-b5ccc0ada01b\")>,\n",
       " <selenium.webdriver.remote.webelement.WebElement (session=\"9636621677067f7b5736f8e84c980e16\", element=\"56642d2a-870f-4964-985c-0a508e5cbda6\")>,\n",
       " <selenium.webdriver.remote.webelement.WebElement (session=\"9636621677067f7b5736f8e84c980e16\", element=\"f36d8cd3-021d-4ca5-874c-11e85f036e7a\")>,\n",
       " <selenium.webdriver.remote.webelement.WebElement (session=\"9636621677067f7b5736f8e84c980e16\", element=\"abfd1ae0-4653-45e3-b4fb-813ee0107398\")>,\n",
       " <selenium.webdriver.remote.webelement.WebElement (session=\"9636621677067f7b5736f8e84c980e16\", element=\"584023c3-c13f-4f46-b7e3-e034418be8fa\")>,\n",
       " <selenium.webdriver.remote.webelement.WebElement (session=\"9636621677067f7b5736f8e84c980e16\", element=\"38f3a280-1926-4cf9-95dc-105d4a8566cf\")>,\n",
       " <selenium.webdriver.remote.webelement.WebElement (session=\"9636621677067f7b5736f8e84c980e16\", element=\"2e03c5e4-701f-4db1-b4f3-2ab6590c8657\")>]"
      ]
     },
     "execution_count": 38,
     "metadata": {},
     "output_type": "execute_result"
    }
   ],
   "source": [
    "page2_prices"
   ]
  },
  {
   "cell_type": "code",
   "execution_count": 39,
   "id": "24e6803d",
   "metadata": {},
   "outputs": [
    {
     "data": {
      "text/plain": [
       "['₹225',\n",
       " '₹199',\n",
       " '₹196',\n",
       " '₹349',\n",
       " '₹165',\n",
       " '₹229',\n",
       " '₹299',\n",
       " '₹1,415',\n",
       " '₹203',\n",
       " '₹274',\n",
       " '₹230',\n",
       " '₹199',\n",
       " '₹263',\n",
       " '₹639',\n",
       " '₹276',\n",
       " '₹299',\n",
       " '₹599',\n",
       " '₹207',\n",
       " '₹199',\n",
       " '₹220',\n",
       " '₹156',\n",
       " '₹144',\n",
       " '₹359',\n",
       " '₹194',\n",
       " '₹177',\n",
       " '₹170',\n",
       " '₹999',\n",
       " '₹199',\n",
       " '₹232',\n",
       " '₹275',\n",
       " '₹255',\n",
       " '₹204',\n",
       " '₹449',\n",
       " '₹249',\n",
       " '₹664',\n",
       " '₹199',\n",
       " '₹220',\n",
       " '₹189',\n",
       " '₹174',\n",
       " '₹1,179']"
      ]
     },
     "execution_count": 39,
     "metadata": {},
     "output_type": "execute_result"
    }
   ],
   "source": [
    "prices2 = []\n",
    "for price2 in page2_prices:\n",
    "    prices2.append(price2.text)\n",
    "prices2"
   ]
  },
  {
   "cell_type": "code",
   "execution_count": 40,
   "id": "9c03a5d0",
   "metadata": {},
   "outputs": [
    {
     "data": {
      "text/plain": [
       "40"
      ]
     },
     "execution_count": 40,
     "metadata": {},
     "output_type": "execute_result"
    }
   ],
   "source": [
    "len(prices2)"
   ]
  },
  {
   "cell_type": "code",
   "execution_count": 41,
   "id": "e3e57212",
   "metadata": {},
   "outputs": [
    {
     "data": {
      "text/plain": [
       "<selenium.webdriver.remote.webelement.WebElement (session=\"9636621677067f7b5736f8e84c980e16\", element=\"cf2f792e-7371-4418-ada1-e1cf4e0d761f\")>"
      ]
     },
     "execution_count": 41,
     "metadata": {},
     "output_type": "execute_result"
    }
   ],
   "source": [
    "search_btn2 = driver.find_element_by_xpath(\"/html/body/div[1]/div/div[3]/div[1]/div[2]/div[12]/div/div/nav/a[4]\")\n",
    "search_btn2"
   ]
  },
  {
   "cell_type": "code",
   "execution_count": 42,
   "id": "eca6d37a",
   "metadata": {},
   "outputs": [],
   "source": [
    "search_btn2.click()"
   ]
  },
  {
   "cell_type": "code",
   "execution_count": 43,
   "id": "e20e5d50",
   "metadata": {},
   "outputs": [
    {
     "data": {
      "text/plain": [
       "[<selenium.webdriver.remote.webelement.WebElement (session=\"9636621677067f7b5736f8e84c980e16\", element=\"93c45924-7ffa-42c0-b2b4-5f1bac20c856\")>,\n",
       " <selenium.webdriver.remote.webelement.WebElement (session=\"9636621677067f7b5736f8e84c980e16\", element=\"2ec76f39-2a25-45d6-8162-745c6beb778f\")>,\n",
       " <selenium.webdriver.remote.webelement.WebElement (session=\"9636621677067f7b5736f8e84c980e16\", element=\"10bd683d-49a6-47dd-8640-c509e71223d2\")>,\n",
       " <selenium.webdriver.remote.webelement.WebElement (session=\"9636621677067f7b5736f8e84c980e16\", element=\"f95955c4-b0ef-4c75-b23c-a2eaf091a586\")>,\n",
       " <selenium.webdriver.remote.webelement.WebElement (session=\"9636621677067f7b5736f8e84c980e16\", element=\"4c4af452-cca6-48fd-aea3-238313461cdb\")>,\n",
       " <selenium.webdriver.remote.webelement.WebElement (session=\"9636621677067f7b5736f8e84c980e16\", element=\"b8023cf1-47d9-4fe3-a552-883b25700fa7\")>,\n",
       " <selenium.webdriver.remote.webelement.WebElement (session=\"9636621677067f7b5736f8e84c980e16\", element=\"aaeab8d6-6f8f-4abe-bbee-0e9c7e20f464\")>,\n",
       " <selenium.webdriver.remote.webelement.WebElement (session=\"9636621677067f7b5736f8e84c980e16\", element=\"69db2c9f-a8a2-402f-8846-aaec54d7d7ea\")>,\n",
       " <selenium.webdriver.remote.webelement.WebElement (session=\"9636621677067f7b5736f8e84c980e16\", element=\"6acd41a4-e43d-4cf2-998f-68b937b4d817\")>,\n",
       " <selenium.webdriver.remote.webelement.WebElement (session=\"9636621677067f7b5736f8e84c980e16\", element=\"ca30173c-a723-4692-83f2-afd08a4466fd\")>,\n",
       " <selenium.webdriver.remote.webelement.WebElement (session=\"9636621677067f7b5736f8e84c980e16\", element=\"6e3b4c0d-0da8-49c1-8715-a52e4abdaf33\")>,\n",
       " <selenium.webdriver.remote.webelement.WebElement (session=\"9636621677067f7b5736f8e84c980e16\", element=\"bcb3ca80-6806-451d-afd1-c4666611ba30\")>,\n",
       " <selenium.webdriver.remote.webelement.WebElement (session=\"9636621677067f7b5736f8e84c980e16\", element=\"3c703658-07ac-4511-b576-45505f0dbf42\")>,\n",
       " <selenium.webdriver.remote.webelement.WebElement (session=\"9636621677067f7b5736f8e84c980e16\", element=\"a8e5288d-7d8c-4803-ba8f-258bcc3d356b\")>,\n",
       " <selenium.webdriver.remote.webelement.WebElement (session=\"9636621677067f7b5736f8e84c980e16\", element=\"0cf6717d-f947-45f8-aa4f-05d5436052df\")>,\n",
       " <selenium.webdriver.remote.webelement.WebElement (session=\"9636621677067f7b5736f8e84c980e16\", element=\"9aad18f4-b885-404c-b350-2595a44c42f3\")>,\n",
       " <selenium.webdriver.remote.webelement.WebElement (session=\"9636621677067f7b5736f8e84c980e16\", element=\"fd2ca439-f80d-4c7f-8a4a-111839d29cf1\")>,\n",
       " <selenium.webdriver.remote.webelement.WebElement (session=\"9636621677067f7b5736f8e84c980e16\", element=\"04b578c1-fcb3-404c-b296-b11d27ebf148\")>,\n",
       " <selenium.webdriver.remote.webelement.WebElement (session=\"9636621677067f7b5736f8e84c980e16\", element=\"98a699b9-5211-435d-946d-eca4bc328339\")>,\n",
       " <selenium.webdriver.remote.webelement.WebElement (session=\"9636621677067f7b5736f8e84c980e16\", element=\"13fbcfa1-d4b3-420f-84ce-8c0c816d4c89\")>,\n",
       " <selenium.webdriver.remote.webelement.WebElement (session=\"9636621677067f7b5736f8e84c980e16\", element=\"88dd2deb-bdc7-40ec-b6a8-8c9402356e06\")>,\n",
       " <selenium.webdriver.remote.webelement.WebElement (session=\"9636621677067f7b5736f8e84c980e16\", element=\"38309084-3b73-4a7c-a2b8-492646b4796b\")>,\n",
       " <selenium.webdriver.remote.webelement.WebElement (session=\"9636621677067f7b5736f8e84c980e16\", element=\"37f9a57b-b538-41cb-842a-eef878b525af\")>,\n",
       " <selenium.webdriver.remote.webelement.WebElement (session=\"9636621677067f7b5736f8e84c980e16\", element=\"6d514076-5266-458c-8c87-d087834efc5e\")>,\n",
       " <selenium.webdriver.remote.webelement.WebElement (session=\"9636621677067f7b5736f8e84c980e16\", element=\"dab9e1ae-da0a-4877-8aa1-173a939d7820\")>,\n",
       " <selenium.webdriver.remote.webelement.WebElement (session=\"9636621677067f7b5736f8e84c980e16\", element=\"cc2d740a-d74a-4592-b54a-ac010ba58024\")>,\n",
       " <selenium.webdriver.remote.webelement.WebElement (session=\"9636621677067f7b5736f8e84c980e16\", element=\"7c7a1afd-3413-4013-9258-80cba35308e0\")>,\n",
       " <selenium.webdriver.remote.webelement.WebElement (session=\"9636621677067f7b5736f8e84c980e16\", element=\"59cbcbc4-643c-4c6e-9ed4-5bec394c221a\")>,\n",
       " <selenium.webdriver.remote.webelement.WebElement (session=\"9636621677067f7b5736f8e84c980e16\", element=\"1d33eaf3-faee-4d90-a3f2-5081a6b3f734\")>,\n",
       " <selenium.webdriver.remote.webelement.WebElement (session=\"9636621677067f7b5736f8e84c980e16\", element=\"275c726d-67aa-4311-9068-66f377230be4\")>,\n",
       " <selenium.webdriver.remote.webelement.WebElement (session=\"9636621677067f7b5736f8e84c980e16\", element=\"1e65e05b-8215-4c67-bc9d-e3b570af540f\")>,\n",
       " <selenium.webdriver.remote.webelement.WebElement (session=\"9636621677067f7b5736f8e84c980e16\", element=\"a0616dd0-8979-4f80-bef8-af10b1f5e162\")>,\n",
       " <selenium.webdriver.remote.webelement.WebElement (session=\"9636621677067f7b5736f8e84c980e16\", element=\"40400e0b-c8f3-4c9b-b062-be373649fa55\")>,\n",
       " <selenium.webdriver.remote.webelement.WebElement (session=\"9636621677067f7b5736f8e84c980e16\", element=\"cd981818-884c-41f5-a829-466c7274955c\")>,\n",
       " <selenium.webdriver.remote.webelement.WebElement (session=\"9636621677067f7b5736f8e84c980e16\", element=\"562c5768-823c-4ed4-a259-16977c7174da\")>,\n",
       " <selenium.webdriver.remote.webelement.WebElement (session=\"9636621677067f7b5736f8e84c980e16\", element=\"7de870f0-4061-435a-8b7a-eefe67824acd\")>,\n",
       " <selenium.webdriver.remote.webelement.WebElement (session=\"9636621677067f7b5736f8e84c980e16\", element=\"b27abcb4-5a79-49e1-8b8b-76a250137969\")>,\n",
       " <selenium.webdriver.remote.webelement.WebElement (session=\"9636621677067f7b5736f8e84c980e16\", element=\"32c29fb4-c93e-44fc-9078-fe857e8424fd\")>,\n",
       " <selenium.webdriver.remote.webelement.WebElement (session=\"9636621677067f7b5736f8e84c980e16\", element=\"caf280c5-22df-4996-b54e-e1e79c5e46e1\")>,\n",
       " <selenium.webdriver.remote.webelement.WebElement (session=\"9636621677067f7b5736f8e84c980e16\", element=\"33dac4df-eee2-4797-a4d0-d428de43520f\")>]"
      ]
     },
     "execution_count": 43,
     "metadata": {},
     "output_type": "execute_result"
    }
   ],
   "source": [
    "page3_brand = driver.find_elements_by_class_name(\"_2WkVRV\")\n",
    "page3_brand"
   ]
  },
  {
   "cell_type": "code",
   "execution_count": 45,
   "id": "50588500",
   "metadata": {},
   "outputs": [
    {
     "data": {
      "text/plain": [
       "['Fastrack',\n",
       " 'Silver Kartz',\n",
       " 'ROYAL SON',\n",
       " 'PIRASO',\n",
       " 'Elligator',\n",
       " 'GANSTA',\n",
       " 'New Specs',\n",
       " 'agera',\n",
       " 'PIRASO',\n",
       " 'kingsunglasses',\n",
       " 'Rich Club',\n",
       " 'PIRASO',\n",
       " 'kingsunglasses',\n",
       " 'kingsunglasses',\n",
       " 'Fastrack',\n",
       " 'GANSTA',\n",
       " 'kingsunglasses',\n",
       " 'SRPM',\n",
       " 'GANSTA',\n",
       " 'PIRASO',\n",
       " 'New Specs',\n",
       " 'PIRASO',\n",
       " 'PHENOMENAL',\n",
       " 'PIRASO',\n",
       " 'ROYAL SON',\n",
       " 'Lee Topper',\n",
       " 'ROYAL SON',\n",
       " 'elegante',\n",
       " 'Fastrack',\n",
       " 'Fastrack',\n",
       " 'IDEE',\n",
       " 'PIRASO',\n",
       " 'PHENOMENAL',\n",
       " 'Silver Kartz',\n",
       " 'ROZZETTA CRAFT',\n",
       " 'PIRASO',\n",
       " 'Fastrack',\n",
       " 'Lee Topper',\n",
       " 'New Specs',\n",
       " 'PIRASO']"
      ]
     },
     "execution_count": 45,
     "metadata": {},
     "output_type": "execute_result"
    }
   ],
   "source": [
    "brandspage3 = []\n",
    "\n",
    "for d in page3_brand:\n",
    "    brandspage3.append(d.text)\n",
    "brandspage3"
   ]
  },
  {
   "cell_type": "code",
   "execution_count": 46,
   "id": "bcec0ff3",
   "metadata": {},
   "outputs": [
    {
     "data": {
      "text/plain": [
       "[<selenium.webdriver.remote.webelement.WebElement (session=\"9636621677067f7b5736f8e84c980e16\", element=\"6c01c32a-31e4-42c0-b4a6-4e02b813c80c\")>,\n",
       " <selenium.webdriver.remote.webelement.WebElement (session=\"9636621677067f7b5736f8e84c980e16\", element=\"eac89896-5595-48b0-a850-5fdce3bd52e9\")>,\n",
       " <selenium.webdriver.remote.webelement.WebElement (session=\"9636621677067f7b5736f8e84c980e16\", element=\"52a9799b-f192-4b9a-9781-9a9ca316b041\")>,\n",
       " <selenium.webdriver.remote.webelement.WebElement (session=\"9636621677067f7b5736f8e84c980e16\", element=\"f8da969e-3248-4959-9a9d-158353fa66ce\")>,\n",
       " <selenium.webdriver.remote.webelement.WebElement (session=\"9636621677067f7b5736f8e84c980e16\", element=\"5fe1177f-b754-4254-9acf-5ae02fd13a4d\")>,\n",
       " <selenium.webdriver.remote.webelement.WebElement (session=\"9636621677067f7b5736f8e84c980e16\", element=\"b3b56398-7b98-4d05-a622-c6115f34808a\")>,\n",
       " <selenium.webdriver.remote.webelement.WebElement (session=\"9636621677067f7b5736f8e84c980e16\", element=\"fbce6582-19d8-49f8-bcf1-745dc1187fa2\")>,\n",
       " <selenium.webdriver.remote.webelement.WebElement (session=\"9636621677067f7b5736f8e84c980e16\", element=\"e5a3e4f8-0463-4743-b696-3325d3eb9438\")>,\n",
       " <selenium.webdriver.remote.webelement.WebElement (session=\"9636621677067f7b5736f8e84c980e16\", element=\"627c34bf-0302-43e3-8bc0-d8de20d42074\")>,\n",
       " <selenium.webdriver.remote.webelement.WebElement (session=\"9636621677067f7b5736f8e84c980e16\", element=\"4b5ff6fe-e93e-440e-8edb-7d58d2ba09a0\")>,\n",
       " <selenium.webdriver.remote.webelement.WebElement (session=\"9636621677067f7b5736f8e84c980e16\", element=\"9bbe61a0-e425-4ebe-9cae-2da22b7260a6\")>,\n",
       " <selenium.webdriver.remote.webelement.WebElement (session=\"9636621677067f7b5736f8e84c980e16\", element=\"cfd96e38-2673-4c3f-a973-fd3865015955\")>,\n",
       " <selenium.webdriver.remote.webelement.WebElement (session=\"9636621677067f7b5736f8e84c980e16\", element=\"a5ed96fe-8442-498e-bdb3-efac60bf39a3\")>,\n",
       " <selenium.webdriver.remote.webelement.WebElement (session=\"9636621677067f7b5736f8e84c980e16\", element=\"574e5699-b577-464e-b205-d28d89244ffc\")>,\n",
       " <selenium.webdriver.remote.webelement.WebElement (session=\"9636621677067f7b5736f8e84c980e16\", element=\"5f5be8aa-5030-477c-b7bf-b5df2944babf\")>,\n",
       " <selenium.webdriver.remote.webelement.WebElement (session=\"9636621677067f7b5736f8e84c980e16\", element=\"63e78932-dabc-4249-ad7a-7ee1950b77ee\")>,\n",
       " <selenium.webdriver.remote.webelement.WebElement (session=\"9636621677067f7b5736f8e84c980e16\", element=\"f432fb98-e969-435e-a734-6f4a7ac3550a\")>,\n",
       " <selenium.webdriver.remote.webelement.WebElement (session=\"9636621677067f7b5736f8e84c980e16\", element=\"a3911bc3-c75c-4767-81b6-b21dd21ab2c1\")>,\n",
       " <selenium.webdriver.remote.webelement.WebElement (session=\"9636621677067f7b5736f8e84c980e16\", element=\"333bc833-d6fa-4e1c-8cb9-88ee0efe3d35\")>,\n",
       " <selenium.webdriver.remote.webelement.WebElement (session=\"9636621677067f7b5736f8e84c980e16\", element=\"ea93259d-ec94-4d4f-9f14-cbfecbcbf03a\")>,\n",
       " <selenium.webdriver.remote.webelement.WebElement (session=\"9636621677067f7b5736f8e84c980e16\", element=\"04b92d9e-e7cb-48f9-a7cd-c6fb21b01701\")>,\n",
       " <selenium.webdriver.remote.webelement.WebElement (session=\"9636621677067f7b5736f8e84c980e16\", element=\"0c77dd0b-d87a-4808-b022-088172f9b31f\")>,\n",
       " <selenium.webdriver.remote.webelement.WebElement (session=\"9636621677067f7b5736f8e84c980e16\", element=\"ff745ff0-c705-4935-abfb-efbcb8f58b06\")>,\n",
       " <selenium.webdriver.remote.webelement.WebElement (session=\"9636621677067f7b5736f8e84c980e16\", element=\"993ab44c-a392-449f-ab07-a7de8fa872e4\")>,\n",
       " <selenium.webdriver.remote.webelement.WebElement (session=\"9636621677067f7b5736f8e84c980e16\", element=\"9e0b910f-5a3d-4b43-aba2-b27c0302f8c6\")>,\n",
       " <selenium.webdriver.remote.webelement.WebElement (session=\"9636621677067f7b5736f8e84c980e16\", element=\"78846659-5c9e-4445-b43e-aea209f5455d\")>,\n",
       " <selenium.webdriver.remote.webelement.WebElement (session=\"9636621677067f7b5736f8e84c980e16\", element=\"792d11d8-ebe2-4246-b518-684e72578a1a\")>,\n",
       " <selenium.webdriver.remote.webelement.WebElement (session=\"9636621677067f7b5736f8e84c980e16\", element=\"d467f2d1-945d-458f-bd80-cce99cdc5bf4\")>,\n",
       " <selenium.webdriver.remote.webelement.WebElement (session=\"9636621677067f7b5736f8e84c980e16\", element=\"d3ea47ae-aa0c-4790-963f-e1f5dee21089\")>,\n",
       " <selenium.webdriver.remote.webelement.WebElement (session=\"9636621677067f7b5736f8e84c980e16\", element=\"fbc78202-8755-4c0c-baed-aef8cdece68e\")>,\n",
       " <selenium.webdriver.remote.webelement.WebElement (session=\"9636621677067f7b5736f8e84c980e16\", element=\"76282105-a150-40a6-8403-ae618347231b\")>,\n",
       " <selenium.webdriver.remote.webelement.WebElement (session=\"9636621677067f7b5736f8e84c980e16\", element=\"c56626e2-50eb-48c9-9d47-cf5a5c3f135c\")>,\n",
       " <selenium.webdriver.remote.webelement.WebElement (session=\"9636621677067f7b5736f8e84c980e16\", element=\"31e448d7-a94b-47d7-a27f-efda3694d38a\")>,\n",
       " <selenium.webdriver.remote.webelement.WebElement (session=\"9636621677067f7b5736f8e84c980e16\", element=\"a73583d8-60be-4250-97f5-b42c470b08d4\")>,\n",
       " <selenium.webdriver.remote.webelement.WebElement (session=\"9636621677067f7b5736f8e84c980e16\", element=\"e9a1b213-568e-42d8-b1fc-a65e0eda01e7\")>,\n",
       " <selenium.webdriver.remote.webelement.WebElement (session=\"9636621677067f7b5736f8e84c980e16\", element=\"3016e6b8-7c91-4f59-8bc6-91a4af2a2686\")>,\n",
       " <selenium.webdriver.remote.webelement.WebElement (session=\"9636621677067f7b5736f8e84c980e16\", element=\"3138040d-6853-4a77-99b0-c7e3c2cdb226\")>,\n",
       " <selenium.webdriver.remote.webelement.WebElement (session=\"9636621677067f7b5736f8e84c980e16\", element=\"01dfdd2d-b5e2-406d-b1ad-73a9702ba1fe\")>,\n",
       " <selenium.webdriver.remote.webelement.WebElement (session=\"9636621677067f7b5736f8e84c980e16\", element=\"987f22b8-cc0e-4cc5-957f-f9236c938bde\")>,\n",
       " <selenium.webdriver.remote.webelement.WebElement (session=\"9636621677067f7b5736f8e84c980e16\", element=\"1449c14f-da1c-45bc-b07a-d96354ff19aa\")>]"
      ]
     },
     "execution_count": 46,
     "metadata": {},
     "output_type": "execute_result"
    }
   ],
   "source": [
    "page3_dis = driver.find_elements_by_class_name(\"IRpwTa\")\n",
    "page3_dis"
   ]
  },
  {
   "cell_type": "code",
   "execution_count": 47,
   "id": "b558b77f",
   "metadata": {},
   "outputs": [
    {
     "data": {
      "text/plain": [
       "['Polarized Retro Square Sunglasses (Free Size)',\n",
       " 'UV Protection Oval Sunglasses (56)',\n",
       " 'Mirrored Aviator Sunglasses (Free Size)',\n",
       " 'UV Protection Aviator Sunglasses (54)',\n",
       " 'UV Protection Retro Square, Round Sunglasses (54)',\n",
       " 'UV Protection, Riding Glasses Wayfarer Sunglasses (53)',\n",
       " 'UV Protection Rectangular Sunglasses (Free Size)',\n",
       " 'Gradient Aviator Sunglasses (55)',\n",
       " 'UV Protection Butterfly Sunglasses (65)',\n",
       " 'UV Protection Round Sunglasses (Free Size)',\n",
       " 'Polarized Round Sunglasses (48)',\n",
       " 'UV Protection Aviator Sunglasses (55)',\n",
       " 'Mirrored, UV Protection Aviator Sunglasses (56)',\n",
       " 'UV Protection Rectangular Sunglasses (55)',\n",
       " 'UV Protection Aviator Sunglasses (Free Size)',\n",
       " 'UV Protection Aviator Sunglasses (57)',\n",
       " 'Mirrored, UV Protection Wayfarer Sunglasses (53)',\n",
       " 'Night Vision, UV Protection Round Sunglasses (54)',\n",
       " 'UV Protection Aviator Sunglasses (57)',\n",
       " 'UV Protection Aviator Sunglasses (54)',\n",
       " 'UV Protection Rectangular Sunglasses (Free Size)',\n",
       " 'UV Protection Aviator Sunglasses (58)',\n",
       " 'UV Protection Clubmaster Sunglasses (Free Size)',\n",
       " 'UV Protection Aviator Sunglasses (54)',\n",
       " 'UV Protection, Gradient Butterfly Sunglasses (57)',\n",
       " 'UV Protection Cat-eye Sunglasses (Free Size)',\n",
       " 'UV Protection Retro Square Sunglasses (58)',\n",
       " 'UV Protection Oval Sunglasses (Free Size)',\n",
       " 'UV Protection Aviator Sunglasses (Free Size)',\n",
       " 'UV Protection Aviator Sunglasses (Free Size)',\n",
       " 'UV Protection Cat-eye Sunglasses (17)',\n",
       " 'UV Protection Aviator Sunglasses (Free Size)',\n",
       " 'UV Protection, Mirrored Clubmaster Sunglasses (Free Siz...',\n",
       " 'UV Protection Wayfarer Sunglasses (Free Size)',\n",
       " 'UV Protection, Gradient Retro Square Sunglasses (Free S...',\n",
       " 'UV Protection Butterfly Sunglasses (60)',\n",
       " 'UV Protection Sports Sunglasses (63)',\n",
       " 'UV Protection Round Sunglasses (Free Size)',\n",
       " 'UV Protection Aviator Sunglasses (Free Size)',\n",
       " 'UV Protection Rectangular, Over-sized Sunglasses (Free ...']"
      ]
     },
     "execution_count": 47,
     "metadata": {},
     "output_type": "execute_result"
    }
   ],
   "source": [
    "dispage3 = []\n",
    "\n",
    "for e in page3_dis:\n",
    "    dispage3.append(e.text)\n",
    "dispage3"
   ]
  },
  {
   "cell_type": "code",
   "execution_count": 48,
   "id": "27afb77f",
   "metadata": {},
   "outputs": [
    {
     "data": {
      "text/plain": [
       "40"
      ]
     },
     "execution_count": 48,
     "metadata": {},
     "output_type": "execute_result"
    }
   ],
   "source": [
    "page3_prices = driver.find_elements_by_xpath('//div[@class=\"_30jeq3\"]')\n",
    "len(page3_prices)"
   ]
  },
  {
   "cell_type": "code",
   "execution_count": 49,
   "id": "c249111e",
   "metadata": {},
   "outputs": [
    {
     "data": {
      "text/plain": [
       "['₹639',\n",
       " '₹284',\n",
       " '₹359',\n",
       " '₹225',\n",
       " '₹291',\n",
       " '₹209',\n",
       " '₹156',\n",
       " '₹196',\n",
       " '₹349',\n",
       " '₹279',\n",
       " '₹152',\n",
       " '₹250',\n",
       " '₹209',\n",
       " '₹159',\n",
       " '₹639',\n",
       " '₹269',\n",
       " '₹246',\n",
       " '₹199',\n",
       " '₹204',\n",
       " '₹225',\n",
       " '₹177',\n",
       " '₹299',\n",
       " '₹289',\n",
       " '₹229',\n",
       " '₹664',\n",
       " '₹281',\n",
       " '₹449',\n",
       " '₹389',\n",
       " '₹619',\n",
       " '₹639',\n",
       " '₹1,079',\n",
       " '₹299',\n",
       " '₹289',\n",
       " '₹246',\n",
       " '₹331',\n",
       " '₹349',\n",
       " '₹599',\n",
       " '₹299',\n",
       " '₹175',\n",
       " '₹325']"
      ]
     },
     "execution_count": 49,
     "metadata": {},
     "output_type": "execute_result"
    }
   ],
   "source": [
    "prices3 = []\n",
    "for price3 in page3_prices:\n",
    "    prices3.append(price3.text)\n",
    "prices3"
   ]
  },
  {
   "cell_type": "code",
   "execution_count": null,
   "id": "09bb5b82",
   "metadata": {},
   "outputs": [],
   "source": []
  },
  {
   "cell_type": "code",
   "execution_count": null,
   "id": "a217ff1e",
   "metadata": {},
   "outputs": [],
   "source": []
  },
  {
   "cell_type": "code",
   "execution_count": null,
   "id": "2e4a7f0d",
   "metadata": {},
   "outputs": [],
   "source": []
  },
  {
   "cell_type": "code",
   "execution_count": null,
   "id": "6c8398d8",
   "metadata": {},
   "outputs": [],
   "source": []
  }
 ],
 "metadata": {
  "kernelspec": {
   "display_name": "Python 3",
   "language": "python",
   "name": "python3"
  },
  "language_info": {
   "codemirror_mode": {
    "name": "ipython",
    "version": 3
   },
   "file_extension": ".py",
   "mimetype": "text/x-python",
   "name": "python",
   "nbconvert_exporter": "python",
   "pygments_lexer": "ipython3",
   "version": "3.8.8"
  }
 },
 "nbformat": 4,
 "nbformat_minor": 5
}
