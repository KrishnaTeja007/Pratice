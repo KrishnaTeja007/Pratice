{
 "cells": [
  {
   "cell_type": "code",
   "execution_count": 1,
   "id": "fbcfb800",
   "metadata": {},
   "outputs": [
    {
     "name": "stdout",
     "output_type": "stream",
     "text": [
      "Requirement already satisfied: selenium in c:\\programdata\\anaconda3\\lib\\site-packages (4.1.0)\n",
      "Requirement already satisfied: urllib3[secure]~=1.26 in c:\\programdata\\anaconda3\\lib\\site-packages (from selenium) (1.26.4)\n",
      "Requirement already satisfied: trio-websocket~=0.9 in c:\\programdata\\anaconda3\\lib\\site-packages (from selenium) (0.9.2)\n",
      "Requirement already satisfied: trio~=0.17 in c:\\programdata\\anaconda3\\lib\\site-packages (from selenium) (0.19.0)\n",
      "Requirement already satisfied: async-generator>=1.9 in c:\\programdata\\anaconda3\\lib\\site-packages (from trio~=0.17->selenium) (1.10)\n",
      "Requirement already satisfied: attrs>=19.2.0 in c:\\programdata\\anaconda3\\lib\\site-packages (from trio~=0.17->selenium) (20.3.0)\n",
      "Requirement already satisfied: sortedcontainers in c:\\programdata\\anaconda3\\lib\\site-packages (from trio~=0.17->selenium) (2.3.0)\n",
      "Requirement already satisfied: idna in c:\\programdata\\anaconda3\\lib\\site-packages (from trio~=0.17->selenium) (2.10)\n",
      "Requirement already satisfied: outcome in c:\\programdata\\anaconda3\\lib\\site-packages (from trio~=0.17->selenium) (1.1.0)\n",
      "Requirement already satisfied: sniffio in c:\\programdata\\anaconda3\\lib\\site-packages (from trio~=0.17->selenium) (1.2.0)\n",
      "Requirement already satisfied: cffi>=1.14 in c:\\programdata\\anaconda3\\lib\\site-packages (from trio~=0.17->selenium) (1.14.5)\n",
      "Requirement already satisfied: pycparser in c:\\programdata\\anaconda3\\lib\\site-packages (from cffi>=1.14->trio~=0.17->selenium) (2.20)\n",
      "Requirement already satisfied: wsproto>=0.14 in c:\\programdata\\anaconda3\\lib\\site-packages (from trio-websocket~=0.9->selenium) (1.0.0)\n",
      "Requirement already satisfied: pyOpenSSL>=0.14 in c:\\programdata\\anaconda3\\lib\\site-packages (from urllib3[secure]~=1.26->selenium) (20.0.1)\n",
      "Requirement already satisfied: cryptography>=1.3.4 in c:\\programdata\\anaconda3\\lib\\site-packages (from urllib3[secure]~=1.26->selenium) (3.4.7)\n",
      "Requirement already satisfied: certifi in c:\\programdata\\anaconda3\\lib\\site-packages (from urllib3[secure]~=1.26->selenium) (2020.12.5)\n",
      "Requirement already satisfied: six>=1.5.2 in c:\\programdata\\anaconda3\\lib\\site-packages (from pyOpenSSL>=0.14->urllib3[secure]~=1.26->selenium) (1.15.0)\n",
      "Requirement already satisfied: h11<1,>=0.9.0 in c:\\programdata\\anaconda3\\lib\\site-packages (from wsproto>=0.14->trio-websocket~=0.9->selenium) (0.13.0)\n"
     ]
    }
   ],
   "source": [
    "!pip install selenium"
   ]
  },
  {
   "cell_type": "code",
   "execution_count": 2,
   "id": "c73e247e",
   "metadata": {},
   "outputs": [],
   "source": [
    "import selenium\n",
    "from selenium import webdriver\n",
    "import pandas as pd\n",
    "import warnings\n",
    "warnings.filterwarnings(\"ignore\")"
   ]
  },
  {
   "cell_type": "code",
   "execution_count": 3,
   "id": "07c68b71",
   "metadata": {},
   "outputs": [],
   "source": [
    "driver = webdriver.Chrome(r'C:\\Users\\Teja\\Desktop\\DATA TRAINED\\FLIP ROBO\\chromedriver.exe')"
   ]
  },
  {
   "cell_type": "code",
   "execution_count": 4,
   "id": "15504c01",
   "metadata": {},
   "outputs": [],
   "source": [
    "url = \"https://www.ambitionbox.com/\"\n",
    "driver.get(url)"
   ]
  },
  {
   "cell_type": "code",
   "execution_count": 5,
   "id": "4b556a0d",
   "metadata": {},
   "outputs": [
    {
     "data": {
      "text/plain": [
       "<selenium.webdriver.remote.webelement.WebElement (session=\"b6be799d90307f45d2e87f324e7db9fa\", element=\"76ecbc2a-d19f-45da-be1e-dbecaa5d404b\")>"
      ]
     },
     "execution_count": 5,
     "metadata": {},
     "output_type": "execute_result"
    }
   ],
   "source": [
    "search_btn = driver.find_element_by_xpath('/html/body/div[1]/nav/nav/a[6]')\n",
    "search_btn"
   ]
  },
  {
   "cell_type": "code",
   "execution_count": 6,
   "id": "7c76ba77",
   "metadata": {},
   "outputs": [],
   "source": [
    "search_btn.click()"
   ]
  },
  {
   "cell_type": "code",
   "execution_count": 7,
   "id": "34251c14",
   "metadata": {},
   "outputs": [
    {
     "data": {
      "text/plain": [
       "<selenium.webdriver.remote.webelement.WebElement (session=\"b6be799d90307f45d2e87f324e7db9fa\", element=\"e6a9526c-4861-4185-b0a5-a7f97c892df3\")>"
      ]
     },
     "execution_count": 7,
     "metadata": {},
     "output_type": "execute_result"
    }
   ],
   "source": [
    "search_jobs = driver.find_element_by_xpath('/html/body/div/div/div/div[2]/div[1]/div/div/div/div/span/input')\n",
    "search_jobs"
   ]
  },
  {
   "cell_type": "code",
   "execution_count": 8,
   "id": "4921264b",
   "metadata": {},
   "outputs": [],
   "source": [
    "search_jobs.send_keys(\"Data Scientist\")"
   ]
  },
  {
   "cell_type": "code",
   "execution_count": 9,
   "id": "790cabed",
   "metadata": {},
   "outputs": [
    {
     "data": {
      "text/plain": [
       "<selenium.webdriver.remote.webelement.WebElement (session=\"b6be799d90307f45d2e87f324e7db9fa\", element=\"598e7a65-b05e-4f30-bd79-38f560cfba0b\")>"
      ]
     },
     "execution_count": 9,
     "metadata": {},
     "output_type": "execute_result"
    }
   ],
   "source": [
    "search_btn1 = driver.find_element_by_xpath('/html/body/div/div/div/div[2]/div[1]/div/div/div/button')\n",
    "search_btn1"
   ]
  },
  {
   "cell_type": "code",
   "execution_count": 10,
   "id": "4abcd8a4",
   "metadata": {},
   "outputs": [],
   "source": [
    "search_btn1.click()"
   ]
  },
  {
   "cell_type": "code",
   "execution_count": 11,
   "id": "8792b465",
   "metadata": {},
   "outputs": [
    {
     "data": {
      "text/plain": [
       "<selenium.webdriver.remote.webelement.WebElement (session=\"b6be799d90307f45d2e87f324e7db9fa\", element=\"140d0654-d82d-487f-bd79-c02f1d5af10a\")>"
      ]
     },
     "execution_count": 11,
     "metadata": {},
     "output_type": "execute_result"
    }
   ],
   "source": [
    "search_btn2 = driver.find_element_by_xpath('/html/body/div/div/div/div[2]/div[2]/div[1]/div/div/div/div[2]/div[1]/p')\n",
    "search_btn2"
   ]
  },
  {
   "cell_type": "code",
   "execution_count": 12,
   "id": "6a0b2548",
   "metadata": {},
   "outputs": [],
   "source": [
    "search_btn2.click()"
   ]
  },
  {
   "cell_type": "code",
   "execution_count": 13,
   "id": "9469d8fd",
   "metadata": {},
   "outputs": [
    {
     "data": {
      "text/plain": [
       "<selenium.webdriver.remote.webelement.WebElement (session=\"b6be799d90307f45d2e87f324e7db9fa\", element=\"24ff80f9-32fc-423d-aede-b658e2bc88f3\")>"
      ]
     },
     "execution_count": 13,
     "metadata": {},
     "output_type": "execute_result"
    }
   ],
   "source": [
    "search_location = driver.find_element_by_xpath('/html/body/div/div/div/div[2]/div[2]/div[1]/div/div/div/div[2]/div[2]/div/div[2]/input')\n",
    "search_location"
   ]
  },
  {
   "cell_type": "code",
   "execution_count": 14,
   "id": "2b1f4be1",
   "metadata": {},
   "outputs": [],
   "source": [
    "search_location.send_keys(\"Noida\")"
   ]
  },
  {
   "cell_type": "code",
   "execution_count": 15,
   "id": "af8cb043",
   "metadata": {},
   "outputs": [
    {
     "data": {
      "text/plain": [
       "<selenium.webdriver.remote.webelement.WebElement (session=\"b6be799d90307f45d2e87f324e7db9fa\", element=\"d397dd55-adbd-4e6d-b03e-44ffa7ce4a66\")>"
      ]
     },
     "execution_count": 15,
     "metadata": {},
     "output_type": "execute_result"
    }
   ],
   "source": [
    "search_btn3 = driver.find_element_by_xpath('/html/body/div/div/div/div[2]/div[2]/div[1]/div/div/div/div[2]/div[2]/div/div[3]/div[1]/div[1]/div/label')\n",
    "search_btn3"
   ]
  },
  {
   "cell_type": "code",
   "execution_count": 16,
   "id": "3ba8898c",
   "metadata": {},
   "outputs": [],
   "source": [
    "search_btn3.click()"
   ]
  },
  {
   "cell_type": "code",
   "execution_count": 19,
   "id": "32652c78",
   "metadata": {},
   "outputs": [
    {
     "data": {
      "text/plain": [
       "[<selenium.webdriver.remote.webelement.WebElement (session=\"b6be799d90307f45d2e87f324e7db9fa\", element=\"a24879d8-f177-4e3e-aed5-db3449732b03\")>,\n",
       " <selenium.webdriver.remote.webelement.WebElement (session=\"b6be799d90307f45d2e87f324e7db9fa\", element=\"7987b744-ba04-4043-8ec1-d004dee3f72a\")>,\n",
       " <selenium.webdriver.remote.webelement.WebElement (session=\"b6be799d90307f45d2e87f324e7db9fa\", element=\"4fceeff8-853d-45de-b958-be3d6c4e55bc\")>,\n",
       " <selenium.webdriver.remote.webelement.WebElement (session=\"b6be799d90307f45d2e87f324e7db9fa\", element=\"549d7ab8-e103-4e32-8f28-e434441bec6b\")>,\n",
       " <selenium.webdriver.remote.webelement.WebElement (session=\"b6be799d90307f45d2e87f324e7db9fa\", element=\"9417a8a9-5687-4834-b5b2-8ab96c47d144\")>,\n",
       " <selenium.webdriver.remote.webelement.WebElement (session=\"b6be799d90307f45d2e87f324e7db9fa\", element=\"461d888e-b140-44fc-8ec7-6b1bce296773\")>,\n",
       " <selenium.webdriver.remote.webelement.WebElement (session=\"b6be799d90307f45d2e87f324e7db9fa\", element=\"ee986f8b-30e5-4028-bb51-725edd20045c\")>,\n",
       " <selenium.webdriver.remote.webelement.WebElement (session=\"b6be799d90307f45d2e87f324e7db9fa\", element=\"14e5023b-9500-41ec-8384-2055ae238e4a\")>,\n",
       " <selenium.webdriver.remote.webelement.WebElement (session=\"b6be799d90307f45d2e87f324e7db9fa\", element=\"d4464501-4f3f-4d81-854e-cb71ffa313ec\")>,\n",
       " <selenium.webdriver.remote.webelement.WebElement (session=\"b6be799d90307f45d2e87f324e7db9fa\", element=\"1a971496-6e5f-4f19-8dae-8b3007734ccf\")>]"
      ]
     },
     "execution_count": 19,
     "metadata": {},
     "output_type": "execute_result"
    }
   ],
   "source": [
    "scraped_name = driver.find_elements_by_xpath('//a[@class=\"title noclick\"]')\n",
    "scraped_name"
   ]
  },
  {
   "cell_type": "code",
   "execution_count": 20,
   "id": "29c588bd",
   "metadata": {},
   "outputs": [
    {
     "data": {
      "text/plain": [
       "['Data Scientist',\n",
       " 'Urgent Requirement || Data Scientist || Noida',\n",
       " 'Opportunity | Tavant India',\n",
       " 'Looking For Senior Data Scientist For Denave',\n",
       " 'EY GDS - Assistant Director - Data Science - AI/ML (15-20 yrs)',\n",
       " 'Lead Assistant Manager',\n",
       " 'Data Scientist | Data Engineer | Machine Learning',\n",
       " 'Data Scientist - Machine Learning (5-14 yrs)',\n",
       " 'Manager Data Scientist',\n",
       " 'Data Scientist']"
      ]
     },
     "execution_count": 20,
     "metadata": {},
     "output_type": "execute_result"
    }
   ],
   "source": [
    "names = []\n",
    "for name in scraped_name:\n",
    "    names.append(name.text)\n",
    "names"
   ]
  },
  {
   "cell_type": "code",
   "execution_count": 21,
   "id": "d1fbd0ce",
   "metadata": {},
   "outputs": [
    {
     "data": {
      "text/plain": [
       "10"
      ]
     },
     "execution_count": 21,
     "metadata": {},
     "output_type": "execute_result"
    }
   ],
   "source": [
    "len(names)"
   ]
  },
  {
   "cell_type": "code",
   "execution_count": 23,
   "id": "80ac3afb",
   "metadata": {},
   "outputs": [
    {
     "data": {
      "text/plain": [
       "[<selenium.webdriver.remote.webelement.WebElement (session=\"b6be799d90307f45d2e87f324e7db9fa\", element=\"250d3044-f810-4f67-aa7f-d0965683e622\")>,\n",
       " <selenium.webdriver.remote.webelement.WebElement (session=\"b6be799d90307f45d2e87f324e7db9fa\", element=\"2f0d0a97-1c1a-4710-b75d-71ec296a8a13\")>,\n",
       " <selenium.webdriver.remote.webelement.WebElement (session=\"b6be799d90307f45d2e87f324e7db9fa\", element=\"d2d0c4cb-4027-48ea-9cd9-cda6460d58f4\")>,\n",
       " <selenium.webdriver.remote.webelement.WebElement (session=\"b6be799d90307f45d2e87f324e7db9fa\", element=\"1f3c21f4-a582-4633-aa68-5c9b9fdb97e5\")>,\n",
       " <selenium.webdriver.remote.webelement.WebElement (session=\"b6be799d90307f45d2e87f324e7db9fa\", element=\"5efb9f69-c597-4516-a2b3-f2a72ba3b826\")>,\n",
       " <selenium.webdriver.remote.webelement.WebElement (session=\"b6be799d90307f45d2e87f324e7db9fa\", element=\"74093d93-0a7a-4a7d-99e6-5f4d8b6c5bfa\")>,\n",
       " <selenium.webdriver.remote.webelement.WebElement (session=\"b6be799d90307f45d2e87f324e7db9fa\", element=\"51741280-f088-4bf6-8bdf-7e3c2a26dffa\")>,\n",
       " <selenium.webdriver.remote.webelement.WebElement (session=\"b6be799d90307f45d2e87f324e7db9fa\", element=\"142640f5-03ac-4497-89db-c29f958c1348\")>,\n",
       " <selenium.webdriver.remote.webelement.WebElement (session=\"b6be799d90307f45d2e87f324e7db9fa\", element=\"c59d632f-788d-4962-83cb-11c79cf96132\")>,\n",
       " <selenium.webdriver.remote.webelement.WebElement (session=\"b6be799d90307f45d2e87f324e7db9fa\", element=\"c06595cc-79c2-4ff9-aca8-33671e14b466\")>]"
      ]
     },
     "execution_count": 23,
     "metadata": {},
     "output_type": "execute_result"
    }
   ],
   "source": [
    "scraped_reviews = driver.find_elements_by_xpath('//span[@class=\"body-small\"]')\n",
    "scraped_reviews"
   ]
  },
  {
   "cell_type": "code",
   "execution_count": 25,
   "id": "c0d7b71f",
   "metadata": {},
   "outputs": [
    {
     "data": {
      "text/plain": [
       "['3.9', '3.8', '4.0', '4.0', '3.7', '3.8', '4.2', '4.1', '4.0', '3.9']"
      ]
     },
     "execution_count": 25,
     "metadata": {},
     "output_type": "execute_result"
    }
   ],
   "source": [
    "reviews = []\n",
    "for review in scraped_reviews:\n",
    "    reviews.append(review.text)\n",
    "reviews"
   ]
  },
  {
   "cell_type": "code",
   "execution_count": null,
   "id": "f4fb386f",
   "metadata": {},
   "outputs": [],
   "source": []
  }
 ],
 "metadata": {
  "kernelspec": {
   "display_name": "Python 3",
   "language": "python",
   "name": "python3"
  },
  "language_info": {
   "codemirror_mode": {
    "name": "ipython",
    "version": 3
   },
   "file_extension": ".py",
   "mimetype": "text/x-python",
   "name": "python",
   "nbconvert_exporter": "python",
   "pygments_lexer": "ipython3",
   "version": "3.8.8"
  }
 },
 "nbformat": 4,
 "nbformat_minor": 5
}
