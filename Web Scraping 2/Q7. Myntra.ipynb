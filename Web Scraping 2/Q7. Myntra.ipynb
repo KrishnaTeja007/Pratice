{
 "cells": [
  {
   "cell_type": "code",
   "execution_count": 1,
   "id": "c3ed1e3d",
   "metadata": {},
   "outputs": [
    {
     "name": "stdout",
     "output_type": "stream",
     "text": [
      "Requirement already satisfied: selenium in c:\\programdata\\anaconda3\\lib\\site-packages (4.1.0)\n",
      "Requirement already satisfied: trio-websocket~=0.9 in c:\\programdata\\anaconda3\\lib\\site-packages (from selenium) (0.9.2)\n",
      "Requirement already satisfied: urllib3[secure]~=1.26 in c:\\programdata\\anaconda3\\lib\\site-packages (from selenium) (1.26.4)\n",
      "Requirement already satisfied: trio~=0.17 in c:\\programdata\\anaconda3\\lib\\site-packages (from selenium) (0.19.0)\n",
      "Requirement already satisfied: attrs>=19.2.0 in c:\\programdata\\anaconda3\\lib\\site-packages (from trio~=0.17->selenium) (20.3.0)\n",
      "Requirement already satisfied: idna in c:\\programdata\\anaconda3\\lib\\site-packages (from trio~=0.17->selenium) (2.10)\n",
      "Requirement already satisfied: outcome in c:\\programdata\\anaconda3\\lib\\site-packages (from trio~=0.17->selenium) (1.1.0)\n",
      "Requirement already satisfied: sortedcontainers in c:\\programdata\\anaconda3\\lib\\site-packages (from trio~=0.17->selenium) (2.3.0)\n",
      "Requirement already satisfied: sniffio in c:\\programdata\\anaconda3\\lib\\site-packages (from trio~=0.17->selenium) (1.2.0)\n",
      "Requirement already satisfied: cffi>=1.14 in c:\\programdata\\anaconda3\\lib\\site-packages (from trio~=0.17->selenium) (1.14.5)\n",
      "Requirement already satisfied: async-generator>=1.9 in c:\\programdata\\anaconda3\\lib\\site-packages (from trio~=0.17->selenium) (1.10)\n",
      "Requirement already satisfied: pycparser in c:\\programdata\\anaconda3\\lib\\site-packages (from cffi>=1.14->trio~=0.17->selenium) (2.20)\n",
      "Requirement already satisfied: wsproto>=0.14 in c:\\programdata\\anaconda3\\lib\\site-packages (from trio-websocket~=0.9->selenium) (1.0.0)\n",
      "Requirement already satisfied: certifi in c:\\programdata\\anaconda3\\lib\\site-packages (from urllib3[secure]~=1.26->selenium) (2020.12.5)\n",
      "Requirement already satisfied: pyOpenSSL>=0.14 in c:\\programdata\\anaconda3\\lib\\site-packages (from urllib3[secure]~=1.26->selenium) (20.0.1)\n",
      "Requirement already satisfied: cryptography>=1.3.4 in c:\\programdata\\anaconda3\\lib\\site-packages (from urllib3[secure]~=1.26->selenium) (3.4.7)\n",
      "Requirement already satisfied: six>=1.5.2 in c:\\programdata\\anaconda3\\lib\\site-packages (from pyOpenSSL>=0.14->urllib3[secure]~=1.26->selenium) (1.15.0)\n",
      "Requirement already satisfied: h11<1,>=0.9.0 in c:\\programdata\\anaconda3\\lib\\site-packages (from wsproto>=0.14->trio-websocket~=0.9->selenium) (0.13.0)\n"
     ]
    }
   ],
   "source": [
    "!pip install selenium"
   ]
  },
  {
   "cell_type": "code",
   "execution_count": 2,
   "id": "83679dcc",
   "metadata": {},
   "outputs": [],
   "source": [
    "import selenium\n",
    "from selenium import webdriver\n",
    "import pandas as pd\n",
    "import warnings\n",
    "warnings.filterwarnings(\"ignore\")"
   ]
  },
  {
   "cell_type": "code",
   "execution_count": 3,
   "id": "0fc6cd4b",
   "metadata": {},
   "outputs": [],
   "source": [
    "driver = webdriver.Chrome(r'C:\\Users\\Teja\\Desktop\\DATA TRAINED\\FLIP ROBO\\chromedriver.exe')"
   ]
  },
  {
   "cell_type": "code",
   "execution_count": 4,
   "id": "aa643cc3",
   "metadata": {},
   "outputs": [],
   "source": [
    "url = \"https://www.myntra.com/shoes\"\n",
    "driver.get(url)"
   ]
  },
  {
   "cell_type": "code",
   "execution_count": 5,
   "id": "2e619e84",
   "metadata": {},
   "outputs": [
    {
     "data": {
      "text/plain": [
       "<selenium.webdriver.remote.webelement.WebElement (session=\"140d7a0885593e65bc7c87c9ba56b67f\", element=\"b9bb87b0-de22-41ae-a35a-2b0b09293c2a\")>"
      ]
     },
     "execution_count": 5,
     "metadata": {},
     "output_type": "execute_result"
    }
   ],
   "source": [
    "search_btn = driver.find_element_by_xpath(\"/html/body/div[2]/div/div[1]/main/div[3]/div[1]/section/div/div[5]/ul/li[2]/label/div\")\n",
    "search_btn"
   ]
  },
  {
   "cell_type": "code",
   "execution_count": 6,
   "id": "c486d560",
   "metadata": {},
   "outputs": [],
   "source": [
    "search_btn.click()"
   ]
  },
  {
   "cell_type": "code",
   "execution_count": 7,
   "id": "13546159",
   "metadata": {},
   "outputs": [
    {
     "data": {
      "text/plain": [
       "<selenium.webdriver.remote.webelement.WebElement (session=\"140d7a0885593e65bc7c87c9ba56b67f\", element=\"be017d20-b94f-41ee-a792-9593e7a48ab6\")>"
      ]
     },
     "execution_count": 7,
     "metadata": {},
     "output_type": "execute_result"
    }
   ],
   "source": [
    "search_btn1 = driver.find_element_by_xpath(\"/html/body/div[2]/div/div[1]/main/div[3]/div[1]/section/div/div[6]/ul/li[1]/label/div\")\n",
    "search_btn1"
   ]
  },
  {
   "cell_type": "code",
   "execution_count": 8,
   "id": "fa3ce344",
   "metadata": {},
   "outputs": [],
   "source": [
    "search_btn1.click()"
   ]
  },
  {
   "cell_type": "code",
   "execution_count": 9,
   "id": "4573fba6",
   "metadata": {},
   "outputs": [
    {
     "data": {
      "text/plain": [
       "[<selenium.webdriver.remote.webelement.WebElement (session=\"140d7a0885593e65bc7c87c9ba56b67f\", element=\"3e723089-08da-4b1a-85c6-744e9c5e3114\")>,\n",
       " <selenium.webdriver.remote.webelement.WebElement (session=\"140d7a0885593e65bc7c87c9ba56b67f\", element=\"95aa885c-ce42-4e0b-841d-79337658bae1\")>,\n",
       " <selenium.webdriver.remote.webelement.WebElement (session=\"140d7a0885593e65bc7c87c9ba56b67f\", element=\"6fd1ebc5-23ce-48bf-ac16-a8d027defc59\")>,\n",
       " <selenium.webdriver.remote.webelement.WebElement (session=\"140d7a0885593e65bc7c87c9ba56b67f\", element=\"0712c57f-a390-41ca-bcc8-86ded4ae4ffd\")>,\n",
       " <selenium.webdriver.remote.webelement.WebElement (session=\"140d7a0885593e65bc7c87c9ba56b67f\", element=\"b7e26632-1306-426e-b9ff-487a932953ef\")>,\n",
       " <selenium.webdriver.remote.webelement.WebElement (session=\"140d7a0885593e65bc7c87c9ba56b67f\", element=\"1c41778d-e3b2-4457-ae8b-a5a3de00343c\")>,\n",
       " <selenium.webdriver.remote.webelement.WebElement (session=\"140d7a0885593e65bc7c87c9ba56b67f\", element=\"305badba-60a8-4b54-9253-0405a7190fe5\")>,\n",
       " <selenium.webdriver.remote.webelement.WebElement (session=\"140d7a0885593e65bc7c87c9ba56b67f\", element=\"f86c79c8-d59f-477f-b9e6-6ad3eca2582a\")>,\n",
       " <selenium.webdriver.remote.webelement.WebElement (session=\"140d7a0885593e65bc7c87c9ba56b67f\", element=\"961f1a46-4ec2-4a23-b7af-4d139e1c2d7a\")>,\n",
       " <selenium.webdriver.remote.webelement.WebElement (session=\"140d7a0885593e65bc7c87c9ba56b67f\", element=\"ed39089a-447b-4a74-9a3b-ea3f5ce51519\")>,\n",
       " <selenium.webdriver.remote.webelement.WebElement (session=\"140d7a0885593e65bc7c87c9ba56b67f\", element=\"14b8a96a-1403-4694-8575-409c88d08070\")>,\n",
       " <selenium.webdriver.remote.webelement.WebElement (session=\"140d7a0885593e65bc7c87c9ba56b67f\", element=\"5c5c46aa-3485-42b2-a1b0-dc514c107b10\")>,\n",
       " <selenium.webdriver.remote.webelement.WebElement (session=\"140d7a0885593e65bc7c87c9ba56b67f\", element=\"e3a3b5a8-53b7-4071-8369-95e2cfa42c3b\")>,\n",
       " <selenium.webdriver.remote.webelement.WebElement (session=\"140d7a0885593e65bc7c87c9ba56b67f\", element=\"041a79b4-b99c-43fa-bc95-a5d67d1bca55\")>,\n",
       " <selenium.webdriver.remote.webelement.WebElement (session=\"140d7a0885593e65bc7c87c9ba56b67f\", element=\"8e894dac-8e9c-492a-89d7-da499789b1ff\")>,\n",
       " <selenium.webdriver.remote.webelement.WebElement (session=\"140d7a0885593e65bc7c87c9ba56b67f\", element=\"57fe218c-3552-4360-9d4f-54a4a9bf3a3e\")>,\n",
       " <selenium.webdriver.remote.webelement.WebElement (session=\"140d7a0885593e65bc7c87c9ba56b67f\", element=\"e8bfc120-ce4e-4450-bcf6-5b8593bf1574\")>,\n",
       " <selenium.webdriver.remote.webelement.WebElement (session=\"140d7a0885593e65bc7c87c9ba56b67f\", element=\"5bad9531-869c-414d-96ed-9847eefcb193\")>,\n",
       " <selenium.webdriver.remote.webelement.WebElement (session=\"140d7a0885593e65bc7c87c9ba56b67f\", element=\"d623299a-a4dc-450d-a326-ae4efbfeacd9\")>,\n",
       " <selenium.webdriver.remote.webelement.WebElement (session=\"140d7a0885593e65bc7c87c9ba56b67f\", element=\"3f19b2e1-d4a0-45c7-b28a-427394fc3c13\")>,\n",
       " <selenium.webdriver.remote.webelement.WebElement (session=\"140d7a0885593e65bc7c87c9ba56b67f\", element=\"457f1fc8-57f4-40fb-bf05-a59afeec00bd\")>,\n",
       " <selenium.webdriver.remote.webelement.WebElement (session=\"140d7a0885593e65bc7c87c9ba56b67f\", element=\"87e24e45-59d6-4955-91b8-2087ae731a2b\")>,\n",
       " <selenium.webdriver.remote.webelement.WebElement (session=\"140d7a0885593e65bc7c87c9ba56b67f\", element=\"9df910b2-5a76-48a5-8a2d-ec7a120f55e8\")>,\n",
       " <selenium.webdriver.remote.webelement.WebElement (session=\"140d7a0885593e65bc7c87c9ba56b67f\", element=\"9d3c61eb-d62a-4df4-8a09-78bbf56018f6\")>,\n",
       " <selenium.webdriver.remote.webelement.WebElement (session=\"140d7a0885593e65bc7c87c9ba56b67f\", element=\"03ca0839-eaa6-427f-84a2-5f7f8cb2de5f\")>,\n",
       " <selenium.webdriver.remote.webelement.WebElement (session=\"140d7a0885593e65bc7c87c9ba56b67f\", element=\"30f8df8f-579e-478d-afe6-19ff02482f96\")>,\n",
       " <selenium.webdriver.remote.webelement.WebElement (session=\"140d7a0885593e65bc7c87c9ba56b67f\", element=\"1a674b8e-17b0-4c69-a7e1-4f3b143550cb\")>,\n",
       " <selenium.webdriver.remote.webelement.WebElement (session=\"140d7a0885593e65bc7c87c9ba56b67f\", element=\"c81eea5c-aa55-4ab5-899d-48df1e3ddee1\")>,\n",
       " <selenium.webdriver.remote.webelement.WebElement (session=\"140d7a0885593e65bc7c87c9ba56b67f\", element=\"d7e69d36-8771-4615-acd5-c53e023fc97e\")>,\n",
       " <selenium.webdriver.remote.webelement.WebElement (session=\"140d7a0885593e65bc7c87c9ba56b67f\", element=\"13fa7556-65f6-4c9b-bce9-3604742dc059\")>,\n",
       " <selenium.webdriver.remote.webelement.WebElement (session=\"140d7a0885593e65bc7c87c9ba56b67f\", element=\"acc3b012-5760-4bc3-b162-4c5eb90c9c46\")>,\n",
       " <selenium.webdriver.remote.webelement.WebElement (session=\"140d7a0885593e65bc7c87c9ba56b67f\", element=\"0068c9a4-36ec-42e0-96ea-78628322b385\")>,\n",
       " <selenium.webdriver.remote.webelement.WebElement (session=\"140d7a0885593e65bc7c87c9ba56b67f\", element=\"aef3f651-e01a-4715-8755-fd60c04a2191\")>,\n",
       " <selenium.webdriver.remote.webelement.WebElement (session=\"140d7a0885593e65bc7c87c9ba56b67f\", element=\"e17cfd96-9f90-4381-b4f2-0f00d447f29f\")>,\n",
       " <selenium.webdriver.remote.webelement.WebElement (session=\"140d7a0885593e65bc7c87c9ba56b67f\", element=\"b6f7c40b-ca1c-498d-8ecd-12805ae68e7b\")>,\n",
       " <selenium.webdriver.remote.webelement.WebElement (session=\"140d7a0885593e65bc7c87c9ba56b67f\", element=\"c92046e9-00bc-464d-bb22-34099aae1ac5\")>,\n",
       " <selenium.webdriver.remote.webelement.WebElement (session=\"140d7a0885593e65bc7c87c9ba56b67f\", element=\"c5329784-655f-4ee8-b179-fb5acbed49b8\")>,\n",
       " <selenium.webdriver.remote.webelement.WebElement (session=\"140d7a0885593e65bc7c87c9ba56b67f\", element=\"dc5cf9f3-b676-4ae0-9a17-b4b003311d7e\")>,\n",
       " <selenium.webdriver.remote.webelement.WebElement (session=\"140d7a0885593e65bc7c87c9ba56b67f\", element=\"147b7ba7-ca7b-4354-ba3c-12c7abbacad4\")>,\n",
       " <selenium.webdriver.remote.webelement.WebElement (session=\"140d7a0885593e65bc7c87c9ba56b67f\", element=\"aade2e30-0472-4a50-9f4a-55a1094f0caf\")>,\n",
       " <selenium.webdriver.remote.webelement.WebElement (session=\"140d7a0885593e65bc7c87c9ba56b67f\", element=\"c2ccb5ee-76eb-4d7a-b406-68f963d6b500\")>,\n",
       " <selenium.webdriver.remote.webelement.WebElement (session=\"140d7a0885593e65bc7c87c9ba56b67f\", element=\"a88b895d-b1d3-47ef-b7dc-ee84bc295ce3\")>,\n",
       " <selenium.webdriver.remote.webelement.WebElement (session=\"140d7a0885593e65bc7c87c9ba56b67f\", element=\"7986d2de-3ee8-4310-8c92-8f184ead482d\")>,\n",
       " <selenium.webdriver.remote.webelement.WebElement (session=\"140d7a0885593e65bc7c87c9ba56b67f\", element=\"5c9719ba-293b-48aa-bbb2-61941d5cb76f\")>,\n",
       " <selenium.webdriver.remote.webelement.WebElement (session=\"140d7a0885593e65bc7c87c9ba56b67f\", element=\"f4ed8b8d-2bca-4a8d-b156-6224b08d091a\")>,\n",
       " <selenium.webdriver.remote.webelement.WebElement (session=\"140d7a0885593e65bc7c87c9ba56b67f\", element=\"4b13bb99-839e-4829-a915-a7d438e879d3\")>,\n",
       " <selenium.webdriver.remote.webelement.WebElement (session=\"140d7a0885593e65bc7c87c9ba56b67f\", element=\"74f93085-46df-4a36-9053-b3fa1947f304\")>,\n",
       " <selenium.webdriver.remote.webelement.WebElement (session=\"140d7a0885593e65bc7c87c9ba56b67f\", element=\"d980bd5f-6a34-4e2c-8e7d-3018863c7abb\")>,\n",
       " <selenium.webdriver.remote.webelement.WebElement (session=\"140d7a0885593e65bc7c87c9ba56b67f\", element=\"3adc2290-9979-4d38-a8b6-42fcc3ce52c9\")>,\n",
       " <selenium.webdriver.remote.webelement.WebElement (session=\"140d7a0885593e65bc7c87c9ba56b67f\", element=\"1b3c0b72-db87-4318-855b-13d9f9b3ee7d\")>]"
      ]
     },
     "execution_count": 9,
     "metadata": {},
     "output_type": "execute_result"
    }
   ],
   "source": [
    "page1_brand = driver.find_elements_by_class_name(\"product-brand\")\n",
    "page1_brand"
   ]
  },
  {
   "cell_type": "code",
   "execution_count": 10,
   "id": "2b54dd23",
   "metadata": {},
   "outputs": [
    {
     "data": {
      "text/plain": [
       "50"
      ]
     },
     "execution_count": 10,
     "metadata": {},
     "output_type": "execute_result"
    }
   ],
   "source": [
    "brands1 = []\n",
    "\n",
    "for i in page1_brand:\n",
    "    brands1.append(i.text)\n",
    "len(brands1)"
   ]
  },
  {
   "cell_type": "code",
   "execution_count": 11,
   "id": "9522e675",
   "metadata": {},
   "outputs": [
    {
     "data": {
      "text/plain": [
       "['Nike',\n",
       " 'ALDO',\n",
       " 'Tommy Hilfiger',\n",
       " 'Nike',\n",
       " 'Nike',\n",
       " 'Tommy Hilfiger',\n",
       " 'Tommy Hilfiger',\n",
       " 'Puma',\n",
       " 'Puma',\n",
       " 'Puma',\n",
       " 'Puma',\n",
       " 'Tommy Hilfiger',\n",
       " 'New Balance',\n",
       " 'PUMA Motorsport',\n",
       " 'RARE RABBIT',\n",
       " 'Puma',\n",
       " 'ALDO',\n",
       " 'Puma',\n",
       " 'Hush Puppies',\n",
       " 'Skechers',\n",
       " 'New Balance',\n",
       " 'Hush Puppies',\n",
       " 'Reebok',\n",
       " 'Bugatti',\n",
       " 'RARE RABBIT',\n",
       " 'Puma',\n",
       " 'Tommy Hilfiger',\n",
       " 'New Balance',\n",
       " 'Hush Puppies',\n",
       " 'Saint G',\n",
       " 'ASICS',\n",
       " 'Bugatti',\n",
       " 'Saint G',\n",
       " 'Xtep',\n",
       " 'Hush Puppies',\n",
       " 'Bugatti',\n",
       " 'Hush Puppies',\n",
       " 'DAVINCHI',\n",
       " 'Saint G',\n",
       " 'Hush Puppies',\n",
       " 'Saint G',\n",
       " 'Clarks',\n",
       " 'Puma',\n",
       " 'Geox',\n",
       " 'New Balance',\n",
       " 'Royal Enfield',\n",
       " 'J.FONTINI',\n",
       " 'J.FONTINI',\n",
       " 'Heel & Buckle London',\n",
       " 'Hush Puppies']"
      ]
     },
     "execution_count": 11,
     "metadata": {},
     "output_type": "execute_result"
    }
   ],
   "source": [
    "brands1"
   ]
  },
  {
   "cell_type": "code",
   "execution_count": 12,
   "id": "bc48defb",
   "metadata": {},
   "outputs": [
    {
     "data": {
      "text/plain": [
       "[<selenium.webdriver.remote.webelement.WebElement (session=\"140d7a0885593e65bc7c87c9ba56b67f\", element=\"9b36a1e1-0a81-4fa5-ae2d-b175c909b5ff\")>,\n",
       " <selenium.webdriver.remote.webelement.WebElement (session=\"140d7a0885593e65bc7c87c9ba56b67f\", element=\"e3a2baac-f1de-4176-8280-e32d9af84129\")>,\n",
       " <selenium.webdriver.remote.webelement.WebElement (session=\"140d7a0885593e65bc7c87c9ba56b67f\", element=\"c57109f9-6240-4bca-abb0-b8c0ba8efd23\")>,\n",
       " <selenium.webdriver.remote.webelement.WebElement (session=\"140d7a0885593e65bc7c87c9ba56b67f\", element=\"6eb97377-95f2-4e8d-912e-898b2c89188c\")>,\n",
       " <selenium.webdriver.remote.webelement.WebElement (session=\"140d7a0885593e65bc7c87c9ba56b67f\", element=\"9133571c-9807-4b1e-abfc-a965a7ec4fbd\")>,\n",
       " <selenium.webdriver.remote.webelement.WebElement (session=\"140d7a0885593e65bc7c87c9ba56b67f\", element=\"6d759721-8bce-4af1-85cd-d617dfdaa4d2\")>,\n",
       " <selenium.webdriver.remote.webelement.WebElement (session=\"140d7a0885593e65bc7c87c9ba56b67f\", element=\"1c506954-f17b-4dfa-b7e8-4da926a9b7d3\")>,\n",
       " <selenium.webdriver.remote.webelement.WebElement (session=\"140d7a0885593e65bc7c87c9ba56b67f\", element=\"0d0845a4-6377-4fe4-88d0-39c2d2d2cbbb\")>,\n",
       " <selenium.webdriver.remote.webelement.WebElement (session=\"140d7a0885593e65bc7c87c9ba56b67f\", element=\"a2e3359f-796a-4a7f-9174-39f9a5fdc418\")>,\n",
       " <selenium.webdriver.remote.webelement.WebElement (session=\"140d7a0885593e65bc7c87c9ba56b67f\", element=\"a5b1678d-7917-4868-a79a-24b722b6b7b4\")>,\n",
       " <selenium.webdriver.remote.webelement.WebElement (session=\"140d7a0885593e65bc7c87c9ba56b67f\", element=\"c8ca47e1-f5c9-4b99-a272-7af4dbe63fb9\")>,\n",
       " <selenium.webdriver.remote.webelement.WebElement (session=\"140d7a0885593e65bc7c87c9ba56b67f\", element=\"373cbe06-e020-4c00-9fe9-92c1c3d13682\")>,\n",
       " <selenium.webdriver.remote.webelement.WebElement (session=\"140d7a0885593e65bc7c87c9ba56b67f\", element=\"3a95c390-052b-4107-9284-150198573180\")>,\n",
       " <selenium.webdriver.remote.webelement.WebElement (session=\"140d7a0885593e65bc7c87c9ba56b67f\", element=\"a2d42b02-a9a5-40af-9454-8ef98eb636cc\")>,\n",
       " <selenium.webdriver.remote.webelement.WebElement (session=\"140d7a0885593e65bc7c87c9ba56b67f\", element=\"088ae046-890b-4f12-a71e-c2dc11c1568e\")>,\n",
       " <selenium.webdriver.remote.webelement.WebElement (session=\"140d7a0885593e65bc7c87c9ba56b67f\", element=\"d3a8fafd-4276-4425-82e5-00615d5cc0a6\")>,\n",
       " <selenium.webdriver.remote.webelement.WebElement (session=\"140d7a0885593e65bc7c87c9ba56b67f\", element=\"22e63751-7a17-4a98-b353-7f1c4ede055d\")>,\n",
       " <selenium.webdriver.remote.webelement.WebElement (session=\"140d7a0885593e65bc7c87c9ba56b67f\", element=\"653aa726-d854-4712-a892-a531b3f1ea5f\")>,\n",
       " <selenium.webdriver.remote.webelement.WebElement (session=\"140d7a0885593e65bc7c87c9ba56b67f\", element=\"6eedcc44-66fa-4818-9fc6-39261cfd58b3\")>,\n",
       " <selenium.webdriver.remote.webelement.WebElement (session=\"140d7a0885593e65bc7c87c9ba56b67f\", element=\"60f6bd9f-6443-47ca-b41d-6be8756c09de\")>,\n",
       " <selenium.webdriver.remote.webelement.WebElement (session=\"140d7a0885593e65bc7c87c9ba56b67f\", element=\"25c96a39-5c4c-4b74-9ff2-f678ba91ccba\")>,\n",
       " <selenium.webdriver.remote.webelement.WebElement (session=\"140d7a0885593e65bc7c87c9ba56b67f\", element=\"e689c354-3ef3-4a74-918f-08598445d1b2\")>,\n",
       " <selenium.webdriver.remote.webelement.WebElement (session=\"140d7a0885593e65bc7c87c9ba56b67f\", element=\"69f808fc-6dab-479e-9be9-1d72a2930813\")>,\n",
       " <selenium.webdriver.remote.webelement.WebElement (session=\"140d7a0885593e65bc7c87c9ba56b67f\", element=\"bd648438-9951-4dbc-9dd4-5aa6bee60459\")>,\n",
       " <selenium.webdriver.remote.webelement.WebElement (session=\"140d7a0885593e65bc7c87c9ba56b67f\", element=\"d83b125c-d93e-4447-b31c-0be4c1a4c979\")>,\n",
       " <selenium.webdriver.remote.webelement.WebElement (session=\"140d7a0885593e65bc7c87c9ba56b67f\", element=\"bc9db5dc-0db3-4d28-a76c-2b4b7bb1c953\")>,\n",
       " <selenium.webdriver.remote.webelement.WebElement (session=\"140d7a0885593e65bc7c87c9ba56b67f\", element=\"217161f1-7c21-4786-b34b-d8efd98b0efc\")>,\n",
       " <selenium.webdriver.remote.webelement.WebElement (session=\"140d7a0885593e65bc7c87c9ba56b67f\", element=\"7c5608ca-3399-470f-8db9-de2c93278259\")>,\n",
       " <selenium.webdriver.remote.webelement.WebElement (session=\"140d7a0885593e65bc7c87c9ba56b67f\", element=\"e32a9167-856a-4618-a892-34a09c55cd7f\")>,\n",
       " <selenium.webdriver.remote.webelement.WebElement (session=\"140d7a0885593e65bc7c87c9ba56b67f\", element=\"01ad363a-6fc8-4c43-b672-ffff391c930b\")>,\n",
       " <selenium.webdriver.remote.webelement.WebElement (session=\"140d7a0885593e65bc7c87c9ba56b67f\", element=\"673c68db-08e1-4b3a-b57a-d8734504254b\")>,\n",
       " <selenium.webdriver.remote.webelement.WebElement (session=\"140d7a0885593e65bc7c87c9ba56b67f\", element=\"4bf361ce-c5ea-4302-afde-10660c54165a\")>,\n",
       " <selenium.webdriver.remote.webelement.WebElement (session=\"140d7a0885593e65bc7c87c9ba56b67f\", element=\"5b42d01e-181a-452b-a9f7-0b32779b1f71\")>,\n",
       " <selenium.webdriver.remote.webelement.WebElement (session=\"140d7a0885593e65bc7c87c9ba56b67f\", element=\"961b8446-4a5d-402b-960a-2de6a5e47c3d\")>,\n",
       " <selenium.webdriver.remote.webelement.WebElement (session=\"140d7a0885593e65bc7c87c9ba56b67f\", element=\"3174c3c2-5c49-41c3-a379-0e96a93efa41\")>,\n",
       " <selenium.webdriver.remote.webelement.WebElement (session=\"140d7a0885593e65bc7c87c9ba56b67f\", element=\"2a733692-2275-4b69-b8eb-ca64f6b21634\")>,\n",
       " <selenium.webdriver.remote.webelement.WebElement (session=\"140d7a0885593e65bc7c87c9ba56b67f\", element=\"5d5afcf3-f016-4e15-8379-f896234ead6f\")>,\n",
       " <selenium.webdriver.remote.webelement.WebElement (session=\"140d7a0885593e65bc7c87c9ba56b67f\", element=\"4da53128-25d3-45e0-93e1-46b665500971\")>,\n",
       " <selenium.webdriver.remote.webelement.WebElement (session=\"140d7a0885593e65bc7c87c9ba56b67f\", element=\"61514fc9-3d8f-41a1-9987-9f59401d40b8\")>,\n",
       " <selenium.webdriver.remote.webelement.WebElement (session=\"140d7a0885593e65bc7c87c9ba56b67f\", element=\"84ccb512-59a4-4372-9854-ab1f2e19e697\")>,\n",
       " <selenium.webdriver.remote.webelement.WebElement (session=\"140d7a0885593e65bc7c87c9ba56b67f\", element=\"5c2d40d9-1300-4195-b297-a990f034c4eb\")>,\n",
       " <selenium.webdriver.remote.webelement.WebElement (session=\"140d7a0885593e65bc7c87c9ba56b67f\", element=\"eda2dbc2-07e7-49e3-9b78-1b84c761fcbc\")>,\n",
       " <selenium.webdriver.remote.webelement.WebElement (session=\"140d7a0885593e65bc7c87c9ba56b67f\", element=\"f82efcb6-c193-46d1-abb0-1b4662d690cd\")>,\n",
       " <selenium.webdriver.remote.webelement.WebElement (session=\"140d7a0885593e65bc7c87c9ba56b67f\", element=\"68fa3a05-6e8a-4b45-ae74-b754315d67ee\")>,\n",
       " <selenium.webdriver.remote.webelement.WebElement (session=\"140d7a0885593e65bc7c87c9ba56b67f\", element=\"05636134-4462-42ee-bd17-936517d35cdc\")>,\n",
       " <selenium.webdriver.remote.webelement.WebElement (session=\"140d7a0885593e65bc7c87c9ba56b67f\", element=\"1147a80f-28b0-43de-9cad-bc5e8fda2243\")>,\n",
       " <selenium.webdriver.remote.webelement.WebElement (session=\"140d7a0885593e65bc7c87c9ba56b67f\", element=\"5a892c43-5878-48e7-b0cf-33976e92ba91\")>,\n",
       " <selenium.webdriver.remote.webelement.WebElement (session=\"140d7a0885593e65bc7c87c9ba56b67f\", element=\"c7b0462a-be43-4d22-9ee9-3e19462a750e\")>,\n",
       " <selenium.webdriver.remote.webelement.WebElement (session=\"140d7a0885593e65bc7c87c9ba56b67f\", element=\"b3f213dd-988a-4da7-af16-0c5ea762653f\")>,\n",
       " <selenium.webdriver.remote.webelement.WebElement (session=\"140d7a0885593e65bc7c87c9ba56b67f\", element=\"a412e90e-e707-4f71-a20e-bbe55a51a752\")>]"
      ]
     },
     "execution_count": 12,
     "metadata": {},
     "output_type": "execute_result"
    }
   ],
   "source": [
    "page1_dis = driver.find_elements_by_class_name(\"product-product\")\n",
    "page1_dis"
   ]
  },
  {
   "cell_type": "code",
   "execution_count": 13,
   "id": "bed59285",
   "metadata": {},
   "outputs": [
    {
     "data": {
      "text/plain": [
       "50"
      ]
     },
     "execution_count": 13,
     "metadata": {},
     "output_type": "execute_result"
    }
   ],
   "source": [
    "dis1 = []\n",
    "\n",
    "for a in page1_dis:\n",
    "    dis1.append(a.text)\n",
    "len(dis1)"
   ]
  },
  {
   "cell_type": "code",
   "execution_count": 14,
   "id": "4c57d49f",
   "metadata": {},
   "outputs": [
    {
     "data": {
      "text/plain": [
       "['Men AIR ZOOM PEGASUS 38',\n",
       " 'Men Printed Sneakers',\n",
       " 'Men Leather Sneakers',\n",
       " 'Men Zoom F3 Basketball Shoes',\n",
       " 'Men Blazer Court Skateboarding',\n",
       " 'Men Textured Loafers',\n",
       " 'Men Leather Sneakers',\n",
       " 'Men Magnify Nitro Running',\n",
       " 'Men Deviate Nitro Running Shoe',\n",
       " 'Men Running Shoes',\n",
       " 'Men Jamming 2.0 Running Shoes',\n",
       " 'Men Leather Sneakers',\n",
       " 'Men Woven Design Running Shoes',\n",
       " 'Unisex Ferrari Drift8 Sneakers',\n",
       " 'Men Leather Slip-On Sneakers',\n",
       " 'Men Training or Gym Shoes',\n",
       " 'Wedge Sandals',\n",
       " 'Women Magnify Nitro Shoes',\n",
       " 'Men Solid Leather Formal Slip-Ons',\n",
       " 'Men Go Run Hyper Burst Running',\n",
       " 'Men Woven Design Running Shoes',\n",
       " 'Men Perforations Leather Slip-On Sneakers',\n",
       " 'Men Astroride Forever Running',\n",
       " 'Men Black Walking Shoes',\n",
       " 'Men Leather Flat Boots',\n",
       " 'Women Eternity NITRO Shoes',\n",
       " 'Leather Sandals',\n",
       " 'Men Woven Design Running Shoes',\n",
       " 'Men Solid Leather Formal Derbys',\n",
       " 'Men Mid-Top Chelsea Boots',\n",
       " 'Men Colourblocked PU Sneakers',\n",
       " 'Men Textured Leather High-Top Flat Boots',\n",
       " 'Men Leather Chelsea Boots',\n",
       " 'Men Running Shoes',\n",
       " 'Men Leather Derbys',\n",
       " 'Men Walking Shoes',\n",
       " 'Men Formal Derbys',\n",
       " 'Ustraa black',\n",
       " 'Women Leather Heeled Boots',\n",
       " 'Men Solid Formal Slip-Ons',\n",
       " 'Women Leather Heeled Boots',\n",
       " 'Men Leather Formal Loafers',\n",
       " 'Women Velocity NITRO Runners',\n",
       " 'Men Leather Driving Shoes',\n",
       " 'Women Woven Running Shoes',\n",
       " 'Cabo WP Riding Boots',\n",
       " 'Men Textured Leather Loafers',\n",
       " 'Men Black Leather Loafers',\n",
       " 'Men Solid Leather Formal Loafers',\n",
       " 'Men Solid Leather Formal Slip-Ons']"
      ]
     },
     "execution_count": 14,
     "metadata": {},
     "output_type": "execute_result"
    }
   ],
   "source": [
    "dis1"
   ]
  },
  {
   "cell_type": "code",
   "execution_count": 15,
   "id": "a2f59be3",
   "metadata": {},
   "outputs": [
    {
     "data": {
      "text/plain": [
       "50"
      ]
     },
     "execution_count": 15,
     "metadata": {},
     "output_type": "execute_result"
    }
   ],
   "source": [
    "page1_prices = driver.find_elements_by_xpath('//div[@class=\"product-price\"]')\n",
    "len(page1_prices)"
   ]
  },
  {
   "cell_type": "code",
   "execution_count": 16,
   "id": "78905d7b",
   "metadata": {},
   "outputs": [
    {
     "data": {
      "text/plain": [
       "[<selenium.webdriver.remote.webelement.WebElement (session=\"140d7a0885593e65bc7c87c9ba56b67f\", element=\"075fb2c3-9794-40f3-8194-312b9a315165\")>,\n",
       " <selenium.webdriver.remote.webelement.WebElement (session=\"140d7a0885593e65bc7c87c9ba56b67f\", element=\"a3ffaaaa-9ec8-47ec-976f-f1268e1c79a5\")>,\n",
       " <selenium.webdriver.remote.webelement.WebElement (session=\"140d7a0885593e65bc7c87c9ba56b67f\", element=\"4dd4a41a-9a9c-4ed0-a5f5-acf2cbe42edf\")>,\n",
       " <selenium.webdriver.remote.webelement.WebElement (session=\"140d7a0885593e65bc7c87c9ba56b67f\", element=\"c740f010-4743-4a70-aae6-a7400ec09fa6\")>,\n",
       " <selenium.webdriver.remote.webelement.WebElement (session=\"140d7a0885593e65bc7c87c9ba56b67f\", element=\"eec21c5c-ab2d-44d9-8fe6-6c13060fcfc0\")>,\n",
       " <selenium.webdriver.remote.webelement.WebElement (session=\"140d7a0885593e65bc7c87c9ba56b67f\", element=\"1f21678f-72cb-4a00-9d4f-b3e21b73e79a\")>,\n",
       " <selenium.webdriver.remote.webelement.WebElement (session=\"140d7a0885593e65bc7c87c9ba56b67f\", element=\"a6af5695-00f2-4c80-99aa-fe549ab2091d\")>,\n",
       " <selenium.webdriver.remote.webelement.WebElement (session=\"140d7a0885593e65bc7c87c9ba56b67f\", element=\"c5a2b210-185c-4808-9bb5-ba6c2be02fb8\")>,\n",
       " <selenium.webdriver.remote.webelement.WebElement (session=\"140d7a0885593e65bc7c87c9ba56b67f\", element=\"9924f05a-7851-42f2-bd5f-6b7931e490d1\")>,\n",
       " <selenium.webdriver.remote.webelement.WebElement (session=\"140d7a0885593e65bc7c87c9ba56b67f\", element=\"9c5e7e3e-f764-4a50-bc88-6dd1caf7bf33\")>,\n",
       " <selenium.webdriver.remote.webelement.WebElement (session=\"140d7a0885593e65bc7c87c9ba56b67f\", element=\"d3b5987a-24e6-4551-9a84-ddc9793675f5\")>,\n",
       " <selenium.webdriver.remote.webelement.WebElement (session=\"140d7a0885593e65bc7c87c9ba56b67f\", element=\"a9af12dc-c032-4b24-a7ed-ce9592502fc9\")>,\n",
       " <selenium.webdriver.remote.webelement.WebElement (session=\"140d7a0885593e65bc7c87c9ba56b67f\", element=\"ce59f183-ef90-4ca1-bcef-e01c0239262f\")>,\n",
       " <selenium.webdriver.remote.webelement.WebElement (session=\"140d7a0885593e65bc7c87c9ba56b67f\", element=\"f86b422c-20d5-4d0a-82f9-fa29bc7d6a8e\")>,\n",
       " <selenium.webdriver.remote.webelement.WebElement (session=\"140d7a0885593e65bc7c87c9ba56b67f\", element=\"8d762de5-c41a-4d2b-a77f-70874eef4d2d\")>,\n",
       " <selenium.webdriver.remote.webelement.WebElement (session=\"140d7a0885593e65bc7c87c9ba56b67f\", element=\"e34635df-6167-4936-a666-30c7ff41eb3d\")>,\n",
       " <selenium.webdriver.remote.webelement.WebElement (session=\"140d7a0885593e65bc7c87c9ba56b67f\", element=\"c6074101-2a2b-482f-8bc1-8b6cf72525a0\")>,\n",
       " <selenium.webdriver.remote.webelement.WebElement (session=\"140d7a0885593e65bc7c87c9ba56b67f\", element=\"cc92cb57-6514-484c-b0f1-d1d4e6ece25a\")>,\n",
       " <selenium.webdriver.remote.webelement.WebElement (session=\"140d7a0885593e65bc7c87c9ba56b67f\", element=\"94f2054d-f1c7-4e1f-8b75-f57dde6af1db\")>,\n",
       " <selenium.webdriver.remote.webelement.WebElement (session=\"140d7a0885593e65bc7c87c9ba56b67f\", element=\"09a0ae73-da26-404f-8d4a-7f230a477336\")>,\n",
       " <selenium.webdriver.remote.webelement.WebElement (session=\"140d7a0885593e65bc7c87c9ba56b67f\", element=\"73a3f0de-0751-4f52-b75e-7f1b83235fa8\")>,\n",
       " <selenium.webdriver.remote.webelement.WebElement (session=\"140d7a0885593e65bc7c87c9ba56b67f\", element=\"bedc73b6-0d3f-4f57-b195-cc63e8b33bcb\")>,\n",
       " <selenium.webdriver.remote.webelement.WebElement (session=\"140d7a0885593e65bc7c87c9ba56b67f\", element=\"0dcdbfd7-db68-47e1-8be3-58b8e57e47b4\")>,\n",
       " <selenium.webdriver.remote.webelement.WebElement (session=\"140d7a0885593e65bc7c87c9ba56b67f\", element=\"354d1137-c666-4fe7-b0da-0b988b582e77\")>,\n",
       " <selenium.webdriver.remote.webelement.WebElement (session=\"140d7a0885593e65bc7c87c9ba56b67f\", element=\"95aa84bb-44e6-4de8-9a6a-8a19267522f9\")>,\n",
       " <selenium.webdriver.remote.webelement.WebElement (session=\"140d7a0885593e65bc7c87c9ba56b67f\", element=\"82c798c4-a0e6-4162-bf44-d1292ca4acb5\")>,\n",
       " <selenium.webdriver.remote.webelement.WebElement (session=\"140d7a0885593e65bc7c87c9ba56b67f\", element=\"fac2b36b-d2ee-43eb-a630-15525c7d55a8\")>,\n",
       " <selenium.webdriver.remote.webelement.WebElement (session=\"140d7a0885593e65bc7c87c9ba56b67f\", element=\"736014da-591e-4613-af58-c927e5b83eee\")>,\n",
       " <selenium.webdriver.remote.webelement.WebElement (session=\"140d7a0885593e65bc7c87c9ba56b67f\", element=\"cd5d8008-0cf8-408a-be01-97569476c584\")>,\n",
       " <selenium.webdriver.remote.webelement.WebElement (session=\"140d7a0885593e65bc7c87c9ba56b67f\", element=\"82586484-af4c-42dc-8597-712adfab63c8\")>,\n",
       " <selenium.webdriver.remote.webelement.WebElement (session=\"140d7a0885593e65bc7c87c9ba56b67f\", element=\"02de5236-ef57-43c9-a7ac-f45a26d34e3d\")>,\n",
       " <selenium.webdriver.remote.webelement.WebElement (session=\"140d7a0885593e65bc7c87c9ba56b67f\", element=\"bf2dae8d-4ee2-4141-b9a4-33f84f0ceeb3\")>,\n",
       " <selenium.webdriver.remote.webelement.WebElement (session=\"140d7a0885593e65bc7c87c9ba56b67f\", element=\"c3c5f304-e240-49cf-bdb9-fdd1c896df0f\")>,\n",
       " <selenium.webdriver.remote.webelement.WebElement (session=\"140d7a0885593e65bc7c87c9ba56b67f\", element=\"4c071a8e-2d3d-45e4-90c2-0b6830a44ef9\")>,\n",
       " <selenium.webdriver.remote.webelement.WebElement (session=\"140d7a0885593e65bc7c87c9ba56b67f\", element=\"2081fd49-7d92-4179-adc1-ee71382529a7\")>,\n",
       " <selenium.webdriver.remote.webelement.WebElement (session=\"140d7a0885593e65bc7c87c9ba56b67f\", element=\"cfdba970-1533-40b6-88cc-79702fe04c06\")>,\n",
       " <selenium.webdriver.remote.webelement.WebElement (session=\"140d7a0885593e65bc7c87c9ba56b67f\", element=\"afa8df86-0bb5-4889-a3ae-a269a56d0cdf\")>,\n",
       " <selenium.webdriver.remote.webelement.WebElement (session=\"140d7a0885593e65bc7c87c9ba56b67f\", element=\"5e5d3da0-0562-43e4-a40e-37fe520c9564\")>,\n",
       " <selenium.webdriver.remote.webelement.WebElement (session=\"140d7a0885593e65bc7c87c9ba56b67f\", element=\"d131178e-016b-4fad-945d-940b9d98815f\")>,\n",
       " <selenium.webdriver.remote.webelement.WebElement (session=\"140d7a0885593e65bc7c87c9ba56b67f\", element=\"ec174f26-5e6b-4af4-ac38-33aa3a444e42\")>,\n",
       " <selenium.webdriver.remote.webelement.WebElement (session=\"140d7a0885593e65bc7c87c9ba56b67f\", element=\"fd955a23-ab65-45fb-83b4-e88dfb24d186\")>,\n",
       " <selenium.webdriver.remote.webelement.WebElement (session=\"140d7a0885593e65bc7c87c9ba56b67f\", element=\"f624eea1-9959-47bf-8bfd-5fc264a843f2\")>,\n",
       " <selenium.webdriver.remote.webelement.WebElement (session=\"140d7a0885593e65bc7c87c9ba56b67f\", element=\"fb2ab2c8-0fc0-4f01-ac1c-0d5f95852f77\")>,\n",
       " <selenium.webdriver.remote.webelement.WebElement (session=\"140d7a0885593e65bc7c87c9ba56b67f\", element=\"d6ee573b-d141-4762-b598-ab7eae16edb4\")>,\n",
       " <selenium.webdriver.remote.webelement.WebElement (session=\"140d7a0885593e65bc7c87c9ba56b67f\", element=\"5f50c9ff-45d9-4387-b34f-13f28cb8bdb6\")>,\n",
       " <selenium.webdriver.remote.webelement.WebElement (session=\"140d7a0885593e65bc7c87c9ba56b67f\", element=\"54d05e08-48c7-40c1-ab0e-20dcdc344263\")>,\n",
       " <selenium.webdriver.remote.webelement.WebElement (session=\"140d7a0885593e65bc7c87c9ba56b67f\", element=\"ea1cb65e-c274-411a-a4fe-3646b941df4a\")>,\n",
       " <selenium.webdriver.remote.webelement.WebElement (session=\"140d7a0885593e65bc7c87c9ba56b67f\", element=\"89c20130-9156-4029-bf19-3155453bb7bf\")>,\n",
       " <selenium.webdriver.remote.webelement.WebElement (session=\"140d7a0885593e65bc7c87c9ba56b67f\", element=\"17807dbf-a0ec-47c2-b2b4-3f67264190d0\")>,\n",
       " <selenium.webdriver.remote.webelement.WebElement (session=\"140d7a0885593e65bc7c87c9ba56b67f\", element=\"b504e3e2-32c2-416b-ae6a-bea174964e16\")>]"
      ]
     },
     "execution_count": 16,
     "metadata": {},
     "output_type": "execute_result"
    }
   ],
   "source": [
    "page1_prices"
   ]
  },
  {
   "cell_type": "code",
   "execution_count": 17,
   "id": "54c57bab",
   "metadata": {},
   "outputs": [
    {
     "data": {
      "text/plain": [
       "['Rs. 9770Rs. 11495(15% OFF)',\n",
       " 'Rs. 9099Rs. 12999(Rs. 3900 OFF)',\n",
       " 'Rs. 7999',\n",
       " 'Rs. 9260Rs. 10895(15% OFF)',\n",
       " 'Rs. 7495',\n",
       " 'Rs. 8599',\n",
       " 'Rs. 7999',\n",
       " 'Rs. 7799Rs. 12999(40% OFF)',\n",
       " 'Rs. 9749Rs. 14999(Rs. 5250 OFF)',\n",
       " 'Rs. 12999',\n",
       " 'Rs. 12999',\n",
       " 'Rs. 7999',\n",
       " 'Rs. 7999Rs. 9999(20% OFF)',\n",
       " 'Rs. 7999',\n",
       " 'Rs. 7999',\n",
       " 'Rs. 7999',\n",
       " 'Rs. 7999',\n",
       " 'Rs. 7799Rs. 12999(40% OFF)',\n",
       " 'Rs. 8999',\n",
       " 'Rs. 7224Rs. 8499(15% OFF)',\n",
       " 'Rs. 8799Rs. 10999(20% OFF)',\n",
       " 'Rs. 7999',\n",
       " 'Rs. 7199Rs. 7999(10% OFF)',\n",
       " 'Rs. 7199Rs. 8999(20% OFF)',\n",
       " 'Rs. 7999Rs. 9999(Rs. 2000 OFF)',\n",
       " 'Rs. 12999',\n",
       " 'Rs. 7599',\n",
       " 'Rs. 7999Rs. 9999(20% OFF)',\n",
       " 'Rs. 9999',\n",
       " 'Rs. 10500Rs. 10900(Rs. 400 OFF)',\n",
       " 'Rs. 9999',\n",
       " 'Rs. 8399Rs. 11999(Rs. 3600 OFF)',\n",
       " 'Rs. 10710Rs. 11900(Rs. 1190 OFF)',\n",
       " 'Rs. 7699',\n",
       " 'Rs. 7999',\n",
       " 'Rs. 7199Rs. 8999(20% OFF)',\n",
       " 'Rs. 9999',\n",
       " 'Rs. 8990',\n",
       " 'Rs. 11473Rs. 14900(Rs. 3427 OFF)',\n",
       " 'Rs. 9999',\n",
       " 'Rs. 12325Rs. 14500(Rs. 2175 OFF)',\n",
       " 'Rs. 7499',\n",
       " 'Rs. 7149Rs. 10999(35% OFF)',\n",
       " 'Rs. 9999',\n",
       " 'Rs. 7199Rs. 8999(20% OFF)',\n",
       " 'Rs. 8500',\n",
       " 'Rs. 8490',\n",
       " 'Rs. 8490',\n",
       " 'Rs. 10791Rs. 11990(Rs. 1199 OFF)',\n",
       " 'Rs. 9999']"
      ]
     },
     "execution_count": 17,
     "metadata": {},
     "output_type": "execute_result"
    }
   ],
   "source": [
    "prices = []\n",
    "for price in page1_prices:\n",
    "    prices.append(price.text)\n",
    "prices"
   ]
  },
  {
   "cell_type": "code",
   "execution_count": 18,
   "id": "8103d918",
   "metadata": {},
   "outputs": [
    {
     "data": {
      "text/plain": [
       "<selenium.webdriver.remote.webelement.WebElement (session=\"140d7a0885593e65bc7c87c9ba56b67f\", element=\"cdaa19c9-f934-46d6-9612-a76994f389c6\")>"
      ]
     },
     "execution_count": 18,
     "metadata": {},
     "output_type": "execute_result"
    }
   ],
   "source": [
    "search_btn2 = driver.find_element_by_xpath(\"/html/body/div[2]/div/div[1]/main/div[3]/div[2]/div/div[2]/section/div[2]/ul/li[3]/a\")\n",
    "search_btn2"
   ]
  },
  {
   "cell_type": "code",
   "execution_count": 19,
   "id": "483024e4",
   "metadata": {},
   "outputs": [],
   "source": [
    "search_btn2.click()"
   ]
  },
  {
   "cell_type": "code",
   "execution_count": 20,
   "id": "ef2aae2a",
   "metadata": {},
   "outputs": [
    {
     "data": {
      "text/plain": [
       "['Hush Puppies',\n",
       " 'J.FONTINI',\n",
       " 'DAVINCHI',\n",
       " 'DAVINCHI',\n",
       " 'Saint G',\n",
       " 'ALDO',\n",
       " 'Bugatti',\n",
       " 'Geox',\n",
       " 'Saint G',\n",
       " 'Geox',\n",
       " 'Saint G',\n",
       " 'Geox',\n",
       " 'Tommy Hilfiger',\n",
       " 'Clarks',\n",
       " 'Columbia',\n",
       " 'New Balance',\n",
       " 'MANGO',\n",
       " 'Columbia',\n",
       " 'Columbia',\n",
       " 'J.FONTINI',\n",
       " 'New Balance',\n",
       " 'Columbia',\n",
       " 'J.FONTINI',\n",
       " 'Heel & Buckle London',\n",
       " 'RARE RABBIT',\n",
       " 'Clarks',\n",
       " 'J.FONTINI',\n",
       " 'J.FONTINI',\n",
       " 'Bugatti',\n",
       " 'Saint G',\n",
       " 'DAVINCHI',\n",
       " 'Clarks',\n",
       " 'DAVINCHI',\n",
       " 'Geox',\n",
       " 'Geox',\n",
       " 'Geox',\n",
       " 'DAVINCHI',\n",
       " 'DAVINCHI',\n",
       " 'Pavers England',\n",
       " 'New Balance',\n",
       " 'Nike',\n",
       " 'Pavers England',\n",
       " 'Pavers England',\n",
       " 'Clarks',\n",
       " 'Saint G',\n",
       " 'Cole Haan',\n",
       " 'Geox',\n",
       " 'Nike',\n",
       " 'Nike',\n",
       " 'Cole Haan']"
      ]
     },
     "execution_count": 20,
     "metadata": {},
     "output_type": "execute_result"
    }
   ],
   "source": [
    "page2_brand = driver.find_elements_by_class_name(\"product-brand\")\n",
    "\n",
    "brandspage2 = []\n",
    "\n",
    "for c in page2_brand:\n",
    "    brandspage2.append(c.text)\n",
    "brandspage2"
   ]
  },
  {
   "cell_type": "code",
   "execution_count": 21,
   "id": "d9c691bb",
   "metadata": {},
   "outputs": [
    {
     "data": {
      "text/plain": [
       "['Men Solid Leather Formal Slip-Ons',\n",
       " 'Men Textured Leather Formal Loafers',\n",
       " 'Men Textured Formal Leather Loafers',\n",
       " 'Men Solid Leather Formal Loafers',\n",
       " 'Suede High-Top Flatform Heeled Boots',\n",
       " 'Women Leather Flat Boots',\n",
       " 'Leather Heeled Knee Boots',\n",
       " 'Women Leather High-Top Flat Boots',\n",
       " 'Embellished Leather Block Heeled Boots',\n",
       " 'Women Leather Loafers',\n",
       " 'Striped Suede Flatform Heeled Boots',\n",
       " 'Men Leather Driving Shoes',\n",
       " 'Women CLEAT Textured Sneakers',\n",
       " 'Men Solid Leather Formal Brogues',\n",
       " 'NEWTON RIDGE PLUS II WATERPROOF',\n",
       " 'Women Woven Running Shoes',\n",
       " 'Women Leather Penny Loafers',\n",
       " 'Men FACET OUTDRY Trekking Shoe',\n",
       " 'Women REDMOND V2 TrekkingShoe',\n",
       " 'Men Textured Leather Loafers',\n",
       " 'Men VAYGO Running Shoes',\n",
       " 'PEAKFREAK OUTDRY Trekking Shoe',\n",
       " 'Men Solid Loafers',\n",
       " 'Men Formal Leather Derby',\n",
       " 'Men Textured Leather Loafers',\n",
       " 'Men Solid Formal Leather Derbys',\n",
       " 'Men Leather Formal Loafers',\n",
       " 'Men Leather Formal Loafers',\n",
       " 'Men Sneakers',\n",
       " 'Women Leather Mules',\n",
       " 'Solid Slip On Shoes',\n",
       " 'Men Solid Leather Formal Loafers',\n",
       " 'Men Formal Leather Slip-Ons',\n",
       " 'Women Solid Leather Pumps',\n",
       " 'Women Leather Pumps',\n",
       " 'Women Solid Leather Pumps',\n",
       " 'Men Solid Leather Formal Derbys',\n",
       " 'Men Textured Formal Leather Loafers',\n",
       " 'Men Leather Driving Shoes',\n",
       " 'Men Fuelcell Running Shoes',\n",
       " 'Unisex Metcon 7 Training Shoes',\n",
       " 'Men Printed Loafers',\n",
       " 'Men Textured Leather Driving Shoes',\n",
       " 'Men Leather Derbys',\n",
       " 'Women Leather Sneakers',\n",
       " 'Women Sneakers',\n",
       " 'Women Solid Leather Ballerinas',\n",
       " 'Women Air Max Bella Training',\n",
       " 'Men Dunk Hi Retro Sneakers',\n",
       " 'Women Solid Leather Ballerinas']"
      ]
     },
     "execution_count": 21,
     "metadata": {},
     "output_type": "execute_result"
    }
   ],
   "source": [
    "page2_dis = driver.find_elements_by_class_name(\"product-product\")\n",
    "\n",
    "dispage2 = []\n",
    "\n",
    "for d in page2_dis:\n",
    "    dispage2.append(d.text)\n",
    "dispage2"
   ]
  },
  {
   "cell_type": "code",
   "execution_count": 23,
   "id": "8a077896",
   "metadata": {},
   "outputs": [
    {
     "data": {
      "text/plain": [
       "['Rs. 9999',\n",
       " 'Rs. 8990',\n",
       " 'Rs. 8990',\n",
       " 'Rs. 8490',\n",
       " 'Rs. 11475Rs. 13500(Rs. 2025 OFF)',\n",
       " 'Rs. 12499Rs. 24999(Rs. 12500 OFF)',\n",
       " 'Rs. 9099Rs. 12999(Rs. 3900 OFF)',\n",
       " 'Rs. 10799Rs. 17999(Rs. 7200 OFF)',\n",
       " 'Rs. 7869Rs. 12900(Rs. 5031 OFF)',\n",
       " 'Rs. 7999',\n",
       " 'Rs. 8415Rs. 9900(15% OFF)',\n",
       " 'Rs. 9499',\n",
       " 'Rs. 7309Rs. 8599(15% OFF)',\n",
       " 'Rs. 7999',\n",
       " 'Rs. 8499',\n",
       " 'Rs. 10399Rs. 12999(20% OFF)',\n",
       " 'Rs. 7191Rs. 7990(10% OFF)',\n",
       " 'Rs. 12999',\n",
       " 'Rs. 7999',\n",
       " 'Rs. 7990',\n",
       " 'Rs. 7999Rs. 9999(20% OFF)',\n",
       " 'Rs. 9999',\n",
       " 'Rs. 8990',\n",
       " 'Rs. 7191Rs. 7990(Rs. 799 OFF)',\n",
       " 'Rs. 7149Rs. 10999(35% OFF)',\n",
       " 'Rs. 9999',\n",
       " 'Rs. 7490',\n",
       " 'Rs. 7490',\n",
       " 'Rs. 8799Rs. 10999(Rs. 2200 OFF)',\n",
       " 'Rs. 7216Rs. 8200(12% OFF)',\n",
       " 'Rs. 7990',\n",
       " 'Rs. 7999',\n",
       " 'Rs. 8990',\n",
       " 'Rs. 7999',\n",
       " 'Rs. 8999',\n",
       " 'Rs. 10990',\n",
       " 'Rs. 9990',\n",
       " 'Rs. 8990',\n",
       " 'Rs. 7499',\n",
       " 'Rs. 9599Rs. 11999(20% OFF)',\n",
       " 'Rs. 9770Rs. 11495(15% OFF)',\n",
       " 'Rs. 11999',\n",
       " 'Rs. 9999',\n",
       " 'Rs. 9999',\n",
       " 'Rs. 7110Rs. 7900(10% OFF)',\n",
       " 'Rs. 7799Rs. 12999(40% OFF)',\n",
       " 'Rs. 8999',\n",
       " 'Rs. 7495',\n",
       " 'Rs. 8750Rs. 10295(15% OFF)',\n",
       " 'Rs. 9799Rs. 13999(30% OFF)']"
      ]
     },
     "execution_count": 23,
     "metadata": {},
     "output_type": "execute_result"
    }
   ],
   "source": [
    "page2_prices = driver.find_elements_by_xpath('//div[@class=\"product-price\"]')\n",
    "\n",
    "prices2 = []\n",
    "for price2 in page2_prices:\n",
    "    prices2.append(price2.text)\n",
    "prices2"
   ]
  },
  {
   "cell_type": "code",
   "execution_count": null,
   "id": "b3572f8e",
   "metadata": {},
   "outputs": [],
   "source": []
  }
 ],
 "metadata": {
  "kernelspec": {
   "display_name": "Python 3",
   "language": "python",
   "name": "python3"
  },
  "language_info": {
   "codemirror_mode": {
    "name": "ipython",
    "version": 3
   },
   "file_extension": ".py",
   "mimetype": "text/x-python",
   "name": "python",
   "nbconvert_exporter": "python",
   "pygments_lexer": "ipython3",
   "version": "3.8.8"
  }
 },
 "nbformat": 4,
 "nbformat_minor": 5
}
