{
 "cells": [
  {
   "cell_type": "code",
   "execution_count": 1,
   "id": "94e4204f",
   "metadata": {},
   "outputs": [
    {
     "name": "stdout",
     "output_type": "stream",
     "text": [
      "Requirement already satisfied: selenium in c:\\programdata\\anaconda3\\lib\\site-packages (4.1.0)\n",
      "Requirement already satisfied: urllib3[secure]~=1.26 in c:\\programdata\\anaconda3\\lib\\site-packages (from selenium) (1.26.4)\n",
      "Requirement already satisfied: trio-websocket~=0.9 in c:\\programdata\\anaconda3\\lib\\site-packages (from selenium) (0.9.2)\n",
      "Requirement already satisfied: trio~=0.17 in c:\\programdata\\anaconda3\\lib\\site-packages (from selenium) (0.19.0)\n",
      "Requirement already satisfied: async-generator>=1.9 in c:\\programdata\\anaconda3\\lib\\site-packages (from trio~=0.17->selenium) (1.10)\n",
      "Requirement already satisfied: cffi>=1.14 in c:\\programdata\\anaconda3\\lib\\site-packages (from trio~=0.17->selenium) (1.14.5)\n",
      "Requirement already satisfied: outcome in c:\\programdata\\anaconda3\\lib\\site-packages (from trio~=0.17->selenium) (1.1.0)\n",
      "Requirement already satisfied: idna in c:\\programdata\\anaconda3\\lib\\site-packages (from trio~=0.17->selenium) (2.10)\n",
      "Requirement already satisfied: sniffio in c:\\programdata\\anaconda3\\lib\\site-packages (from trio~=0.17->selenium) (1.2.0)\n",
      "Requirement already satisfied: attrs>=19.2.0 in c:\\programdata\\anaconda3\\lib\\site-packages (from trio~=0.17->selenium) (20.3.0)\n",
      "Requirement already satisfied: sortedcontainers in c:\\programdata\\anaconda3\\lib\\site-packages (from trio~=0.17->selenium) (2.3.0)\n",
      "Requirement already satisfied: pycparser in c:\\programdata\\anaconda3\\lib\\site-packages (from cffi>=1.14->trio~=0.17->selenium) (2.20)\n",
      "Requirement already satisfied: wsproto>=0.14 in c:\\programdata\\anaconda3\\lib\\site-packages (from trio-websocket~=0.9->selenium) (1.0.0)\n",
      "Requirement already satisfied: pyOpenSSL>=0.14 in c:\\programdata\\anaconda3\\lib\\site-packages (from urllib3[secure]~=1.26->selenium) (20.0.1)\n",
      "Requirement already satisfied: certifi in c:\\programdata\\anaconda3\\lib\\site-packages (from urllib3[secure]~=1.26->selenium) (2020.12.5)\n",
      "Requirement already satisfied: cryptography>=1.3.4 in c:\\programdata\\anaconda3\\lib\\site-packages (from urllib3[secure]~=1.26->selenium) (3.4.7)\n",
      "Requirement already satisfied: six>=1.5.2 in c:\\programdata\\anaconda3\\lib\\site-packages (from pyOpenSSL>=0.14->urllib3[secure]~=1.26->selenium) (1.15.0)\n",
      "Requirement already satisfied: h11<1,>=0.9.0 in c:\\programdata\\anaconda3\\lib\\site-packages (from wsproto>=0.14->trio-websocket~=0.9->selenium) (0.13.0)\n"
     ]
    }
   ],
   "source": [
    "!pip install selenium"
   ]
  },
  {
   "cell_type": "code",
   "execution_count": 2,
   "id": "9c8105b2",
   "metadata": {},
   "outputs": [],
   "source": [
    "import selenium\n",
    "from selenium import webdriver\n",
    "import pandas as pd\n",
    "import warnings\n",
    "warnings.filterwarnings(\"ignore\")"
   ]
  },
  {
   "cell_type": "code",
   "execution_count": 3,
   "id": "d6bea550",
   "metadata": {},
   "outputs": [],
   "source": [
    "driver = webdriver.Chrome(r'C:\\Users\\Teja\\Desktop\\DATA TRAINED\\FLIP ROBO\\chromedriver.exe')"
   ]
  },
  {
   "cell_type": "code",
   "execution_count": 4,
   "id": "319af0b4",
   "metadata": {},
   "outputs": [],
   "source": [
    "url = \"https://www.flipkart.com/\"\n",
    "driver.get(url)"
   ]
  },
  {
   "cell_type": "code",
   "execution_count": 5,
   "id": "6f79da66",
   "metadata": {},
   "outputs": [
    {
     "data": {
      "text/plain": [
       "<selenium.webdriver.remote.webelement.WebElement (session=\"a9d4e01709cc528fc3c8256d2a71e7d6\", element=\"2c9a9f4d-6dce-48a1-b327-00e5116afe4a\")>"
      ]
     },
     "execution_count": 5,
     "metadata": {},
     "output_type": "execute_result"
    }
   ],
   "source": [
    "search_sneakers = driver.find_element_by_class_name(\"_3704LK\")\n",
    "search_sneakers"
   ]
  },
  {
   "cell_type": "code",
   "execution_count": 6,
   "id": "cfe351da",
   "metadata": {},
   "outputs": [],
   "source": [
    "search_sneakers.send_keys(\"sneakers\")"
   ]
  },
  {
   "cell_type": "code",
   "execution_count": 7,
   "id": "6c594de7",
   "metadata": {},
   "outputs": [
    {
     "data": {
      "text/plain": [
       "<selenium.webdriver.remote.webelement.WebElement (session=\"a9d4e01709cc528fc3c8256d2a71e7d6\", element=\"2b7c0db7-350e-48c3-b5aa-d3b2815cd57e\")>"
      ]
     },
     "execution_count": 7,
     "metadata": {},
     "output_type": "execute_result"
    }
   ],
   "source": [
    "search_btn = driver.find_element_by_class_name(\"_34RNph\")\n",
    "search_btn"
   ]
  },
  {
   "cell_type": "code",
   "execution_count": 8,
   "id": "7d3ffe2c",
   "metadata": {},
   "outputs": [],
   "source": [
    "search_btn.click()"
   ]
  },
  {
   "cell_type": "code",
   "execution_count": 9,
   "id": "e9d08e60",
   "metadata": {},
   "outputs": [
    {
     "data": {
      "text/plain": [
       "[<selenium.webdriver.remote.webelement.WebElement (session=\"a9d4e01709cc528fc3c8256d2a71e7d6\", element=\"7efdd4e3-d7a7-4b19-a3ca-93400776b16d\")>,\n",
       " <selenium.webdriver.remote.webelement.WebElement (session=\"a9d4e01709cc528fc3c8256d2a71e7d6\", element=\"1ef14f72-2e0c-4353-bca4-f4e75810ec07\")>,\n",
       " <selenium.webdriver.remote.webelement.WebElement (session=\"a9d4e01709cc528fc3c8256d2a71e7d6\", element=\"4eb20c55-eae3-4ff7-8815-6d0c4d5d835d\")>,\n",
       " <selenium.webdriver.remote.webelement.WebElement (session=\"a9d4e01709cc528fc3c8256d2a71e7d6\", element=\"87720c8c-c362-46bc-85e9-3995908be0e8\")>,\n",
       " <selenium.webdriver.remote.webelement.WebElement (session=\"a9d4e01709cc528fc3c8256d2a71e7d6\", element=\"1ca97aca-08d4-473e-9094-ede417d617b9\")>,\n",
       " <selenium.webdriver.remote.webelement.WebElement (session=\"a9d4e01709cc528fc3c8256d2a71e7d6\", element=\"eec85652-de88-4bae-8edc-479257120bfc\")>,\n",
       " <selenium.webdriver.remote.webelement.WebElement (session=\"a9d4e01709cc528fc3c8256d2a71e7d6\", element=\"cec5b023-b892-4cdb-a119-945bd3cd3d8d\")>,\n",
       " <selenium.webdriver.remote.webelement.WebElement (session=\"a9d4e01709cc528fc3c8256d2a71e7d6\", element=\"03ef14e9-2ac4-4252-9a3f-6d8b99e09ad8\")>,\n",
       " <selenium.webdriver.remote.webelement.WebElement (session=\"a9d4e01709cc528fc3c8256d2a71e7d6\", element=\"2e5d1223-9710-433a-b86c-68a6dd6ed64a\")>,\n",
       " <selenium.webdriver.remote.webelement.WebElement (session=\"a9d4e01709cc528fc3c8256d2a71e7d6\", element=\"0b04e935-7d7f-4def-ac09-10d715d0c91a\")>,\n",
       " <selenium.webdriver.remote.webelement.WebElement (session=\"a9d4e01709cc528fc3c8256d2a71e7d6\", element=\"19e2c792-46f8-44bd-b584-a843c6f42a6f\")>,\n",
       " <selenium.webdriver.remote.webelement.WebElement (session=\"a9d4e01709cc528fc3c8256d2a71e7d6\", element=\"0edf9db4-49d6-4610-aca9-e04bf3a4e550\")>,\n",
       " <selenium.webdriver.remote.webelement.WebElement (session=\"a9d4e01709cc528fc3c8256d2a71e7d6\", element=\"f995b746-0388-4c2f-a926-2197c57f2ebb\")>,\n",
       " <selenium.webdriver.remote.webelement.WebElement (session=\"a9d4e01709cc528fc3c8256d2a71e7d6\", element=\"743726aa-0294-4d7d-aa0e-03c55480cac5\")>,\n",
       " <selenium.webdriver.remote.webelement.WebElement (session=\"a9d4e01709cc528fc3c8256d2a71e7d6\", element=\"344bbdc8-963d-44f8-b7a6-f09595bb1f19\")>,\n",
       " <selenium.webdriver.remote.webelement.WebElement (session=\"a9d4e01709cc528fc3c8256d2a71e7d6\", element=\"12c223cd-9262-4f2b-9d1d-7ddcd3d1aebe\")>,\n",
       " <selenium.webdriver.remote.webelement.WebElement (session=\"a9d4e01709cc528fc3c8256d2a71e7d6\", element=\"e2ffacdf-bced-46df-b5e0-9898548a3ee3\")>,\n",
       " <selenium.webdriver.remote.webelement.WebElement (session=\"a9d4e01709cc528fc3c8256d2a71e7d6\", element=\"a703a88e-1132-4007-adc6-fdf14d4bd3a5\")>,\n",
       " <selenium.webdriver.remote.webelement.WebElement (session=\"a9d4e01709cc528fc3c8256d2a71e7d6\", element=\"6a683a7e-53de-45e1-82e5-3bb480745b8f\")>,\n",
       " <selenium.webdriver.remote.webelement.WebElement (session=\"a9d4e01709cc528fc3c8256d2a71e7d6\", element=\"8cb474b5-d3e5-4809-9664-8685e17ac703\")>,\n",
       " <selenium.webdriver.remote.webelement.WebElement (session=\"a9d4e01709cc528fc3c8256d2a71e7d6\", element=\"ed27b7f9-3631-49d2-92ff-0edd37d73132\")>,\n",
       " <selenium.webdriver.remote.webelement.WebElement (session=\"a9d4e01709cc528fc3c8256d2a71e7d6\", element=\"8e79ce9d-fcf4-4290-9677-8536e04c928c\")>,\n",
       " <selenium.webdriver.remote.webelement.WebElement (session=\"a9d4e01709cc528fc3c8256d2a71e7d6\", element=\"659dbc69-5106-4a70-af40-726eaf876049\")>,\n",
       " <selenium.webdriver.remote.webelement.WebElement (session=\"a9d4e01709cc528fc3c8256d2a71e7d6\", element=\"4b7cb507-f100-47ce-994d-210fe62c82a7\")>,\n",
       " <selenium.webdriver.remote.webelement.WebElement (session=\"a9d4e01709cc528fc3c8256d2a71e7d6\", element=\"24de83df-9e92-43b9-9bc3-b036a658f3c1\")>,\n",
       " <selenium.webdriver.remote.webelement.WebElement (session=\"a9d4e01709cc528fc3c8256d2a71e7d6\", element=\"6bfff7be-8c7d-4298-bc66-906e3054bcd5\")>,\n",
       " <selenium.webdriver.remote.webelement.WebElement (session=\"a9d4e01709cc528fc3c8256d2a71e7d6\", element=\"9cf7882b-24e7-4da7-a285-7171f5d8056b\")>,\n",
       " <selenium.webdriver.remote.webelement.WebElement (session=\"a9d4e01709cc528fc3c8256d2a71e7d6\", element=\"dbeec956-7712-4f81-a7c2-30c84e93f630\")>,\n",
       " <selenium.webdriver.remote.webelement.WebElement (session=\"a9d4e01709cc528fc3c8256d2a71e7d6\", element=\"81ede6bd-7f6e-4075-9789-137ef8e0921f\")>,\n",
       " <selenium.webdriver.remote.webelement.WebElement (session=\"a9d4e01709cc528fc3c8256d2a71e7d6\", element=\"21dc04a4-70dc-4e56-86ed-7aac1d357faa\")>,\n",
       " <selenium.webdriver.remote.webelement.WebElement (session=\"a9d4e01709cc528fc3c8256d2a71e7d6\", element=\"abcc3edd-d34e-4127-a072-9f5d5d44aa0a\")>,\n",
       " <selenium.webdriver.remote.webelement.WebElement (session=\"a9d4e01709cc528fc3c8256d2a71e7d6\", element=\"48db6d55-bd30-45ae-b051-206727e892c0\")>,\n",
       " <selenium.webdriver.remote.webelement.WebElement (session=\"a9d4e01709cc528fc3c8256d2a71e7d6\", element=\"e899b22c-e722-4ffe-89b4-653c645938b5\")>,\n",
       " <selenium.webdriver.remote.webelement.WebElement (session=\"a9d4e01709cc528fc3c8256d2a71e7d6\", element=\"16e924bd-4324-4572-b730-77909f526ea4\")>,\n",
       " <selenium.webdriver.remote.webelement.WebElement (session=\"a9d4e01709cc528fc3c8256d2a71e7d6\", element=\"d1578892-f9ac-41b2-9c98-589417872b85\")>,\n",
       " <selenium.webdriver.remote.webelement.WebElement (session=\"a9d4e01709cc528fc3c8256d2a71e7d6\", element=\"6dc9a0dd-cd09-4828-83ea-c54e85aaa744\")>,\n",
       " <selenium.webdriver.remote.webelement.WebElement (session=\"a9d4e01709cc528fc3c8256d2a71e7d6\", element=\"d85cbb81-78f5-4c04-a861-25c3cf3d1843\")>,\n",
       " <selenium.webdriver.remote.webelement.WebElement (session=\"a9d4e01709cc528fc3c8256d2a71e7d6\", element=\"50f42d91-901c-4cd9-b2b6-abde8fb75e12\")>,\n",
       " <selenium.webdriver.remote.webelement.WebElement (session=\"a9d4e01709cc528fc3c8256d2a71e7d6\", element=\"f0500acf-8d17-4d2f-be8d-16d0b3658272\")>,\n",
       " <selenium.webdriver.remote.webelement.WebElement (session=\"a9d4e01709cc528fc3c8256d2a71e7d6\", element=\"0b2e43e6-4b3e-424a-9d5a-ab124153887e\")>]"
      ]
     },
     "execution_count": 9,
     "metadata": {},
     "output_type": "execute_result"
    }
   ],
   "source": [
    "page1_brand = driver.find_elements_by_class_name(\"_2WkVRV\")\n",
    "page1_brand"
   ]
  },
  {
   "cell_type": "code",
   "execution_count": 10,
   "id": "0c0893cf",
   "metadata": {},
   "outputs": [
    {
     "data": {
      "text/plain": [
       "['Echor',\n",
       " 'GVSSHOES',\n",
       " 'BRUTON',\n",
       " 'Chevit',\n",
       " 'Labbin',\n",
       " 'BRUTON',\n",
       " 'BRUTON',\n",
       " 'Labbin',\n",
       " 'World Wear Footwear',\n",
       " 'CLYMB',\n",
       " 'luxury fashion',\n",
       " 'HRX by Hrithik Roshan',\n",
       " 'BRUTON',\n",
       " 'SCATCHITE',\n",
       " 'RapidBox',\n",
       " 'RapidBox',\n",
       " 'BRUTON',\n",
       " 'BIRDE',\n",
       " 'PUMA',\n",
       " 'Strollin',\n",
       " 'Rzisbo',\n",
       " 'CLYMB',\n",
       " 'DRESTA',\n",
       " 'SiR CORBETT',\n",
       " 'Kraasa',\n",
       " 'Shoes Bank',\n",
       " 'Chevit',\n",
       " 'HRX by Hrithik Roshan',\n",
       " 'Noztile',\n",
       " 'World Wear Footwear',\n",
       " 'URBANBOX',\n",
       " 'RapidBox',\n",
       " 'ASTEROID',\n",
       " 'Xtoon',\n",
       " 'aadi',\n",
       " 'HRX by Hrithik Roshan',\n",
       " 'Numenzo',\n",
       " 'CLYMB',\n",
       " 'BRUTON',\n",
       " 'HRX by Hrithik Roshan']"
      ]
     },
     "execution_count": 10,
     "metadata": {},
     "output_type": "execute_result"
    }
   ],
   "source": [
    "brands1 = []\n",
    "\n",
    "for i in page1_brand:\n",
    "    brands1.append(i.text)\n",
    "brands1"
   ]
  },
  {
   "cell_type": "code",
   "execution_count": 11,
   "id": "e8680026",
   "metadata": {},
   "outputs": [
    {
     "data": {
      "text/plain": [
       "[<selenium.webdriver.remote.webelement.WebElement (session=\"a9d4e01709cc528fc3c8256d2a71e7d6\", element=\"7f3b3f00-be98-41da-932c-bd909f81a694\")>,\n",
       " <selenium.webdriver.remote.webelement.WebElement (session=\"a9d4e01709cc528fc3c8256d2a71e7d6\", element=\"c29e7fb5-1f80-49d5-8a61-08561ba7172f\")>,\n",
       " <selenium.webdriver.remote.webelement.WebElement (session=\"a9d4e01709cc528fc3c8256d2a71e7d6\", element=\"6fcb1e27-6084-4b45-a5b4-cf635bdbf53a\")>,\n",
       " <selenium.webdriver.remote.webelement.WebElement (session=\"a9d4e01709cc528fc3c8256d2a71e7d6\", element=\"15c97a72-0a7a-4770-beab-4343a63b9598\")>,\n",
       " <selenium.webdriver.remote.webelement.WebElement (session=\"a9d4e01709cc528fc3c8256d2a71e7d6\", element=\"4b6ec5ea-c384-48f5-b664-3693e0bb8317\")>,\n",
       " <selenium.webdriver.remote.webelement.WebElement (session=\"a9d4e01709cc528fc3c8256d2a71e7d6\", element=\"b7cefe54-9729-45d7-b7d5-f99543a67775\")>,\n",
       " <selenium.webdriver.remote.webelement.WebElement (session=\"a9d4e01709cc528fc3c8256d2a71e7d6\", element=\"5aa8209a-e8a0-49c2-b814-51d61f3392a2\")>,\n",
       " <selenium.webdriver.remote.webelement.WebElement (session=\"a9d4e01709cc528fc3c8256d2a71e7d6\", element=\"3344b512-7a8e-438b-bc40-00f7b000462e\")>,\n",
       " <selenium.webdriver.remote.webelement.WebElement (session=\"a9d4e01709cc528fc3c8256d2a71e7d6\", element=\"731a8b27-dfd8-4cc9-a3ae-29418cc881c2\")>,\n",
       " <selenium.webdriver.remote.webelement.WebElement (session=\"a9d4e01709cc528fc3c8256d2a71e7d6\", element=\"8e9a6e09-2378-49a5-9b82-c6d37834ad6d\")>,\n",
       " <selenium.webdriver.remote.webelement.WebElement (session=\"a9d4e01709cc528fc3c8256d2a71e7d6\", element=\"9a530ee7-7a1e-4aba-af98-77b79578bfd3\")>,\n",
       " <selenium.webdriver.remote.webelement.WebElement (session=\"a9d4e01709cc528fc3c8256d2a71e7d6\", element=\"5abb527b-fdf6-4d49-a4aa-2dcdbd2d5b76\")>,\n",
       " <selenium.webdriver.remote.webelement.WebElement (session=\"a9d4e01709cc528fc3c8256d2a71e7d6\", element=\"a27562ca-45ac-4c6b-9a51-704649e92d48\")>,\n",
       " <selenium.webdriver.remote.webelement.WebElement (session=\"a9d4e01709cc528fc3c8256d2a71e7d6\", element=\"1cebca71-d1e9-4108-bfbf-6d2bb6eef64c\")>,\n",
       " <selenium.webdriver.remote.webelement.WebElement (session=\"a9d4e01709cc528fc3c8256d2a71e7d6\", element=\"68d6e471-f2f7-44be-8110-7ec7b5a33cb6\")>,\n",
       " <selenium.webdriver.remote.webelement.WebElement (session=\"a9d4e01709cc528fc3c8256d2a71e7d6\", element=\"66322ab3-d499-483f-8779-3dffe129454a\")>,\n",
       " <selenium.webdriver.remote.webelement.WebElement (session=\"a9d4e01709cc528fc3c8256d2a71e7d6\", element=\"04429a91-2b50-42bf-9e1f-39049b1b28d4\")>,\n",
       " <selenium.webdriver.remote.webelement.WebElement (session=\"a9d4e01709cc528fc3c8256d2a71e7d6\", element=\"c20a2188-3ce9-4a5b-948f-04ec3d892cea\")>,\n",
       " <selenium.webdriver.remote.webelement.WebElement (session=\"a9d4e01709cc528fc3c8256d2a71e7d6\", element=\"1b5ab0db-33ce-4f98-845f-c68b293d7fad\")>,\n",
       " <selenium.webdriver.remote.webelement.WebElement (session=\"a9d4e01709cc528fc3c8256d2a71e7d6\", element=\"36c76a95-1797-4563-84d5-9fc9a2f91163\")>,\n",
       " <selenium.webdriver.remote.webelement.WebElement (session=\"a9d4e01709cc528fc3c8256d2a71e7d6\", element=\"a391eee6-1ce7-4a78-98a6-675ee176a47f\")>,\n",
       " <selenium.webdriver.remote.webelement.WebElement (session=\"a9d4e01709cc528fc3c8256d2a71e7d6\", element=\"ef6f6381-6216-4ecc-ada8-0b717b907d91\")>,\n",
       " <selenium.webdriver.remote.webelement.WebElement (session=\"a9d4e01709cc528fc3c8256d2a71e7d6\", element=\"7f34057a-bf12-4541-bfe8-7b62f5ef11f8\")>,\n",
       " <selenium.webdriver.remote.webelement.WebElement (session=\"a9d4e01709cc528fc3c8256d2a71e7d6\", element=\"f2dcfb0f-013b-4b2e-b80b-d9973c67fb5c\")>,\n",
       " <selenium.webdriver.remote.webelement.WebElement (session=\"a9d4e01709cc528fc3c8256d2a71e7d6\", element=\"2f3e9fcf-faa8-495e-ae4b-2ca330eb38e0\")>,\n",
       " <selenium.webdriver.remote.webelement.WebElement (session=\"a9d4e01709cc528fc3c8256d2a71e7d6\", element=\"07242715-fa8a-4c18-9649-4930f127b4b2\")>,\n",
       " <selenium.webdriver.remote.webelement.WebElement (session=\"a9d4e01709cc528fc3c8256d2a71e7d6\", element=\"14e625c7-83cd-487a-8267-318dc946c37d\")>,\n",
       " <selenium.webdriver.remote.webelement.WebElement (session=\"a9d4e01709cc528fc3c8256d2a71e7d6\", element=\"5f3b1474-d9f4-4125-82df-3d9c17b60437\")>,\n",
       " <selenium.webdriver.remote.webelement.WebElement (session=\"a9d4e01709cc528fc3c8256d2a71e7d6\", element=\"2c102a82-2a11-4fe6-a022-832487ca77fd\")>,\n",
       " <selenium.webdriver.remote.webelement.WebElement (session=\"a9d4e01709cc528fc3c8256d2a71e7d6\", element=\"4f58b4fc-19ca-4e72-ad8d-bb909500dd3a\")>,\n",
       " <selenium.webdriver.remote.webelement.WebElement (session=\"a9d4e01709cc528fc3c8256d2a71e7d6\", element=\"9011ad15-2427-47df-bac7-2c1c6d5ba54b\")>,\n",
       " <selenium.webdriver.remote.webelement.WebElement (session=\"a9d4e01709cc528fc3c8256d2a71e7d6\", element=\"2e7038f0-e84a-4ec3-9510-d664da1a7481\")>,\n",
       " <selenium.webdriver.remote.webelement.WebElement (session=\"a9d4e01709cc528fc3c8256d2a71e7d6\", element=\"5b2d6ea0-f621-4d1b-b33a-43af6c559936\")>,\n",
       " <selenium.webdriver.remote.webelement.WebElement (session=\"a9d4e01709cc528fc3c8256d2a71e7d6\", element=\"633002a1-948f-4234-9f67-5dbcd5a0f877\")>,\n",
       " <selenium.webdriver.remote.webelement.WebElement (session=\"a9d4e01709cc528fc3c8256d2a71e7d6\", element=\"a7a3ba64-8206-4504-af4b-1e1d49805a1e\")>,\n",
       " <selenium.webdriver.remote.webelement.WebElement (session=\"a9d4e01709cc528fc3c8256d2a71e7d6\", element=\"abd5d7d2-bd09-420b-a5fc-fc2aa2c27f58\")>,\n",
       " <selenium.webdriver.remote.webelement.WebElement (session=\"a9d4e01709cc528fc3c8256d2a71e7d6\", element=\"1e549055-8e82-42ff-902d-3ac15ee628a5\")>,\n",
       " <selenium.webdriver.remote.webelement.WebElement (session=\"a9d4e01709cc528fc3c8256d2a71e7d6\", element=\"652db8cf-a4be-4993-9566-063f761a4009\")>,\n",
       " <selenium.webdriver.remote.webelement.WebElement (session=\"a9d4e01709cc528fc3c8256d2a71e7d6\", element=\"6f599394-e938-4575-bafe-048532f1959e\")>,\n",
       " <selenium.webdriver.remote.webelement.WebElement (session=\"a9d4e01709cc528fc3c8256d2a71e7d6\", element=\"f2d379f3-8d7a-4af5-b58e-414a26e9121e\")>]"
      ]
     },
     "execution_count": 11,
     "metadata": {},
     "output_type": "execute_result"
    }
   ],
   "source": [
    "page1_dis = driver.find_elements_by_class_name(\"IRpwTa\")\n",
    "page1_dis"
   ]
  },
  {
   "cell_type": "code",
   "execution_count": 12,
   "id": "a3942b77",
   "metadata": {},
   "outputs": [
    {
     "data": {
      "text/plain": [
       "[\"Men's Sneakers Fashion Lightweight Running Shoes Tennis...\",\n",
       " 'Sneakers For Men',\n",
       " 'Combo Pack Of 4 Casual Shoes Loafer Shoes Sneakers For ...',\n",
       " 'Super Stylish & Trendy Combo Pack of 02 Pairs Sneakers ...',\n",
       " 'Sneakers For Men',\n",
       " 'Lightweight Pack Of 1 Trendy Sneakers Sneakers Sneakers...',\n",
       " 'Modern Trendy Sneakers Shoes Sneakers For Men',\n",
       " 'Sneakers For Men',\n",
       " '5011-Latest Collection Stylish Casual Loafer Sneakers S...',\n",
       " \"Perfect Sports Shoes for Men's Running ,Cycling & Trekk...\",\n",
       " 'Sneakers For Men',\n",
       " 'Men White Printed Sneakers Sneakers For Men',\n",
       " 'Combo Pack Of 2 Latest Stylish Casual Shoes for Men Lac...',\n",
       " 'Sneakers Sneakers For Men',\n",
       " 'Sneakers For Men',\n",
       " 'Sneakers For Men',\n",
       " 'Modern & Trendy Collection Combo Pack of 02 Shoes for M...',\n",
       " 'Sports Running Shoes Sneakers For Men',\n",
       " 'Ferrari Race X-Ray 2 Sneakers For Men',\n",
       " 'Sneakers For Men',\n",
       " 'Sneakers For Men',\n",
       " 'Clymb Training & Gym Shoes For Men Sneakers For Men',\n",
       " \"Original Luxury Branded Fashionable Men's Casual Walkin...\",\n",
       " 'Sneakers For Men',\n",
       " 'Shark-41 Sneakers For Men',\n",
       " \"White Sneaker For Men's/Boy's Sneakers For Men\",\n",
       " 'Perfect & Affordable Combo Pack of 02 Pairs Sneakers Ou...',\n",
       " 'Men White Red Solid Sneakers Sneakers For Men',\n",
       " 'Sneakers For Men',\n",
       " 'Sneakers For Men',\n",
       " 'Sneakers Sneakers For Men',\n",
       " 'Stylish & Trendy Sneakers For Men',\n",
       " \"Original Luxury Branded Fashionable Men's Casual Walkin...\",\n",
       " \"white Casual shoes,Sneakers for men's Sneakers For Men\",\n",
       " 'Sneakers For Men',\n",
       " 'Sneakers For Men',\n",
       " '411 Casual Sneakers For Men',\n",
       " 'Sneakers For Men',\n",
       " 'Lattest Sneakers Shoe Sneakers For Men',\n",
       " 'Sneakers For Men']"
      ]
     },
     "execution_count": 12,
     "metadata": {},
     "output_type": "execute_result"
    }
   ],
   "source": [
    "dis1 = []\n",
    "\n",
    "for a in page1_dis:\n",
    "    dis1.append(a.text)\n",
    "dis1"
   ]
  },
  {
   "cell_type": "code",
   "execution_count": 13,
   "id": "02273ced",
   "metadata": {},
   "outputs": [
    {
     "data": {
      "text/plain": [
       "40"
      ]
     },
     "execution_count": 13,
     "metadata": {},
     "output_type": "execute_result"
    }
   ],
   "source": [
    "page1_prices = driver.find_elements_by_xpath('//div[@class=\"_30jeq3\"]')\n",
    "len(page1_prices)"
   ]
  },
  {
   "cell_type": "code",
   "execution_count": 14,
   "id": "26edb4c5",
   "metadata": {},
   "outputs": [
    {
     "data": {
      "text/plain": [
       "['₹499',\n",
       " '₹449',\n",
       " '₹424',\n",
       " '₹404',\n",
       " '₹474',\n",
       " '₹189',\n",
       " '₹259',\n",
       " '₹474',\n",
       " '₹199',\n",
       " '₹249',\n",
       " '₹449',\n",
       " '₹2,499',\n",
       " '₹499',\n",
       " '₹377',\n",
       " '₹680',\n",
       " '₹640',\n",
       " '₹424',\n",
       " '₹299',\n",
       " '₹7,859',\n",
       " '₹449',\n",
       " '₹549',\n",
       " '₹249',\n",
       " '₹499',\n",
       " '₹862',\n",
       " '₹444',\n",
       " '₹345',\n",
       " '₹347',\n",
       " '₹2,299',\n",
       " '₹429',\n",
       " '₹259',\n",
       " '₹247',\n",
       " '₹620',\n",
       " '₹474',\n",
       " '₹499',\n",
       " '₹319',\n",
       " '₹2,999',\n",
       " '₹426',\n",
       " '₹664',\n",
       " '₹259',\n",
       " '₹2,199']"
      ]
     },
     "execution_count": 14,
     "metadata": {},
     "output_type": "execute_result"
    }
   ],
   "source": [
    "prices = []\n",
    "for price in page1_prices:\n",
    "    prices.append(price.text)\n",
    "prices"
   ]
  },
  {
   "cell_type": "code",
   "execution_count": 15,
   "id": "0df1f290",
   "metadata": {},
   "outputs": [
    {
     "data": {
      "text/plain": [
       "40"
      ]
     },
     "execution_count": 15,
     "metadata": {},
     "output_type": "execute_result"
    }
   ],
   "source": [
    "page1_discounts = driver.find_elements_by_xpath('//div[@class=\"_3Ay6Sb\"]')\n",
    "len(page1_discounts)"
   ]
  },
  {
   "cell_type": "code",
   "execution_count": 16,
   "id": "c180a678",
   "metadata": {},
   "outputs": [
    {
     "data": {
      "text/plain": [
       "['50% off',\n",
       " '55% off',\n",
       " '87% off',\n",
       " '74% off',\n",
       " '52% off',\n",
       " '68% off',\n",
       " '80% off',\n",
       " '52% off',\n",
       " '60% off',\n",
       " '75% off',\n",
       " '65% off',\n",
       " '41% off',\n",
       " '80% off',\n",
       " '62% off',\n",
       " '31% off',\n",
       " '35% off',\n",
       " '83% off',\n",
       " '40% off',\n",
       " '1% off',\n",
       " '55% off',\n",
       " '45% off',\n",
       " '75% off',\n",
       " '75% off',\n",
       " '56% off',\n",
       " '55% off',\n",
       " '65% off',\n",
       " '80% off',\n",
       " '41% off',\n",
       " '78% off',\n",
       " '48% off',\n",
       " '75% off',\n",
       " '37% off',\n",
       " '76% off',\n",
       " '66% off',\n",
       " '68% off',\n",
       " '33% off',\n",
       " '78% off',\n",
       " '55% off',\n",
       " '80% off',\n",
       " '38% off']"
      ]
     },
     "execution_count": 16,
     "metadata": {},
     "output_type": "execute_result"
    }
   ],
   "source": [
    "discounts1 = []\n",
    "for discount1 in page1_discounts:\n",
    "    discounts1.append(discount1.text)\n",
    "discounts1"
   ]
  },
  {
   "cell_type": "code",
   "execution_count": 17,
   "id": "7def2902",
   "metadata": {},
   "outputs": [
    {
     "data": {
      "text/plain": [
       "<selenium.webdriver.remote.webelement.WebElement (session=\"a9d4e01709cc528fc3c8256d2a71e7d6\", element=\"fda6c15d-f998-4afa-868e-7b50f4b187f1\")>"
      ]
     },
     "execution_count": 17,
     "metadata": {},
     "output_type": "execute_result"
    }
   ],
   "source": [
    "search_btn1 = driver.find_element_by_xpath(\"/html/body/div[1]/div/div[3]/div[1]/div[2]/div[12]/div/div/nav/a[2]\")\n",
    "search_btn1"
   ]
  },
  {
   "cell_type": "code",
   "execution_count": 18,
   "id": "17054d51",
   "metadata": {},
   "outputs": [],
   "source": [
    "search_btn1.click()"
   ]
  },
  {
   "cell_type": "code",
   "execution_count": 20,
   "id": "fb6c36de",
   "metadata": {},
   "outputs": [
    {
     "data": {
      "text/plain": [
       "['PUMA',\n",
       " 'PUMA',\n",
       " 'World Wear Footwear',\n",
       " 'HOTSTYLE',\n",
       " 'Chevit',\n",
       " 'aadi',\n",
       " 'aadi',\n",
       " 'HRX by Hrithik Roshan',\n",
       " 'ASTEROID',\n",
       " 'BRUTON',\n",
       " 'Robbie jones',\n",
       " 'HOTSTYLE',\n",
       " 'Magnolia',\n",
       " 'HOTSTYLE',\n",
       " 'Kraasa',\n",
       " 'WELDONE',\n",
       " 'aadi',\n",
       " 'Arohi',\n",
       " 'PUMA',\n",
       " 'ERIX',\n",
       " 'Chevit',\n",
       " 'Robbie jones',\n",
       " 'Numenzo',\n",
       " 'obot',\n",
       " 'ASIAN',\n",
       " 'India hub',\n",
       " 'D-SNEAKERZ',\n",
       " 'Dixed',\n",
       " 'bluemaker',\n",
       " 'Zsyto',\n",
       " 'PUMA',\n",
       " 'Dixed',\n",
       " 'corsac',\n",
       " 'KNIGHT WALKERS',\n",
       " 'Echor',\n",
       " 'Aragats',\n",
       " 'BRUTON',\n",
       " 'Chevit',\n",
       " 'Vellinto',\n",
       " 'CALCADOS']"
      ]
     },
     "execution_count": 20,
     "metadata": {},
     "output_type": "execute_result"
    }
   ],
   "source": [
    "page2_brand = driver.find_elements_by_class_name(\"_2WkVRV\")\n",
    "brandspage2 = []\n",
    "\n",
    "for c in page2_brand:\n",
    "    brandspage2.append(c.text)\n",
    "brandspage2"
   ]
  },
  {
   "cell_type": "code",
   "execution_count": 21,
   "id": "d0d21643",
   "metadata": {},
   "outputs": [
    {
     "data": {
      "text/plain": [
       "['Ontario Sneakers For Men',\n",
       " 'X-Ray Millenium Sneakers For Men',\n",
       " 'Men 5014 Latest Collection Stylish Casual Sports Loafer...',\n",
       " 'Sneakers For Men',\n",
       " '516 Trendy Star Perfect Sneakers For Men',\n",
       " 'Sneakers For Men',\n",
       " 'Sneakers For Men',\n",
       " 'Sneakers For Men',\n",
       " \"Original Luxury Branded Fashionable Men's Casual Walkin...\",\n",
       " 'CUBIC_1 Sneakers For Men',\n",
       " 'Sneakers For Men',\n",
       " 'Sneakers For Men',\n",
       " 'Sneakers For Men',\n",
       " 'Sneakers For Men',\n",
       " 'Series 7 Sneakers For Men',\n",
       " 'Fashion Sneakers For Men',\n",
       " 'Sneakers For Men',\n",
       " 'Sneakers For Men',\n",
       " 'RBR X-Ray 2 Sneakers For Men',\n",
       " 'men and boys Fashion black and red color Outdoor Canvas...',\n",
       " '494 Perfect Sports Shoes for Running Training Hikking &...',\n",
       " 'Sneakers For Men',\n",
       " 'White Sneaker For Men Sneakers For Men',\n",
       " 'casual shoes for men sneakers for boys party wear outdo...',\n",
       " 'Skypy-31 Walking Shoes,Training Shoes,Sneakers,Loafers,...',\n",
       " 'Luxury Fashionable casual sneaker shoes Sneakers For Me...',\n",
       " \"Casual , Partywear Sneakers Shoes For Men's And Boys Wh...\",\n",
       " 'Sneakers For Men',\n",
       " 'casual for men Sneakers For Men',\n",
       " 'Sneakers For Men',\n",
       " 'X-Ray 2 Square Sneakers For Men',\n",
       " 'Sneakers For Men',\n",
       " 'STYLISH MENS BLACK AND WHITE SNEAKER Sneakers For Men',\n",
       " 'Sneakers For Men',\n",
       " \"Men's Sneakers Fashion Lightweight Running Shoes Tennis...\",\n",
       " 'Casual Sneakers For Men',\n",
       " 'Modern & Trendy Collection Combo Pack of 02 Shoes for M...',\n",
       " \"Men's Combo Pack of 02 Shoes for Men Casual Sneakers Ou...\",\n",
       " 'Casual Sneakrs For Men Sneakers For Men',\n",
       " 'Modern Trendy Shoes Combo pack of 4 Sneakers For Men']"
      ]
     },
     "execution_count": 21,
     "metadata": {},
     "output_type": "execute_result"
    }
   ],
   "source": [
    "page2_dis = driver.find_elements_by_class_name(\"IRpwTa\")\n",
    "dispage2 = []\n",
    "\n",
    "for d in page2_dis:\n",
    "    dispage2.append(d.text)\n",
    "dispage2"
   ]
  },
  {
   "cell_type": "code",
   "execution_count": 22,
   "id": "a8f3785c",
   "metadata": {},
   "outputs": [
    {
     "data": {
      "text/plain": [
       "['₹1,047',\n",
       " '₹2,998',\n",
       " '₹259',\n",
       " '₹194',\n",
       " '₹180',\n",
       " '₹319',\n",
       " '₹399',\n",
       " '₹2,299',\n",
       " '₹474',\n",
       " '₹259',\n",
       " '₹499',\n",
       " '₹245',\n",
       " '₹472',\n",
       " '₹245',\n",
       " '₹444',\n",
       " '₹245',\n",
       " '₹449',\n",
       " '₹435',\n",
       " '₹3,236',\n",
       " '₹499',\n",
       " '₹205',\n",
       " '₹474',\n",
       " '₹455',\n",
       " '₹446',\n",
       " '₹549',\n",
       " '₹448',\n",
       " '₹299',\n",
       " '₹599',\n",
       " '₹449',\n",
       " '₹328',\n",
       " '₹2,481',\n",
       " '₹599',\n",
       " '₹499',\n",
       " '₹599',\n",
       " '₹599',\n",
       " '₹549',\n",
       " '₹447',\n",
       " '₹288',\n",
       " '₹599',\n",
       " '₹849']"
      ]
     },
     "execution_count": 22,
     "metadata": {},
     "output_type": "execute_result"
    }
   ],
   "source": [
    "page2_prices = driver.find_elements_by_xpath('//div[@class=\"_30jeq3\"]')\n",
    "\n",
    "prices2 = []\n",
    "for price2 in page2_prices:\n",
    "    prices2.append(price2.text)\n",
    "prices2"
   ]
  },
  {
   "cell_type": "code",
   "execution_count": 23,
   "id": "69e656a0",
   "metadata": {},
   "outputs": [
    {
     "data": {
      "text/plain": [
       "['65% off',\n",
       " '57% off',\n",
       " '48% off',\n",
       " '61% off',\n",
       " '77% off',\n",
       " '84% off',\n",
       " '80% off',\n",
       " '39% off',\n",
       " '52% off',\n",
       " '80% off',\n",
       " '50% off',\n",
       " '50% off',\n",
       " '52% off',\n",
       " '75% off',\n",
       " '55% off',\n",
       " '50% off',\n",
       " '77% off',\n",
       " '56% off',\n",
       " '59% off',\n",
       " '66% off',\n",
       " '79% off',\n",
       " '52% off',\n",
       " '64% off',\n",
       " '77% off',\n",
       " '31% off',\n",
       " '77% off',\n",
       " '54% off',\n",
       " '40% off',\n",
       " '55% off',\n",
       " '74% off',\n",
       " '64% off',\n",
       " '40% off',\n",
       " '66% off',\n",
       " '60% off',\n",
       " '40% off',\n",
       " '45% off',\n",
       " '82% off',\n",
       " '71% off',\n",
       " '53% off',\n",
       " '57% off']"
      ]
     },
     "execution_count": 23,
     "metadata": {},
     "output_type": "execute_result"
    }
   ],
   "source": [
    "page2_discounts = driver.find_elements_by_xpath('//div[@class=\"_3Ay6Sb\"]')\n",
    "\n",
    "discounts2 = []\n",
    "for discount2 in page2_discounts:\n",
    "    discounts2.append(discount2.text)\n",
    "discounts2"
   ]
  },
  {
   "cell_type": "code",
   "execution_count": 26,
   "id": "6c8690b2",
   "metadata": {},
   "outputs": [
    {
     "data": {
      "text/plain": [
       "<selenium.webdriver.remote.webelement.WebElement (session=\"a9d4e01709cc528fc3c8256d2a71e7d6\", element=\"3ae262e7-7407-4d85-bb15-580352a661d4\")>"
      ]
     },
     "execution_count": 26,
     "metadata": {},
     "output_type": "execute_result"
    }
   ],
   "source": [
    "search_btn2 = driver.find_element_by_xpath(\"/html/body/div/div/div[3]/div[1]/div[2]/div[12]/div/div/nav/a[4]\")\n",
    "search_btn2"
   ]
  },
  {
   "cell_type": "code",
   "execution_count": 27,
   "id": "83c3c23e",
   "metadata": {},
   "outputs": [],
   "source": [
    "search_btn2.click()"
   ]
  },
  {
   "cell_type": "code",
   "execution_count": 28,
   "id": "98b4626f",
   "metadata": {},
   "outputs": [
    {
     "data": {
      "text/plain": [
       "['RODDICK SHOES',\n",
       " 'BRUTON',\n",
       " 'Pieds',\n",
       " 'Echor',\n",
       " 'Zorth',\n",
       " 'RODDICK SHOES',\n",
       " 'Trendmode',\n",
       " 'GVSSHOES',\n",
       " 'Echor',\n",
       " 'LE GREEM',\n",
       " 'LE GREEM',\n",
       " 'HRX by Hrithik Roshan',\n",
       " 'World Wear Footwear',\n",
       " 'DUNKASTON',\n",
       " 'Deals4you',\n",
       " 'HOTSTYLE',\n",
       " 'ESSENCE',\n",
       " 'Ktiz',\n",
       " 'Robbie jones',\n",
       " 'RapidBox',\n",
       " 'Chevit',\n",
       " 'aadi',\n",
       " 'BRUTON',\n",
       " 'RapidBox',\n",
       " 'Kraasa',\n",
       " 'BIRDE',\n",
       " 'NIKE',\n",
       " 'Strollin',\n",
       " 'Airland',\n",
       " 'SPARX',\n",
       " 'GUSTO',\n",
       " 'HOTSTYLE',\n",
       " 'Qtsy',\n",
       " 'WHITE WALKERS',\n",
       " 'Robbie jones',\n",
       " 'WELDONE',\n",
       " 'Xtoon',\n",
       " 'RapidBox',\n",
       " 'BIRDE',\n",
       " 'Echor']"
      ]
     },
     "execution_count": 28,
     "metadata": {},
     "output_type": "execute_result"
    }
   ],
   "source": [
    "page3_brand = driver.find_elements_by_class_name(\"_2WkVRV\")\n",
    "brandspage3 = []\n",
    "\n",
    "for d in page3_brand:\n",
    "    brandspage3.append(d.text)\n",
    "brandspage3"
   ]
  },
  {
   "cell_type": "code",
   "execution_count": 29,
   "id": "49aa3965",
   "metadata": {},
   "outputs": [
    {
     "data": {
      "text/plain": [
       "['Fashion Outdoor Canvas Casual Light Weight Lace-up Even...',\n",
       " 'CUBIC_1 Sneakers For Men',\n",
       " 'Sneakers For Men',\n",
       " \"Men's Sneakers Fashion Lightweight Running Shoes Tennis...\",\n",
       " 'New Fashion Outdoor Trendy Lightweight Casual,Canvas St...',\n",
       " 'Fashion Outdoor Canvas Casual Light Weight Lace-up Even...',\n",
       " 'Sneakers For Men',\n",
       " 'Sneakers For Men',\n",
       " \"Men's Sneakers Fashion Lightweight Running Shoes Tennis...\",\n",
       " 'Comfortable & Smart Sneakers For Men',\n",
       " 'Comfortable & Smart Sneakers For Men',\n",
       " 'Men White Printed Sneakers Sneakers For Men',\n",
       " 'Latest Collection-1227 Stylish Casual Sports Sneakers F...',\n",
       " 'Sneakers For Men',\n",
       " 'Sneakers For Men',\n",
       " 'Sneakers For Men',\n",
       " 'Trendy Sneakers For Men',\n",
       " 'Sneakers For Men',\n",
       " 'Casual Sneakers Black Shoes For Men Sneakers For Men',\n",
       " 'Stylish & Trendy Sneakers For Men',\n",
       " 'Unique & Perfect Collection Combo Pack of 02 Shoes for ...',\n",
       " 'Sneakers For Men',\n",
       " 'Combo Pack Of 4 Casual Sneakers For Men',\n",
       " 'Sneakers For Men',\n",
       " 'Casuals, Canvas, Partywear Sneakers For Men',\n",
       " 'Trendy Casual Shoes Sneakers For Men',\n",
       " 'Court Royale 2 Next Nature Sneakers For Men',\n",
       " 'Sneakers For Men',\n",
       " 'Sneakers Shoes For Men Black Sneakers For Men',\n",
       " 'Casual Sneakers Sneakers For Men',\n",
       " 'Sneakers For Men',\n",
       " 'Sneakers For Men',\n",
       " 'Stylish Design Sneakers Shoes Combo For Men & Boys - Pa...',\n",
       " 'Stylish & Trending Outdoor Walking Comfortable Sneakers...',\n",
       " 'Casual Sneakers White Shoes For Men Sneakers For Men',\n",
       " 'Fashion Sneakers For Men',\n",
       " \"white Casual shoes,Sneakers for men's Sneakers For Men\",\n",
       " 'Sneakers For Men',\n",
       " 'Birde Trendy Casual Shoes Sneakers For Men',\n",
       " \"Echor Men's Sneakers Fashion Lightweight Running Shoes ...\"]"
      ]
     },
     "execution_count": 29,
     "metadata": {},
     "output_type": "execute_result"
    }
   ],
   "source": [
    "page3_dis = driver.find_elements_by_class_name(\"IRpwTa\")\n",
    "\n",
    "dispage3 = []\n",
    "\n",
    "for e in page3_dis:\n",
    "    dispage3.append(e.text)\n",
    "dispage3"
   ]
  },
  {
   "cell_type": "code",
   "execution_count": 30,
   "id": "c3c430ce",
   "metadata": {},
   "outputs": [
    {
     "data": {
      "text/plain": [
       "['₹433',\n",
       " '₹279',\n",
       " '₹420',\n",
       " '₹499',\n",
       " '₹435',\n",
       " '₹428',\n",
       " '₹249',\n",
       " '₹449',\n",
       " '₹499',\n",
       " '₹383',\n",
       " '₹383',\n",
       " '₹2,499',\n",
       " '₹259',\n",
       " '₹399',\n",
       " '₹474',\n",
       " '₹194',\n",
       " '₹399',\n",
       " '₹448',\n",
       " '₹428',\n",
       " '₹620',\n",
       " '₹329',\n",
       " '₹484',\n",
       " '₹424',\n",
       " '₹640',\n",
       " '₹444',\n",
       " '₹299',\n",
       " '₹2,717',\n",
       " '₹449',\n",
       " '₹190',\n",
       " '₹1,104',\n",
       " '₹664',\n",
       " '₹245',\n",
       " '₹395',\n",
       " '₹599',\n",
       " '₹499',\n",
       " '₹245',\n",
       " '₹498',\n",
       " '₹640',\n",
       " '₹299',\n",
       " '₹499']"
      ]
     },
     "execution_count": 30,
     "metadata": {},
     "output_type": "execute_result"
    }
   ],
   "source": [
    "page3_prices = driver.find_elements_by_xpath('//div[@class=\"_30jeq3\"]')\n",
    "prices3 = []\n",
    "for price3 in page3_prices:\n",
    "    prices3.append(price3.text)\n",
    "prices3"
   ]
  },
  {
   "cell_type": "code",
   "execution_count": 31,
   "id": "a695033e",
   "metadata": {},
   "outputs": [
    {
     "data": {
      "text/plain": [
       "['56% off',\n",
       " '78% off',\n",
       " '57% off',\n",
       " '50% off',\n",
       " '56% off',\n",
       " '57% off',\n",
       " '64% off',\n",
       " '55% off',\n",
       " '50% off',\n",
       " '61% off',\n",
       " '61% off',\n",
       " '41% off',\n",
       " '48% off',\n",
       " '73% off',\n",
       " '52% off',\n",
       " '61% off',\n",
       " '60% off',\n",
       " '55% off',\n",
       " '57% off',\n",
       " '37% off',\n",
       " '78% off',\n",
       " '75% off',\n",
       " '89% off',\n",
       " '35% off',\n",
       " '55% off',\n",
       " '40% off',\n",
       " '31% off',\n",
       " '55% off',\n",
       " '61% off',\n",
       " '15% off',\n",
       " '55% off',\n",
       " '50% off',\n",
       " '50% off',\n",
       " '50% off',\n",
       " '50% off',\n",
       " '50% off',\n",
       " '50% off',\n",
       " '35% off',\n",
       " '40% off',\n",
       " '66% off']"
      ]
     },
     "execution_count": 31,
     "metadata": {},
     "output_type": "execute_result"
    }
   ],
   "source": [
    "page3_discounts = driver.find_elements_by_xpath('//div[@class=\"_3Ay6Sb\"]')\n",
    "\n",
    "discounts3 = []\n",
    "for discount3 in page3_discounts:\n",
    "    discounts3.append(discount3.text)\n",
    "discounts3"
   ]
  },
  {
   "cell_type": "code",
   "execution_count": null,
   "id": "66ef87a9",
   "metadata": {},
   "outputs": [],
   "source": []
  }
 ],
 "metadata": {
  "kernelspec": {
   "display_name": "Python 3 (ipykernel)",
   "language": "python",
   "name": "python3"
  },
  "language_info": {
   "codemirror_mode": {
    "name": "ipython",
    "version": 3
   },
   "file_extension": ".py",
   "mimetype": "text/x-python",
   "name": "python",
   "nbconvert_exporter": "python",
   "pygments_lexer": "ipython3",
   "version": "3.9.7"
  }
 },
 "nbformat": 4,
 "nbformat_minor": 5
}
